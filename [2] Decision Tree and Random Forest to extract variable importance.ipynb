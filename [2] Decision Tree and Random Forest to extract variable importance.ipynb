{
 "cells": [
  {
   "cell_type": "markdown",
   "metadata": {
    "heading_collapsed": true
   },
   "source": [
    "# Decision tree classifier\n",
    "The notebook describes the decision tree classifier for the model that is being used to get the first pass of potential variables for use in the model.\n",
    "\n",
    "Decision Trees (DTs) are a supervised learning approach that predict target values (endogenous or dependent variables) of responses by deriving information from the features (exogenous or explanatory variables). They can be used in both a regression and a classification context. Classification problems for decision trees are often binary - here we are predicting performance vs. non-performance.\n",
    "\n",
    "Given the loan performance data derived from the previous workbook, the loan specific performance information can help us determine behaviors that can describe good and bad loans, or `PERFORMANCE`.  By dividing the data set into smaller data sets based on the descriptive features, the algorithm iterates until it identifies a small sample containing all data points that fall under one label. Then each feature in the data set becomes a root with leafs as nodes representing the outcomes. \n",
    "\n",
    "Some of the benefits of the approach are:\n",
    "- Ease of interpretation \n",
    "- Requires limited data preparation\n",
    "- No need to normalize or scale the data\n",
    "\n",
    "At the same time:\n",
    "- The risk of overfitting is real\n",
    "- Complex trees are more likely to overfit\n",
    "\n",
    "This can be counterbalanced by limiting the tree depth.  Pre-pruning sets the parameters of a decision tree before modeling it by setting the:\n",
    "- Maximum tree depth\n",
    "- Maximum number of  nodes\n",
    "- Minimum samples at a node split, which controls the size of the terminal nodes\n",
    "- Maximum number of features\n",
    "\n",
    "Given this, the model here will start with the full dataset and limited number of leaves and sets a high splitting threshold."
   ]
  },
  {
   "cell_type": "code",
   "execution_count": 114,
   "metadata": {
    "ExecuteTime": {
     "end_time": "2019-07-10T14:32:23.390081Z",
     "start_time": "2019-07-10T14:32:23.385291Z"
    },
    "hidden": true
   },
   "outputs": [],
   "source": [
    "# JUNE 24, 2019 -- Rerun\n",
    "# IMPLEMENTING A DECISION TREE MODEL 2019-06-16 15:14:38\n",
    "# run on 2019-06-17 11:44:17 without the Vinatge to get the relationship\n",
    "# run on 2019-06-17 13:42:44 without the oversamling ---SMOTE"
   ]
  },
  {
   "cell_type": "markdown",
   "metadata": {},
   "source": [
    "# Preliminary work and data manipulation\n",
    "Reads in data and sets global parameters"
   ]
  },
  {
   "cell_type": "code",
   "execution_count": 264,
   "metadata": {
    "ExecuteTime": {
     "end_time": "2019-07-10T17:27:06.388056Z",
     "start_time": "2019-07-10T17:27:06.362957Z"
    }
   },
   "outputs": [],
   "source": [
    "import pandas as pd\n",
    "import numpy as np\n",
    "import matplotlib.pyplot as plt\n",
    "import seaborn as sns\n",
    "\n",
    "plt.rc(\"font\", size=12)\n",
    "plt.rcParams[\"figure.figsize\"] = (10, 10)\n",
    "plt.style.use('fivethirtyeight')\n",
    "sns.set(style=\"white\")\n",
    "sns.set(style=\"whitegrid\", color_codes=True)"
   ]
  },
  {
   "cell_type": "markdown",
   "metadata": {},
   "source": [
    "Reads in necessary libraries for  DecisionTreeClassifier and RandomForestClassifier"
   ]
  },
  {
   "cell_type": "code",
   "execution_count": 265,
   "metadata": {
    "ExecuteTime": {
     "end_time": "2019-07-10T17:27:09.015782Z",
     "start_time": "2019-07-10T17:27:09.005346Z"
    }
   },
   "outputs": [],
   "source": [
    "from sklearn.model_selection import train_test_split, GridSearchCV, cross_val_score\n",
    "from sklearn.tree import DecisionTreeClassifier, DecisionTreeRegressor\n",
    "\n",
    "from imblearn.over_sampling import SMOTENC\n",
    "from sklearn.preprocessing import RobustScaler, StandardScaler\n",
    "from sklearn.ensemble import RandomForestClassifier, RandomForestRegressor\n",
    "\n",
    "from sklearn import metrics\n",
    "from sklearn.metrics import accuracy_score, confusion_matrix, roc_auc_score, roc_curve\n",
    "from sklearn.metrics import classification_report"
   ]
  },
  {
   "cell_type": "code",
   "execution_count": 266,
   "metadata": {
    "ExecuteTime": {
     "end_time": "2019-07-10T17:27:11.320816Z",
     "start_time": "2019-07-10T17:27:11.109774Z"
    }
   },
   "outputs": [
    {
     "name": "stdout",
     "output_type": "stream",
     "text": [
      "/Users/alderaan/Documents/PROJECTS_INSIGHT/code_files/Code_good\r\n"
     ]
    }
   ],
   "source": [
    "!pwd"
   ]
  },
  {
   "cell_type": "markdown",
   "metadata": {},
   "source": [
    "I read in the full data set and run some simple checks."
   ]
  },
  {
   "cell_type": "code",
   "execution_count": 267,
   "metadata": {
    "ExecuteTime": {
     "end_time": "2019-07-10T17:27:44.081819Z",
     "start_time": "2019-07-10T17:27:13.380198Z"
    }
   },
   "outputs": [],
   "source": [
    "# reads in data\n",
    "data_in = pd.read_csv('data/full_data.csv')"
   ]
  },
  {
   "cell_type": "markdown",
   "metadata": {},
   "source": [
    "There are two switches here: \n",
    "- to create a deepcopy as a backup for the data to save time when it needs to be read in \n",
    "- to invoke a sample function to reduce the number of observations to accelerate the walkthrough if needed.  \n",
    "They are marked.\n",
    "\n",
    "Some data quality observations:\n",
    "- `home_ownership` needs to be converted into categorical variables: `OWN`, `RENT`, `MORTGAGE`, and `OTHER`.\n",
    "- `purpose` needs to be converted into categorical variables: `car`, `credit_card`, `debt_consolidation`, `educational`, `home_improvement`, `house`, `major_purchase`,`medical`, `moving`, `other`,`renewable_energy`, `small_business`, `vacation`, `wedding`"
   ]
  },
  {
   "cell_type": "code",
   "execution_count": 310,
   "metadata": {
    "ExecuteTime": {
     "end_time": "2019-07-10T21:31:39.676790Z",
     "start_time": "2019-07-10T21:31:34.345172Z"
    },
    "scrolled": false
   },
   "outputs": [
    {
     "name": "stdout",
     "output_type": "stream",
     "text": [
      "<class 'pandas.core.frame.DataFrame'>\n",
      "RangeIndex: 2376343 entries, 0 to 2376342\n",
      "Data columns (total 81 columns):\n",
      "Unnamed: 0                        int64\n",
      "mo_sin_old_il_acct                float64\n",
      "total_rec_prncp                   float64\n",
      "bc_util                           float64\n",
      "home_ownership                    object\n",
      "loan_amnt                         float64\n",
      "dti                               float64\n",
      "collection_recovery_fee           float64\n",
      "tot_cur_bal                       float64\n",
      "delinq_2yrs                       float64\n",
      "acc_open_past_24mths              float64\n",
      "pub_rec                           float64\n",
      "int_rate                          float64\n",
      "tot_coll_amt                      float64\n",
      "num_op_rev_tl                     float64\n",
      "chargeoff_within_12_mths          float64\n",
      "mort_acc                          float64\n",
      "total_rec_late_fee                float64\n",
      "il_util                           float64\n",
      "num_rev_accts                     float64\n",
      "num_bc_tl                         float64\n",
      "mths_since_recent_inq             float64\n",
      "total_rev_hi_lim                  float64\n",
      "open_act_il                       float64\n",
      "mths_since_recent_bc              float64\n",
      "avg_cur_bal                       float64\n",
      "inq_last_6mths                    float64\n",
      "Maturity                          int64\n",
      "open_rv_24m                       float64\n",
      "all_util                          float64\n",
      "delinq_amnt                       float64\n",
      "total_rec_int                     float64\n",
      "max_bal_bc                        float64\n",
      "acc_now_delinq                    float64\n",
      "funded_amnt_inv                   float64\n",
      "revol_util                        float64\n",
      "inq_last_12m                      float64\n",
      "last_pmt_year                     float64\n",
      "mths_since_last_delinq            float64\n",
      "PERFORMING                        int64\n",
      "open_il_24m                       float64\n",
      "mo_sin_old_rev_tl_op              float64\n",
      "fico_range_high                   float64\n",
      "funded_amnt                       float64\n",
      "revol_bal                         float64\n",
      "collections_12_mths_ex_med        float64\n",
      "recoveries                        float64\n",
      "out_prncp                         float64\n",
      "num_actv_rev_tl                   float64\n",
      "mths_since_last_major_derog       float64\n",
      "emp_length_int                    int64\n",
      "out_prncp_inv                     float64\n",
      "mths_since_recent_revol_delinq    float64\n",
      "purpose                           object\n",
      "num_il_tl                         float64\n",
      "last_pymnt_amnt                   float64\n",
      "open_acc_6m                       float64\n",
      "mths_since_last_record            float64\n",
      "total_acc                         float64\n",
      "fico_range_low                    float64\n",
      "total_pymnt_inv                   float64\n",
      "annual_inc                        float64\n",
      "total_cu_tl                       float64\n",
      "installment                       float64\n",
      "num_bc_sats                       float64\n",
      "bc_open_to_buy                    float64\n",
      "open_acc                          float64\n",
      "mo_sin_rcnt_tl                    float64\n",
      "last_fico_range_low               float64\n",
      "mo_sin_rcnt_rev_tl_op             float64\n",
      "CREDIT_HISTORY                    float64\n",
      "num_accts_ever_120_pd             float64\n",
      "total_pymnt                       float64\n",
      "open_rv_12m                       float64\n",
      "last_fico_range_high              float64\n",
      "open_il_12m                       float64\n",
      "mths_since_rcnt_il                float64\n",
      "mths_since_recent_bc_dlq          float64\n",
      "num_actv_bc_tl                    float64\n",
      "total_bal_il                      float64\n",
      "vintage                           float64\n",
      "dtypes: float64(75), int64(4), object(2)\n",
      "memory usage: 1.4+ GB\n"
     ]
    }
   ],
   "source": [
    "# I run a deep copy to make sure that there is a backup\n",
    "import copy\n",
    "data1 = copy.deepcopy(data_in)  # creates backup dat\n",
    "# can create a sample of 10% of observations to make the process faster. Results are full\n",
    "#data1 = data1.sample(frac=0.1)\n",
    "data1.info()"
   ]
  },
  {
   "cell_type": "markdown",
   "metadata": {},
   "source": [
    "Adding variables specifically for `home ownership` and `purpose`.  Historically, and also evidenced by the data, these variables have some explanatory contribution to default."
   ]
  },
  {
   "cell_type": "code",
   "execution_count": 311,
   "metadata": {
    "ExecuteTime": {
     "end_time": "2019-07-10T21:32:02.809723Z",
     "start_time": "2019-07-10T21:31:48.804765Z"
    }
   },
   "outputs": [
    {
     "data": {
      "text/plain": [
       "Index(['Unnamed: 0', 'mo_sin_old_il_acct', 'total_rec_prncp', 'bc_util',\n",
       "       'loan_amnt', 'dti', 'collection_recovery_fee', 'tot_cur_bal',\n",
       "       'delinq_2yrs', 'acc_open_past_24mths', 'pub_rec', 'int_rate',\n",
       "       'tot_coll_amt', 'num_op_rev_tl', 'chargeoff_within_12_mths', 'mort_acc',\n",
       "       'total_rec_late_fee', 'il_util', 'num_rev_accts', 'num_bc_tl',\n",
       "       'mths_since_recent_inq', 'total_rev_hi_lim', 'open_act_il',\n",
       "       'mths_since_recent_bc', 'avg_cur_bal', 'inq_last_6mths', 'Maturity',\n",
       "       'open_rv_24m', 'all_util', 'delinq_amnt', 'total_rec_int', 'max_bal_bc',\n",
       "       'acc_now_delinq', 'funded_amnt_inv', 'revol_util', 'inq_last_12m',\n",
       "       'last_pmt_year', 'mths_since_last_delinq', 'PERFORMING', 'open_il_24m',\n",
       "       'mo_sin_old_rev_tl_op', 'fico_range_high', 'funded_amnt', 'revol_bal',\n",
       "       'collections_12_mths_ex_med', 'recoveries', 'out_prncp',\n",
       "       'num_actv_rev_tl', 'mths_since_last_major_derog', 'emp_length_int',\n",
       "       'out_prncp_inv', 'mths_since_recent_revol_delinq', 'num_il_tl',\n",
       "       'last_pymnt_amnt', 'open_acc_6m', 'mths_since_last_record', 'total_acc',\n",
       "       'fico_range_low', 'total_pymnt_inv', 'annual_inc', 'total_cu_tl',\n",
       "       'installment', 'num_bc_sats', 'bc_open_to_buy', 'open_acc',\n",
       "       'mo_sin_rcnt_tl', 'last_fico_range_low', 'mo_sin_rcnt_rev_tl_op',\n",
       "       'CREDIT_HISTORY', 'num_accts_ever_120_pd', 'total_pymnt', 'open_rv_12m',\n",
       "       'last_fico_range_high', 'open_il_12m', 'mths_since_rcnt_il',\n",
       "       'mths_since_recent_bc_dlq', 'num_actv_bc_tl', 'total_bal_il', 'vintage',\n",
       "       'ANY', 'MORTGAGE', 'NONE', 'OTHER', 'OWN', 'RENT', 'car', 'credit_card',\n",
       "       'debt_consolidation', 'educational', 'home_improvement', 'house',\n",
       "       'major_purchase', 'medical', 'moving', 'other', 'renewable_energy',\n",
       "       'small_business', 'vacation', 'wedding'],\n",
       "      dtype='object')"
      ]
     },
     "execution_count": 311,
     "metadata": {},
     "output_type": "execute_result"
    }
   ],
   "source": [
    "data1 = pd.concat([data1.drop('home_ownership', axis=1),\n",
    "                   pd.get_dummies(data1['home_ownership'])], axis=1)\n",
    "data1 = pd.concat([data1.drop('purpose', axis=1),\n",
    "                   pd.get_dummies(data1['purpose'])], axis=1)\n",
    "data1.columns"
   ]
  },
  {
   "cell_type": "markdown",
   "metadata": {},
   "source": [
    "Dropping missing observations and missing data columns\n",
    "1. _Columns_ - **feature variables** - with too many missing observations.  Criteria is to remove all columns with more than 5% of observations missing.\n",
    "2. _Rows_ - **target variables** - with too many missing observations.  Criteria is to remove all columns with more than 5% of observations missing."
   ]
  },
  {
   "cell_type": "code",
   "execution_count": 312,
   "metadata": {
    "ExecuteTime": {
     "end_time": "2019-07-10T21:32:16.412627Z",
     "start_time": "2019-07-10T21:32:06.677281Z"
    }
   },
   "outputs": [
    {
     "data": {
      "text/plain": [
       "mths_since_last_record            0.843213\n",
       "mths_since_recent_bc_dlq          0.771793\n",
       "mths_since_last_major_derog       0.745082\n",
       "mths_since_recent_revol_delinq    0.674603\n",
       "mths_since_last_delinq            0.515204\n",
       "il_util                           0.457076\n",
       "mths_since_rcnt_il                0.384389\n",
       "all_util                          0.364582\n",
       "total_cu_tl                       0.364480\n",
       "open_acc_6m                       0.364480\n",
       "inq_last_12m                      0.364480\n",
       "open_rv_24m                       0.364480\n",
       "open_il_12m                       0.364480\n",
       "total_bal_il                      0.364480\n",
       "open_rv_12m                       0.364480\n",
       "open_act_il                       0.364480\n",
       "max_bal_bc                        0.364480\n",
       "open_il_24m                       0.364480\n",
       "mths_since_recent_inq             0.130365\n",
       "mo_sin_old_il_acct                0.060003\n",
       "bc_util                           0.032592\n",
       "bc_open_to_buy                    0.032090\n",
       "mths_since_recent_bc              0.031422\n",
       "avg_cur_bal                       0.029606\n",
       "mo_sin_rcnt_rev_tl_op             0.029574\n",
       "dtype: float64"
      ]
     },
     "execution_count": 312,
     "metadata": {},
     "output_type": "execute_result"
    }
   ],
   "source": [
    "# identifying missing column observations\n",
    "pct_null_col = data1.isnull().sum() / len(data1)\n",
    "pct_null_col.sort_values(axis=0, ascending=False).head(25)"
   ]
  },
  {
   "cell_type": "code",
   "execution_count": 313,
   "metadata": {
    "ExecuteTime": {
     "end_time": "2019-07-10T21:32:23.235843Z",
     "start_time": "2019-07-10T21:32:23.214657Z"
    },
    "scrolled": true
   },
   "outputs": [
    {
     "name": "stdout",
     "output_type": "stream",
     "text": [
      "Dropping the following columns:\n",
      " Index(['mo_sin_old_il_acct', 'il_util', 'mths_since_recent_inq', 'open_act_il',\n",
      "       'open_rv_24m', 'all_util', 'max_bal_bc', 'inq_last_12m',\n",
      "       'mths_since_last_delinq', 'open_il_24m', 'mths_since_last_major_derog',\n",
      "       'mths_since_recent_revol_delinq', 'open_acc_6m',\n",
      "       'mths_since_last_record', 'total_cu_tl', 'open_rv_12m', 'open_il_12m',\n",
      "       'mths_since_rcnt_il', 'mths_since_recent_bc_dlq', 'total_bal_il'],\n",
      "      dtype='object')\n"
     ]
    }
   ],
   "source": [
    "# identifying columns with more than 5% of observations missing\n",
    "missing_features = pct_null_col[pct_null_col > 0.05].index\n",
    "print(\"Dropping the following columns:\\n\", missing_features)"
   ]
  },
  {
   "cell_type": "code",
   "execution_count": 314,
   "metadata": {
    "ExecuteTime": {
     "end_time": "2019-07-10T21:32:28.695404Z",
     "start_time": "2019-07-10T21:32:27.012441Z"
    }
   },
   "outputs": [
    {
     "name": "stdout",
     "output_type": "stream",
     "text": [
      "Dropped the following columns:\n",
      " Index(['mo_sin_old_il_acct', 'il_util', 'mths_since_recent_inq', 'open_act_il',\n",
      "       'open_rv_24m', 'all_util', 'max_bal_bc', 'inq_last_12m',\n",
      "       'mths_since_last_delinq', 'open_il_24m', 'mths_since_last_major_derog',\n",
      "       'mths_since_recent_revol_delinq', 'open_acc_6m',\n",
      "       'mths_since_last_record', 'total_cu_tl', 'open_rv_12m', 'open_il_12m',\n",
      "       'mths_since_rcnt_il', 'mths_since_recent_bc_dlq', 'total_bal_il'],\n",
      "      dtype='object')\n"
     ]
    }
   ],
   "source": [
    "# dropping columns with more than 5% of observations missing\n",
    "data1.drop(missing_features, axis=1, inplace=True)\n",
    "print(\"Dropped the following columns:\\n\", missing_features)"
   ]
  },
  {
   "cell_type": "code",
   "execution_count": 315,
   "metadata": {
    "ExecuteTime": {
     "end_time": "2019-07-10T21:32:35.087436Z",
     "start_time": "2019-07-10T21:32:31.521191Z"
    }
   },
   "outputs": [
    {
     "data": {
      "text/plain": [
       "2039788    0.392405\n",
       "2039704    0.392405\n",
       "2039705    0.392405\n",
       "2039735    0.392405\n",
       "2039781    0.379747\n",
       "2039776    0.379747\n",
       "2039777    0.379747\n",
       "2039778    0.379747\n",
       "2039779    0.379747\n",
       "2039780    0.379747\n",
       "2039783    0.379747\n",
       "2039782    0.379747\n",
       "2039774    0.379747\n",
       "2039784    0.379747\n",
       "2039785    0.379747\n",
       "2039786    0.379747\n",
       "2039775    0.379747\n",
       "2039772    0.379747\n",
       "2039773    0.379747\n",
       "2039789    0.379747\n",
       "2039771    0.379747\n",
       "2039770    0.379747\n",
       "2039769    0.379747\n",
       "2039764    0.379747\n",
       "2039749    0.379747\n",
       "dtype: float64"
      ]
     },
     "execution_count": 315,
     "metadata": {},
     "output_type": "execute_result"
    }
   ],
   "source": [
    "# identifying missing row observations\n",
    "pct_null_row = data1.isnull().sum(axis=1) / len(data1.columns)\n",
    "pct_null_row.sort_values(axis=0, ascending=False).head(25)"
   ]
  },
  {
   "cell_type": "code",
   "execution_count": 316,
   "metadata": {
    "ExecuteTime": {
     "end_time": "2019-07-10T21:32:37.455086Z",
     "start_time": "2019-07-10T21:32:37.371884Z"
    }
   },
   "outputs": [
    {
     "name": "stdout",
     "output_type": "stream",
     "text": [
      "The number of rows with more than 1% of recods missing is: 101902 or 4.29% of observations.\n",
      "The number of rows with more than 5% of recods missing is: 71836 or 3.02% of observations.\n",
      "The number of rows with more than 10% of recods missing is: 70276 or 2.96% of observations.\n",
      "The number of rows with more than 20% of recods missing is: 50316 or 2.12% of observations.\n"
     ]
    }
   ],
   "source": [
    "# identifying columns with the proportion of observations missing\n",
    "print(\"The number of rows with more than 1% of recods missing is:\",\n",
    "      len(pct_null_row[pct_null_row > 0.010].index), \"or\",\n",
    "      \"{0:.2f}%\".format(\n",
    "          (len(pct_null_row[pct_null_row > 0.010].index)/len(pct_null_row))*100),\n",
    "      \"of observations.\")\n",
    "print(\"The number of rows with more than 5% of recods missing is:\",\n",
    "      len(pct_null_row[pct_null_row > 0.050].index), \"or\",\n",
    "      \"{0:.2f}%\".format(\n",
    "          (len(pct_null_row[pct_null_row > 0.050].index)/len(pct_null_row))*100),\n",
    "      \"of observations.\")\n",
    "print(\"The number of rows with more than 10% of recods missing is:\",\n",
    "      len(pct_null_row[pct_null_row > 0.10].index), \"or\",\n",
    "      \"{0:.2f}%\".format(\n",
    "          (len(pct_null_row[pct_null_row > 0.10].index)/len(pct_null_row))*100),\n",
    "      \"of observations.\")\n",
    "print(\"The number of rows with more than 20% of recods missing is:\",\n",
    "      len(pct_null_row[pct_null_row > 0.20].index), \"or\",\n",
    "      \"{0:.2f}%\".format(\n",
    "          (len(pct_null_row[pct_null_row > 0.20].index)/len(pct_null_row))*100),\n",
    "      \"of observations.\")\n",
    "\n",
    "missing_observations = pct_null_row[pct_null_row > 0.050].index"
   ]
  },
  {
   "cell_type": "code",
   "execution_count": 317,
   "metadata": {
    "ExecuteTime": {
     "end_time": "2019-07-10T21:32:41.921079Z",
     "start_time": "2019-07-10T21:32:40.801617Z"
    }
   },
   "outputs": [
    {
     "name": "stdout",
     "output_type": "stream",
     "text": [
      "The number of observations is now: 2304507\n"
     ]
    }
   ],
   "source": [
    "# dropping rows with more than 5% of records missing\n",
    "data1.drop(missing_observations, axis=0, inplace=True)\n",
    "#print(\"Dropped the following observations:\\n\", missing_observations)\n",
    "print(\"The number of observations is now:\", len(data1))"
   ]
  },
  {
   "cell_type": "markdown",
   "metadata": {},
   "source": [
    "## Defining variables for all the models\n",
    "The data is split into the target variable and in various explanatory datasets with the objective of training a number of different datasets "
   ]
  },
  {
   "cell_type": "code",
   "execution_count": 318,
   "metadata": {
    "ExecuteTime": {
     "end_time": "2019-07-10T21:32:53.896942Z",
     "start_time": "2019-07-10T21:32:46.793281Z"
    },
    "scrolled": true
   },
   "outputs": [
    {
     "name": "stderr",
     "output_type": "stream",
     "text": [
      "/Applications/anaconda3/lib/python3.7/site-packages/ipykernel_launcher.py:25: SettingWithCopyWarning: \n",
      "A value is trying to be set on a copy of a slice from a DataFrame\n",
      "\n",
      "See the caveats in the documentation: http://pandas.pydata.org/pandas-docs/stable/indexing.html#indexing-view-versus-copy\n",
      "/Applications/anaconda3/lib/python3.7/site-packages/pandas/core/frame.py:4034: SettingWithCopyWarning: \n",
      "A value is trying to be set on a copy of a slice from a DataFrame\n",
      "\n",
      "See the caveats in the documentation: http://pandas.pydata.org/pandas-docs/stable/indexing.html#indexing-view-versus-copy\n",
      "  downcast=downcast, **kwargs)\n"
     ]
    }
   ],
   "source": [
    "# Extract stuff\n",
    "target = data1['PERFORMING']\n",
    "\n",
    "features_full = data1[{'total_rec_prncp', 'bc_util', 'loan_amnt', 'dti',\n",
    "                       'tot_cur_bal', 'delinq_2yrs',\n",
    "                       'acc_open_past_24mths', 'pub_rec', 'int_rate', 'tot_coll_amt',\n",
    "                       'num_op_rev_tl', 'chargeoff_within_12_mths', 'mort_acc',\n",
    "                       'total_rec_late_fee', 'num_rev_accts', 'num_bc_tl', 'total_rev_hi_lim',\n",
    "                       'mths_since_recent_bc', 'avg_cur_bal', 'inq_last_6mths', 'Maturity',\n",
    "                       'delinq_amnt', 'total_rec_int', 'acc_now_delinq', 'funded_amnt_inv',\n",
    "                       'revol_util', 'last_pmt_year', 'mo_sin_old_rev_tl_op',\n",
    "                       'funded_amnt', 'revol_bal',\n",
    "                       'collections_12_mths_ex_med', 'out_prncp',\n",
    "                       'num_actv_rev_tl', 'emp_length_int', 'out_prncp_inv', 'num_il_tl',\n",
    "                       'last_pymnt_amnt', 'total_acc', 'total_pymnt_inv',\n",
    "                       'annual_inc', 'installment', 'num_bc_sats', 'bc_open_to_buy',\n",
    "                       'open_acc', 'mo_sin_rcnt_tl',\n",
    "                       'mo_sin_rcnt_rev_tl_op', 'CREDIT_HISTORY', 'num_accts_ever_120_pd',\n",
    "                       'total_pymnt', 'num_actv_bc_tl', 'vintage',\n",
    "                       'ANY', 'MORTGAGE', 'NONE', 'OTHER', 'OWN', 'RENT', 'car', 'credit_card',\n",
    "                       'debt_consolidation', 'educational', 'home_improvement', 'house',\n",
    "                       'major_purchase', 'medical', 'moving', 'other', 'renewable_energy',\n",
    "                       'small_business', 'vacation', 'wedding'}]\n",
    "\n",
    "features_full.sort_index(axis=1, inplace=True);\n",
    "features_full.fillna(0, inplace=True);\n",
    "features_full.isnull().any(axis=0);"
   ]
  },
  {
   "cell_type": "markdown",
   "metadata": {},
   "source": [
    "Splitting up the data into learning and testing.  The train test split is set at 20/80."
   ]
  },
  {
   "cell_type": "code",
   "execution_count": 319,
   "metadata": {
    "ExecuteTime": {
     "end_time": "2019-07-10T21:33:06.366181Z",
     "start_time": "2019-07-10T21:33:03.585325Z"
    },
    "scrolled": true
   },
   "outputs": [],
   "source": [
    "X_train, X_test, y_train, y_test = train_test_split(\n",
    "    features_full, target, test_size=0.8, random_state=50)"
   ]
  },
  {
   "cell_type": "markdown",
   "metadata": {
    "ExecuteTime": {
     "end_time": "2019-06-27T16:15:47.892456Z",
     "start_time": "2019-06-27T16:15:47.714609Z"
    }
   },
   "source": [
    "## Oversampling\n",
    "Given that the dataset contains 86% performing and 14% non-performing loans, it would make sense to create a more balanced dataset that includes an even number of performing and non-performing loans."
   ]
  },
  {
   "cell_type": "code",
   "execution_count": 320,
   "metadata": {
    "ExecuteTime": {
     "end_time": "2019-07-10T22:00:28.688874Z",
     "start_time": "2019-07-10T21:33:49.611282Z"
    },
    "scrolled": true
   },
   "outputs": [],
   "source": [
    "categorical = [0, 2, 4, 5, 6, 7, 14, 17, 18,\n",
    "               22, 26, 27, 34, 35, 40, 51, 55, 58, 68, 70]\n",
    "\n",
    "smnc = SMOTENC(categorical_features=categorical, random_state=12)\n",
    "x_res, y_res = smnc.fit_sample(X_train, y_train)"
   ]
  },
  {
   "cell_type": "markdown",
   "metadata": {},
   "source": [
    "## Scaling variables\n",
    "For the Decision trees, scaling variables are not needed.  There is an argument for including scaling in Random Forest, which I will do.  My experience shows that the results are much better when the data is scaled using Robust Scaler, perhaps because the outliers drive the performance and default."
   ]
  },
  {
   "cell_type": "markdown",
   "metadata": {},
   "source": [
    "Adding a function for accuracy calculations."
   ]
  },
  {
   "cell_type": "code",
   "execution_count": 321,
   "metadata": {
    "ExecuteTime": {
     "end_time": "2019-07-10T22:01:40.575404Z",
     "start_time": "2019-07-10T22:01:40.530637Z"
    }
   },
   "outputs": [],
   "source": [
    "def show_accuracy(model, X, y, model_name):\n",
    "    pred = model.predict(X)\n",
    "    print('Accuracy: {0:0.3f}'.format(accuracy_score(y, pred)))\n",
    "\n",
    "    # predict probabilities & keep probabilities for the positive outcome only\n",
    "    probs = model.predict_proba(X)[:, 1]\n",
    "    tpr, fpr, _ = roc_curve(y, probs)\n",
    "    roc_auc = roc_auc_score(y, probs)\n",
    "\n",
    "    # plot the curve\n",
    "    plt.plot(tpr, fpr, marker='.')\n",
    "    plt.xlabel('False Positive Rate')\n",
    "    plt.ylabel('True Positive Rate')\n",
    "    plt.title('{0}: ROC curve AUC={1:0.3f}'.format(model_name, roc_auc))\n",
    "    plt.show()"
   ]
  },
  {
   "cell_type": "markdown",
   "metadata": {
    "ExecuteTime": {
     "end_time": "2019-07-09T00:49:36.478516Z",
     "start_time": "2019-07-09T00:49:36.472827Z"
    }
   },
   "source": [
    "# The Decision Tree Model\n",
    "The model is chosen because it produces an easily interpretable model: each of the leaf node is a representation of an if/then outcomes and the outcomes that meet the criteria are placed in the node.  Additionally, the model is non-parametric and does not require any normality assumptions of the data. Here, the relationship between the variables is to be understood as well and makes the non-parametric model useful. Finally, the model handles data of different types, such as continuous, categorical, and binary. \n",
    "\n",
    "Ultimately, the model is not implemented to make predictions about the variables that predict default, but rather to detect important variables and interactions.\n",
    "\n",
    "## Decision tree classifier"
   ]
  },
  {
   "cell_type": "code",
   "execution_count": 322,
   "metadata": {
    "ExecuteTime": {
     "end_time": "2019-07-10T22:11:33.854391Z",
     "start_time": "2019-07-10T22:01:46.918123Z"
    },
    "scrolled": false
   },
   "outputs": [
    {
     "name": "stdout",
     "output_type": "stream",
     "text": [
      "Accuracy on training set: 0.981\n",
      "Accuracy on test set: 0.980\n",
      "Accuracy: 0.980\n"
     ]
    },
    {
     "data": {
      "image/png": "[encoded data removed]",
      "text/plain": [
       "<Figure size 720x720 with 1 Axes>"
      ]
     },
     "metadata": {},
     "output_type": "display_data"
    },
    {
     "name": "stdout",
     "output_type": "stream",
     "text": [
      "Best estimator DecisionTreeClassifier(class_weight=None, criterion='gini', max_depth=10,\n",
      "                       max_features=None, max_leaf_nodes=None,\n",
      "                       min_impurity_decrease=0.0, min_impurity_split=None,\n",
      "                       min_samples_leaf=5, min_samples_split=2,\n",
      "                       min_weight_fraction_leaf=0.0, presort=False,\n",
      "                       random_state=None, splitter='best')\n"
     ]
    }
   ],
   "source": [
    "tree_para = {'criterion': ['gini', 'entropy'],\n",
    "             'max_depth': [5, 10],\n",
    "             'min_samples_leaf': [2, 3, 4, 5]}\n",
    "\n",
    "tree = GridSearchCV(DecisionTreeClassifier(), tree_para, cv=2)\n",
    "\n",
    "tree.fit(x_res, y_res)\n",
    "\n",
    "print(\"Accuracy on training set: {:.3f}\".format(tree.score(x_res, y_res)))\n",
    "print(\"Accuracy on test set: {:.3f}\".format(tree.score(X_test, y_test)))\n",
    "show_accuracy(tree, X_test, y_test, \"Decision Tree\")\n",
    "\n",
    "y_pred = tree.predict(X_test)\n",
    "\n",
    "print(\"Best estimator\", tree.best_estimator_)"
   ]
  },
  {
   "cell_type": "code",
   "execution_count": 323,
   "metadata": {
    "ExecuteTime": {
     "end_time": "2019-07-10T22:15:17.143133Z",
     "start_time": "2019-07-10T22:14:35.255317Z"
    }
   },
   "outputs": [
    {
     "name": "stdout",
     "output_type": "stream",
     "text": [
      "Accuracy on training set: 0.978\n",
      "Accuracy on test set: 0.974\n",
      "Accuracy: 0.974\n"
     ]
    },
    {
     "data": {
      "image/png": "[encoded data removed]",
      "text/plain": [
       "<Figure size 720x720 with 1 Axes>"
      ]
     },
     "metadata": {},
     "output_type": "display_data"
    }
   ],
   "source": [
    "best_tree = DecisionTreeClassifier(criterion='entropy', max_depth=10,\n",
    "                                   max_features=None, max_leaf_nodes=None,\n",
    "                                   min_impurity_decrease=0.0, min_impurity_split=None,\n",
    "                                   min_samples_leaf=5, min_samples_split=2,\n",
    "                                   min_weight_fraction_leaf=0.0, presort=False,\n",
    "                                   random_state=None, splitter='best')\n",
    "\n",
    "best_tree.fit(x_res, y_res)\n",
    "y_pred = best_tree.predict(X_test)\n",
    "\n",
    "print(\"Accuracy on training set: {:.3f}\".format(best_tree.score(x_res, y_res)))\n",
    "print(\"Accuracy on test set: {:.3f}\".format(best_tree.score(X_test, y_test)))\n",
    "show_accuracy(best_tree, X_test, y_test, \"Decision Tree\")\n",
    "\n",
    "n_nodes = best_tree.tree_.node_count\n",
    "children_left = best_tree.tree_.children_left\n",
    "children_right = best_tree.tree_.children_right\n",
    "feature = best_tree.tree_.feature\n",
    "threshold = best_tree.tree_.threshold"
   ]
  },
  {
   "cell_type": "markdown",
   "metadata": {},
   "source": [
    "Exporting a the results for visualization.  I recommend using [Webgraphviz](http://webgraphviz.com/) an online tool to read the picture generated by the model."
   ]
  },
  {
   "cell_type": "markdown",
   "metadata": {
    "ExecuteTime": {
     "end_time": "2019-06-27T16:15:49.498292Z",
     "start_time": "2019-06-27T16:15:49.488759Z"
    }
   },
   "source": [
    "## Top 30 variables\n",
    "The visual representation may become complex with multiple leafs and variations.  An approach can be a simple ranking of the variables by feature importance.  This yields a simple to understand graph that quantifies the absolute contribution of the variables.  The top 20 features are shown."
   ]
  },
  {
   "cell_type": "code",
   "execution_count": 324,
   "metadata": {
    "ExecuteTime": {
     "end_time": "2019-07-10T22:15:24.829867Z",
     "start_time": "2019-07-10T22:15:24.736296Z"
    }
   },
   "outputs": [
    {
     "name": "stdout",
     "output_type": "stream",
     "text": [
      "71 71\n"
     ]
    },
    {
     "data": {
      "text/html": [
       "<div>\n",
       "<style scoped>\n",
       "    .dataframe tbody tr th:only-of-type {\n",
       "        vertical-align: middle;\n",
       "    }\n",
       "\n",
       "    .dataframe tbody tr th {\n",
       "        vertical-align: top;\n",
       "    }\n",
       "\n",
       "    .dataframe thead th {\n",
       "        text-align: right;\n",
       "    }\n",
       "</style>\n",
       "<table border=\"1\" class=\"dataframe\">\n",
       "  <thead>\n",
       "    <tr style=\"text-align: right;\">\n",
       "      <th></th>\n",
       "      <th>Feature_names</th>\n",
       "      <th>Feature_importances</th>\n",
       "    </tr>\n",
       "  </thead>\n",
       "  <tbody>\n",
       "    <tr>\n",
       "      <th>32</th>\n",
       "      <td>last_pymnt_amnt</td>\n",
       "      <td>0.354125</td>\n",
       "    </tr>\n",
       "    <tr>\n",
       "      <th>31</th>\n",
       "      <td>last_pmt_year</td>\n",
       "      <td>0.232361</td>\n",
       "    </tr>\n",
       "    <tr>\n",
       "      <th>66</th>\n",
       "      <td>total_rec_prncp</td>\n",
       "      <td>0.127606</td>\n",
       "    </tr>\n",
       "    <tr>\n",
       "      <th>33</th>\n",
       "      <td>loan_amnt</td>\n",
       "      <td>0.080865</td>\n",
       "    </tr>\n",
       "    <tr>\n",
       "      <th>65</th>\n",
       "      <td>total_rec_late_fee</td>\n",
       "      <td>0.050608</td>\n",
       "    </tr>\n",
       "    <tr>\n",
       "      <th>3</th>\n",
       "      <td>Maturity</td>\n",
       "      <td>0.036596</td>\n",
       "    </tr>\n",
       "    <tr>\n",
       "      <th>69</th>\n",
       "      <td>vintage</td>\n",
       "      <td>0.033884</td>\n",
       "    </tr>\n",
       "    <tr>\n",
       "      <th>28</th>\n",
       "      <td>inq_last_6mths</td>\n",
       "      <td>0.024618</td>\n",
       "    </tr>\n",
       "    <tr>\n",
       "      <th>24</th>\n",
       "      <td>funded_amnt</td>\n",
       "      <td>0.019430</td>\n",
       "    </tr>\n",
       "    <tr>\n",
       "      <th>30</th>\n",
       "      <td>int_rate</td>\n",
       "      <td>0.014389</td>\n",
       "    </tr>\n",
       "    <tr>\n",
       "      <th>64</th>\n",
       "      <td>total_rec_int</td>\n",
       "      <td>0.009529</td>\n",
       "    </tr>\n",
       "    <tr>\n",
       "      <th>25</th>\n",
       "      <td>funded_amnt_inv</td>\n",
       "      <td>0.006972</td>\n",
       "    </tr>\n",
       "    <tr>\n",
       "      <th>52</th>\n",
       "      <td>out_prncp</td>\n",
       "      <td>0.004793</td>\n",
       "    </tr>\n",
       "    <tr>\n",
       "      <th>54</th>\n",
       "      <td>pub_rec</td>\n",
       "      <td>0.001427</td>\n",
       "    </tr>\n",
       "    <tr>\n",
       "      <th>23</th>\n",
       "      <td>emp_length_int</td>\n",
       "      <td>0.000773</td>\n",
       "    </tr>\n",
       "    <tr>\n",
       "      <th>29</th>\n",
       "      <td>installment</td>\n",
       "      <td>0.000623</td>\n",
       "    </tr>\n",
       "    <tr>\n",
       "      <th>53</th>\n",
       "      <td>out_prncp_inv</td>\n",
       "      <td>0.000280</td>\n",
       "    </tr>\n",
       "    <tr>\n",
       "      <th>56</th>\n",
       "      <td>revol_bal</td>\n",
       "      <td>0.000143</td>\n",
       "    </tr>\n",
       "    <tr>\n",
       "      <th>9</th>\n",
       "      <td>acc_open_past_24mths</td>\n",
       "      <td>0.000098</td>\n",
       "    </tr>\n",
       "    <tr>\n",
       "      <th>11</th>\n",
       "      <td>avg_cur_bal</td>\n",
       "      <td>0.000077</td>\n",
       "    </tr>\n",
       "    <tr>\n",
       "      <th>67</th>\n",
       "      <td>total_rev_hi_lim</td>\n",
       "      <td>0.000070</td>\n",
       "    </tr>\n",
       "    <tr>\n",
       "      <th>12</th>\n",
       "      <td>bc_open_to_buy</td>\n",
       "      <td>0.000070</td>\n",
       "    </tr>\n",
       "    <tr>\n",
       "      <th>47</th>\n",
       "      <td>num_il_tl</td>\n",
       "      <td>0.000066</td>\n",
       "    </tr>\n",
       "    <tr>\n",
       "      <th>62</th>\n",
       "      <td>total_pymnt</td>\n",
       "      <td>0.000061</td>\n",
       "    </tr>\n",
       "    <tr>\n",
       "      <th>10</th>\n",
       "      <td>annual_inc</td>\n",
       "      <td>0.000051</td>\n",
       "    </tr>\n",
       "    <tr>\n",
       "      <th>37</th>\n",
       "      <td>mo_sin_rcnt_rev_tl_op</td>\n",
       "      <td>0.000047</td>\n",
       "    </tr>\n",
       "    <tr>\n",
       "      <th>57</th>\n",
       "      <td>revol_util</td>\n",
       "      <td>0.000047</td>\n",
       "    </tr>\n",
       "    <tr>\n",
       "      <th>21</th>\n",
       "      <td>dti</td>\n",
       "      <td>0.000045</td>\n",
       "    </tr>\n",
       "    <tr>\n",
       "      <th>60</th>\n",
       "      <td>tot_cur_bal</td>\n",
       "      <td>0.000041</td>\n",
       "    </tr>\n",
       "    <tr>\n",
       "      <th>61</th>\n",
       "      <td>total_acc</td>\n",
       "      <td>0.000039</td>\n",
       "    </tr>\n",
       "  </tbody>\n",
       "</table>\n",
       "</div>"
      ],
      "text/plain": [
       "            Feature_names  Feature_importances\n",
       "32        last_pymnt_amnt             0.354125\n",
       "31          last_pmt_year             0.232361\n",
       "66        total_rec_prncp             0.127606\n",
       "33              loan_amnt             0.080865\n",
       "65     total_rec_late_fee             0.050608\n",
       "3                Maturity             0.036596\n",
       "69                vintage             0.033884\n",
       "28         inq_last_6mths             0.024618\n",
       "24            funded_amnt             0.019430\n",
       "30               int_rate             0.014389\n",
       "64          total_rec_int             0.009529\n",
       "25        funded_amnt_inv             0.006972\n",
       "52              out_prncp             0.004793\n",
       "54                pub_rec             0.001427\n",
       "23         emp_length_int             0.000773\n",
       "29            installment             0.000623\n",
       "53          out_prncp_inv             0.000280\n",
       "56              revol_bal             0.000143\n",
       "9    acc_open_past_24mths             0.000098\n",
       "11            avg_cur_bal             0.000077\n",
       "67       total_rev_hi_lim             0.000070\n",
       "12         bc_open_to_buy             0.000070\n",
       "47              num_il_tl             0.000066\n",
       "62            total_pymnt             0.000061\n",
       "10             annual_inc             0.000051\n",
       "37  mo_sin_rcnt_rev_tl_op             0.000047\n",
       "57             revol_util             0.000047\n",
       "21                    dti             0.000045\n",
       "60            tot_cur_bal             0.000041\n",
       "61              total_acc             0.000039"
      ]
     },
     "execution_count": 324,
     "metadata": {},
     "output_type": "execute_result"
    }
   ],
   "source": [
    "print(len(features_full.columns), len(best_tree.feature_importances_))\n",
    "dt_feature_analysis = pd.DataFrame(\n",
    "    {'Feature_names': features_full.columns, 'Feature_importances': best_tree.feature_importances_})\n",
    "dt_feature_analysis.sort_values(\n",
    "    by=['Feature_importances'], ascending=False, inplace=True)\n",
    "dt_feature_analysis.head(30)"
   ]
  },
  {
   "cell_type": "markdown",
   "metadata": {},
   "source": [
    "## Feature importance visualization\n",
    "The graph depicts the various variables and their relative explanatory contributions."
   ]
  },
  {
   "cell_type": "code",
   "execution_count": 325,
   "metadata": {
    "ExecuteTime": {
     "end_time": "2019-07-10T22:15:30.413513Z",
     "start_time": "2019-07-10T22:15:28.719090Z"
    },
    "scrolled": true
   },
   "outputs": [
    {
     "data": {
      "image/png": "[encoded data removed]",
      "text/plain": [
       "<Figure size 720x720 with 1 Axes>"
      ]
     },
     "metadata": {},
     "output_type": "display_data"
    }
   ],
   "source": [
    "d_tree_graph = sns.barplot(\n",
    "    x='Feature_importances', y='Feature_names', data=dt_feature_analysis, palette=\"PiYG\")\n",
    "d_tree_graph.set_title(\"Decison tree feature importance\", fontsize=16)\n",
    "d_tree_graph.set_xlabel(\"feature importance score\", fontsize=14)\n",
    "d_tree_graph.set_ylabel(\"feature name\", fontsize=14)\n",
    "plt.show()\n",
    "plt.close()"
   ]
  },
  {
   "cell_type": "code",
   "execution_count": 326,
   "metadata": {
    "ExecuteTime": {
     "end_time": "2019-07-10T22:15:34.514932Z",
     "start_time": "2019-07-10T22:15:34.500889Z"
    },
    "scrolled": true
   },
   "outputs": [
    {
     "name": "stdout",
     "output_type": "stream",
     "text": [
      "Feature importances:\n",
      "[0.00000000e+00 0.00000000e+00 9.55986615e-06 3.65955556e-02\n",
      " 0.00000000e+00 0.00000000e+00 0.00000000e+00 0.00000000e+00\n",
      " 0.00000000e+00 9.76042731e-05 5.13442751e-05 7.72262207e-05\n",
      " 6.96713053e-05 3.71467487e-05 0.00000000e+00 0.00000000e+00\n",
      " 0.00000000e+00 0.00000000e+00 8.10817032e-06 2.29326470e-05\n",
      " 0.00000000e+00 4.50788632e-05 0.00000000e+00 7.73184372e-04\n",
      " 1.94295782e-02 6.97242485e-03 0.00000000e+00 0.00000000e+00\n",
      " 2.46176587e-02 6.23261496e-04 1.43892222e-02 2.32361165e-01\n",
      " 3.54124852e-01 8.08652847e-02 0.00000000e+00 0.00000000e+00\n",
      " 1.96945909e-05 4.73881971e-05 1.10226468e-05 0.00000000e+00\n",
      " 0.00000000e+00 0.00000000e+00 0.00000000e+00 6.03130714e-06\n",
      " 1.88106167e-05 2.73435001e-05 3.55218618e-05 6.64273928e-05\n",
      " 0.00000000e+00 0.00000000e+00 3.33920316e-05 0.00000000e+00\n",
      " 4.79310898e-03 2.80000429e-04 1.42658349e-03 0.00000000e+00\n",
      " 1.43106156e-04 4.68452836e-05 0.00000000e+00 1.06231200e-05\n",
      " 4.09650921e-05 3.86758184e-05 6.06379927e-05 2.61052956e-05\n",
      " 9.52905132e-03 5.06077282e-02 1.27606192e-01 6.98762402e-05\n",
      " 0.00000000e+00 3.38840097e-02 0.00000000e+00]\n"
     ]
    }
   ],
   "source": [
    "print(\"Feature importances:\\n{}\".format(best_tree.feature_importances_))"
   ]
  },
  {
   "cell_type": "markdown",
   "metadata": {},
   "source": [
    "## Confusion matrix \n",
    "Although the model is not being used for prediction, the confusion matrix serves as a good tool for ensuring the predictive ability of the model just trained."
   ]
  },
  {
   "cell_type": "code",
   "execution_count": 327,
   "metadata": {
    "ExecuteTime": {
     "end_time": "2019-07-10T22:15:43.694649Z",
     "start_time": "2019-07-10T22:15:41.746224Z"
    },
    "scrolled": true
   },
   "outputs": [
    {
     "name": "stdout",
     "output_type": "stream",
     "text": [
      "Accuracy0.9743952883642166\n"
     ]
    },
    {
     "data": {
      "image/png": "[encoded data removed]",
      "text/plain": [
       "<Figure size 720x720 with 2 Axes>"
      ]
     },
     "metadata": {},
     "output_type": "display_data"
    }
   ],
   "source": [
    "cm = confusion_matrix(y_test, y_pred)\n",
    "cm1 = sns.heatmap(cm, fmt='d', annot=True, xticklabels=['Non-performing', 'Performing'],\n",
    "                  yticklabels=['Non-performing', 'Performing'], cmap=\"PiYG\")\n",
    "cm1.set_yticklabels(cm1.get_yticklabels(), rotation=0, fontsize=10)\n",
    "cm1.set_title(\"Confusion matrix - Decision Tree Classifier\", fontsize=14)\n",
    "print('Accuracy' + str(accuracy_score(y_test, y_pred)))"
   ]
  },
  {
   "cell_type": "markdown",
   "metadata": {},
   "source": [
    "## Decision tree model based regression\n",
    "It may be worth exploring the results of the decision tree model based regression to compare it with other models"
   ]
  },
  {
   "cell_type": "code",
   "execution_count": 328,
   "metadata": {
    "ExecuteTime": {
     "end_time": "2019-07-10T22:16:31.065791Z",
     "start_time": "2019-07-10T22:15:47.441934Z"
    }
   },
   "outputs": [
    {
     "data": {
      "text/plain": [
       "<bound method BaseEstimator.get_params of DecisionTreeRegressor(criterion='mse', max_depth=None, max_features=None,\n",
       "                      max_leaf_nodes=None, min_impurity_decrease=0.0,\n",
       "                      min_impurity_split=None, min_samples_leaf=1,\n",
       "                      min_samples_split=2, min_weight_fraction_leaf=0.0,\n",
       "                      presort=False, random_state=None, splitter='best')>"
      ]
     },
     "execution_count": 328,
     "metadata": {},
     "output_type": "execute_result"
    }
   ],
   "source": [
    "dtr_tree = DecisionTreeRegressor().fit(x_res, y_res)\n",
    "pred_tree = dtr_tree.predict(x_res)\n",
    "dtr_tree.get_params"
   ]
  },
  {
   "cell_type": "code",
   "execution_count": 239,
   "metadata": {
    "ExecuteTime": {
     "end_time": "2019-07-10T16:55:42.994901Z",
     "start_time": "2019-07-10T16:55:41.720840Z"
    },
    "scrolled": true
   },
   "outputs": [
    {
     "name": "stdout",
     "output_type": "stream",
     "text": [
      "Mean Absolute Error: 0.039001974783533344\n",
      "Mean Squared Error: 0.039001974783533344\n",
      "Root Mean Squared Error: 0.19748917637058833\n",
      "[[ 21244   3094]\n",
      " [  4095 155891]]\n",
      "              precision    recall  f1-score   support\n",
      "\n",
      "           0       0.84      0.87      0.86     24338\n",
      "           1       0.98      0.97      0.98    159986\n",
      "\n",
      "    accuracy                           0.96    184324\n",
      "   macro avg       0.91      0.92      0.92    184324\n",
      "weighted avg       0.96      0.96      0.96    184324\n",
      "\n"
     ]
    }
   ],
   "source": [
    "y_pred = dtr_tree.predict(X_test)\n",
    "print('Mean Absolute Error:', metrics.mean_absolute_error(y_test, y_pred))\n",
    "print('Mean Squared Error:', metrics.mean_squared_error(y_test, y_pred))\n",
    "print('Root Mean Squared Error:', np.sqrt(\n",
    "    metrics.mean_squared_error(y_test, y_pred)))\n",
    "print(confusion_matrix(y_test, y_pred))\n",
    "print(classification_report(y_test, y_pred))"
   ]
  },
  {
   "cell_type": "markdown",
   "metadata": {},
   "source": [
    "Training the decision tree regression model "
   ]
  },
  {
   "cell_type": "markdown",
   "metadata": {},
   "source": [
    "# Random forest classifier\n",
    "Random forest algorithm can be used for both classifications and regressions.  It does offer greater accuracy than decision trees and does not overfit the model.  Moreover, the classifer handles missing values and maintain accuracy even when the data is large.\n",
    "\n"
   ]
  },
  {
   "cell_type": "code",
   "execution_count": 330,
   "metadata": {
    "ExecuteTime": {
     "end_time": "2019-07-10T22:32:42.631619Z",
     "start_time": "2019-07-10T22:29:39.793021Z"
    },
    "scrolled": true
   },
   "outputs": [
    {
     "name": "stdout",
     "output_type": "stream",
     "text": [
      "Mean Absolute Error: 0.016796430473756323\n",
      "Mean Squared Error: 0.016796430473756323\n",
      "Root Mean Squared Error: 0.12960104349022936\n",
      "Accuracy0.9832035695262437\n"
     ]
    },
    {
     "data": {
      "image/png": "[encoded data removed]",
      "text/plain": [
       "<Figure size 720x720 with 2 Axes>"
      ]
     },
     "metadata": {},
     "output_type": "display_data"
    }
   ],
   "source": [
    "rf = RandomForestClassifier(n_estimators=30, n_jobs=-4)\n",
    "rf.fit(x_res, y_res)\n",
    "y_pred = rf.predict(X_test)\n",
    "rf_test_acc = accuracy_score(y_test, y_pred)\n",
    "\n",
    "print('Mean Absolute Error:', metrics.mean_absolute_error(y_test, y_pred))\n",
    "print('Mean Squared Error:', metrics.mean_squared_error(y_test, y_pred))\n",
    "print('Root Mean Squared Error:', np.sqrt(\n",
    "    metrics.mean_squared_error(y_test, y_pred)))\n",
    "\n",
    "\n",
    "cm = confusion_matrix(y_test, y_pred)\n",
    "cm1 = sns.heatmap(cm, fmt='d', annot=True, xticklabels=['Non-performing', 'Performing'],\n",
    "                  yticklabels=['Non-performing', 'Performing'], cmap=\"PiYG\")\n",
    "cm1.set_yticklabels(cm1.get_yticklabels(), rotation=0, fontsize=10)\n",
    "cm1.set_title(\"Confusion matrix - LDA\", fontsize=14)\n",
    "print('Accuracy' + str(accuracy_score(y_test, y_pred)))"
   ]
  },
  {
   "cell_type": "markdown",
   "metadata": {},
   "source": [
    "## Random forest feature contribution visualization\n",
    "Show the importance of the various variables."
   ]
  },
  {
   "cell_type": "code",
   "execution_count": 331,
   "metadata": {
    "ExecuteTime": {
     "end_time": "2019-07-10T22:36:38.410062Z",
     "start_time": "2019-07-10T22:36:38.295044Z"
    },
    "scrolled": true
   },
   "outputs": [
    {
     "name": "stdout",
     "output_type": "stream",
     "text": [
      "[6.28364804e-06 2.01253101e-03 5.64704877e-04 3.46514860e-02\n",
      " 2.95109182e-07 4.67102061e-07 2.06406957e-03 4.39018552e-04\n",
      " 3.86847285e-05 9.53755722e-03 2.80524916e-03 2.40832432e-03\n",
      " 3.07927633e-03 2.27290647e-03 8.05905880e-05 1.39956617e-04\n",
      " 2.09402618e-04 3.92877424e-03 7.01335525e-04 5.10186523e-03\n",
      " 5.61070484e-05 2.44829921e-03 0.00000000e+00 1.16871232e-02\n",
      " 2.76719807e-02 2.23218812e-02 7.96865309e-04 4.63870362e-05\n",
      " 3.80191592e-02 1.99756480e-02 3.15673980e-02 1.18362036e-01\n",
      " 1.36586281e-01 2.81056184e-02 1.78648684e-04 9.01588300e-05\n",
      " 2.13007313e-03 2.22273263e-03 4.65203366e-03 2.11134695e-03\n",
      " 5.60079011e-05 2.22168948e-03 7.17344967e-03 4.06393446e-03\n",
      " 3.92156504e-03 3.97923349e-03 2.83603871e-03 2.00939268e-03\n",
      " 2.18856595e-03 2.04039060e-03 1.84019142e-03 1.57375431e-03\n",
      " 5.69900295e-02 5.60068224e-02 6.20120882e-03 1.07928451e-05\n",
      " 2.60208274e-03 2.36995298e-03 7.16425951e-05 3.70103110e-03\n",
      " 2.92802793e-03 1.91746482e-03 4.28330089e-02 3.79078206e-02\n",
      " 1.28652622e-02 4.34168265e-02 1.27390377e-01 2.48948008e-03\n",
      " 9.84092146e-05 4.72192425e-02 3.74699104e-06]\n"
     ]
    }
   ],
   "source": [
    "# Random forest model feature contribution visualization\n",
    "\n",
    "rf_feature_importances = rf.feature_importances_\n",
    "print(rf_feature_importances)"
   ]
  },
  {
   "cell_type": "code",
   "execution_count": 332,
   "metadata": {
    "ExecuteTime": {
     "end_time": "2019-07-10T22:36:44.784201Z",
     "start_time": "2019-07-10T22:36:44.746794Z"
    }
   },
   "outputs": [
    {
     "name": "stdout",
     "output_type": "stream",
     "text": [
      "71 71\n"
     ]
    },
    {
     "data": {
      "text/html": [
       "<div>\n",
       "<style scoped>\n",
       "    .dataframe tbody tr th:only-of-type {\n",
       "        vertical-align: middle;\n",
       "    }\n",
       "\n",
       "    .dataframe tbody tr th {\n",
       "        vertical-align: top;\n",
       "    }\n",
       "\n",
       "    .dataframe thead th {\n",
       "        text-align: right;\n",
       "    }\n",
       "</style>\n",
       "<table border=\"1\" class=\"dataframe\">\n",
       "  <thead>\n",
       "    <tr style=\"text-align: right;\">\n",
       "      <th></th>\n",
       "      <th>Feature_names</th>\n",
       "      <th>Feature_importances</th>\n",
       "    </tr>\n",
       "  </thead>\n",
       "  <tbody>\n",
       "    <tr>\n",
       "      <th>32</th>\n",
       "      <td>last_pymnt_amnt</td>\n",
       "      <td>0.136586</td>\n",
       "    </tr>\n",
       "    <tr>\n",
       "      <th>66</th>\n",
       "      <td>total_rec_prncp</td>\n",
       "      <td>0.127390</td>\n",
       "    </tr>\n",
       "    <tr>\n",
       "      <th>31</th>\n",
       "      <td>last_pmt_year</td>\n",
       "      <td>0.118362</td>\n",
       "    </tr>\n",
       "    <tr>\n",
       "      <th>52</th>\n",
       "      <td>out_prncp</td>\n",
       "      <td>0.056990</td>\n",
       "    </tr>\n",
       "    <tr>\n",
       "      <th>53</th>\n",
       "      <td>out_prncp_inv</td>\n",
       "      <td>0.056007</td>\n",
       "    </tr>\n",
       "    <tr>\n",
       "      <th>69</th>\n",
       "      <td>vintage</td>\n",
       "      <td>0.047219</td>\n",
       "    </tr>\n",
       "    <tr>\n",
       "      <th>65</th>\n",
       "      <td>total_rec_late_fee</td>\n",
       "      <td>0.043417</td>\n",
       "    </tr>\n",
       "    <tr>\n",
       "      <th>62</th>\n",
       "      <td>total_pymnt</td>\n",
       "      <td>0.042833</td>\n",
       "    </tr>\n",
       "    <tr>\n",
       "      <th>28</th>\n",
       "      <td>inq_last_6mths</td>\n",
       "      <td>0.038019</td>\n",
       "    </tr>\n",
       "    <tr>\n",
       "      <th>63</th>\n",
       "      <td>total_pymnt_inv</td>\n",
       "      <td>0.037908</td>\n",
       "    </tr>\n",
       "    <tr>\n",
       "      <th>3</th>\n",
       "      <td>Maturity</td>\n",
       "      <td>0.034651</td>\n",
       "    </tr>\n",
       "    <tr>\n",
       "      <th>30</th>\n",
       "      <td>int_rate</td>\n",
       "      <td>0.031567</td>\n",
       "    </tr>\n",
       "    <tr>\n",
       "      <th>33</th>\n",
       "      <td>loan_amnt</td>\n",
       "      <td>0.028106</td>\n",
       "    </tr>\n",
       "    <tr>\n",
       "      <th>24</th>\n",
       "      <td>funded_amnt</td>\n",
       "      <td>0.027672</td>\n",
       "    </tr>\n",
       "    <tr>\n",
       "      <th>25</th>\n",
       "      <td>funded_amnt_inv</td>\n",
       "      <td>0.022322</td>\n",
       "    </tr>\n",
       "    <tr>\n",
       "      <th>29</th>\n",
       "      <td>installment</td>\n",
       "      <td>0.019976</td>\n",
       "    </tr>\n",
       "    <tr>\n",
       "      <th>64</th>\n",
       "      <td>total_rec_int</td>\n",
       "      <td>0.012865</td>\n",
       "    </tr>\n",
       "    <tr>\n",
       "      <th>23</th>\n",
       "      <td>emp_length_int</td>\n",
       "      <td>0.011687</td>\n",
       "    </tr>\n",
       "    <tr>\n",
       "      <th>9</th>\n",
       "      <td>acc_open_past_24mths</td>\n",
       "      <td>0.009538</td>\n",
       "    </tr>\n",
       "    <tr>\n",
       "      <th>42</th>\n",
       "      <td>num_accts_ever_120_pd</td>\n",
       "      <td>0.007173</td>\n",
       "    </tr>\n",
       "    <tr>\n",
       "      <th>54</th>\n",
       "      <td>pub_rec</td>\n",
       "      <td>0.006201</td>\n",
       "    </tr>\n",
       "    <tr>\n",
       "      <th>19</th>\n",
       "      <td>delinq_2yrs</td>\n",
       "      <td>0.005102</td>\n",
       "    </tr>\n",
       "    <tr>\n",
       "      <th>38</th>\n",
       "      <td>mo_sin_rcnt_tl</td>\n",
       "      <td>0.004652</td>\n",
       "    </tr>\n",
       "    <tr>\n",
       "      <th>43</th>\n",
       "      <td>num_actv_bc_tl</td>\n",
       "      <td>0.004064</td>\n",
       "    </tr>\n",
       "    <tr>\n",
       "      <th>45</th>\n",
       "      <td>num_bc_sats</td>\n",
       "      <td>0.003979</td>\n",
       "    </tr>\n",
       "    <tr>\n",
       "      <th>17</th>\n",
       "      <td>credit_card</td>\n",
       "      <td>0.003929</td>\n",
       "    </tr>\n",
       "    <tr>\n",
       "      <th>44</th>\n",
       "      <td>num_actv_rev_tl</td>\n",
       "      <td>0.003922</td>\n",
       "    </tr>\n",
       "    <tr>\n",
       "      <th>59</th>\n",
       "      <td>tot_coll_amt</td>\n",
       "      <td>0.003701</td>\n",
       "    </tr>\n",
       "    <tr>\n",
       "      <th>12</th>\n",
       "      <td>bc_open_to_buy</td>\n",
       "      <td>0.003079</td>\n",
       "    </tr>\n",
       "    <tr>\n",
       "      <th>60</th>\n",
       "      <td>tot_cur_bal</td>\n",
       "      <td>0.002928</td>\n",
       "    </tr>\n",
       "  </tbody>\n",
       "</table>\n",
       "</div>"
      ],
      "text/plain": [
       "            Feature_names  Feature_importances\n",
       "32        last_pymnt_amnt             0.136586\n",
       "66        total_rec_prncp             0.127390\n",
       "31          last_pmt_year             0.118362\n",
       "52              out_prncp             0.056990\n",
       "53          out_prncp_inv             0.056007\n",
       "69                vintage             0.047219\n",
       "65     total_rec_late_fee             0.043417\n",
       "62            total_pymnt             0.042833\n",
       "28         inq_last_6mths             0.038019\n",
       "63        total_pymnt_inv             0.037908\n",
       "3                Maturity             0.034651\n",
       "30               int_rate             0.031567\n",
       "33              loan_amnt             0.028106\n",
       "24            funded_amnt             0.027672\n",
       "25        funded_amnt_inv             0.022322\n",
       "29            installment             0.019976\n",
       "64          total_rec_int             0.012865\n",
       "23         emp_length_int             0.011687\n",
       "9    acc_open_past_24mths             0.009538\n",
       "42  num_accts_ever_120_pd             0.007173\n",
       "54                pub_rec             0.006201\n",
       "19            delinq_2yrs             0.005102\n",
       "38         mo_sin_rcnt_tl             0.004652\n",
       "43         num_actv_bc_tl             0.004064\n",
       "45            num_bc_sats             0.003979\n",
       "17            credit_card             0.003929\n",
       "44        num_actv_rev_tl             0.003922\n",
       "59           tot_coll_amt             0.003701\n",
       "12         bc_open_to_buy             0.003079\n",
       "60            tot_cur_bal             0.002928"
      ]
     },
     "execution_count": 332,
     "metadata": {},
     "output_type": "execute_result"
    }
   ],
   "source": [
    "print(len(features_full.columns), len(rf_feature_importances))\n",
    "rf_feature_analysis = pd.DataFrame(\n",
    "    {'Feature_names': features_full.columns, 'Feature_importances': rf_feature_importances})\n",
    "rf_feature_analysis.sort_values(\n",
    "    by=['Feature_importances'], ascending=False, inplace=True)\n",
    "rf_feature_analysis.head(30)"
   ]
  },
  {
   "cell_type": "code",
   "execution_count": 333,
   "metadata": {
    "ExecuteTime": {
     "end_time": "2019-07-10T22:36:49.762877Z",
     "start_time": "2019-07-10T22:36:48.342557Z"
    }
   },
   "outputs": [
    {
     "data": {
      "image/png": "[encoded data removed]",
      "text/plain": [
       "<Figure size 720x720 with 1 Axes>"
      ]
     },
     "metadata": {},
     "output_type": "display_data"
    }
   ],
   "source": [
    "rf_tree_graph = sns.barplot(\n",
    "    x='Feature_importances', y='Feature_names', data=rf_feature_analysis, palette=\"PiYG\")\n",
    "rf_tree_graph.set_title(\"Random forest feature importance\", fontsize=16)\n",
    "rf_tree_graph.set_xlabel(\"feature importance score\", fontsize=14)\n",
    "rf_tree_graph.set_ylabel(\"feature name\", fontsize=14)\n",
    "plt.show()\n",
    "plt.close()"
   ]
  },
  {
   "cell_type": "code",
   "execution_count": 334,
   "metadata": {
    "ExecuteTime": {
     "end_time": "2019-07-10T22:36:56.941995Z",
     "start_time": "2019-07-10T22:36:53.421673Z"
    },
    "scrolled": true
   },
   "outputs": [
    {
     "name": "stdout",
     "output_type": "stream",
     "text": [
      "              precision    recall  f1-score   support\n",
      "\n",
      "           0       0.88      0.99      0.93    217459\n",
      "           1       1.00      0.98      0.99   1626147\n",
      "\n",
      "    accuracy                           0.98   1843606\n",
      "   macro avg       0.94      0.98      0.96   1843606\n",
      "weighted avg       0.98      0.98      0.98   1843606\n",
      "\n"
     ]
    }
   ],
   "source": [
    "print(metrics.classification_report(y_pred, y_test))"
   ]
  },
  {
   "cell_type": "markdown",
   "metadata": {},
   "source": [
    "## Random forest regression\n",
    "Finally, the performance of the random forest regression is assessed."
   ]
  },
  {
   "cell_type": "code",
   "execution_count": 245,
   "metadata": {
    "ExecuteTime": {
     "end_time": "2019-07-10T17:10:42.084913Z",
     "start_time": "2019-07-10T16:57:21.589058Z"
    }
   },
   "outputs": [
    {
     "name": "stderr",
     "output_type": "stream",
     "text": [
      "/Applications/anaconda3/lib/python3.7/site-packages/sklearn/ensemble/forest.py:245: FutureWarning: The default value of n_estimators will change from 10 in version 0.20 to 100 in 0.22.\n",
      "  \"10 in version 0.20 to 100 in 0.22.\", FutureWarning)\n",
      "/Applications/anaconda3/lib/python3.7/site-packages/sklearn/ensemble/forest.py:245: FutureWarning: The default value of n_estimators will change from 10 in version 0.20 to 100 in 0.22.\n",
      "  \"10 in version 0.20 to 100 in 0.22.\", FutureWarning)\n",
      "/Applications/anaconda3/lib/python3.7/site-packages/sklearn/ensemble/forest.py:245: FutureWarning: The default value of n_estimators will change from 10 in version 0.20 to 100 in 0.22.\n",
      "  \"10 in version 0.20 to 100 in 0.22.\", FutureWarning)\n",
      "/Applications/anaconda3/lib/python3.7/site-packages/sklearn/ensemble/forest.py:245: FutureWarning: The default value of n_estimators will change from 10 in version 0.20 to 100 in 0.22.\n",
      "  \"10 in version 0.20 to 100 in 0.22.\", FutureWarning)\n",
      "/Applications/anaconda3/lib/python3.7/site-packages/sklearn/ensemble/forest.py:245: FutureWarning: The default value of n_estimators will change from 10 in version 0.20 to 100 in 0.22.\n",
      "  \"10 in version 0.20 to 100 in 0.22.\", FutureWarning)\n",
      "/Applications/anaconda3/lib/python3.7/site-packages/sklearn/ensemble/forest.py:245: FutureWarning: The default value of n_estimators will change from 10 in version 0.20 to 100 in 0.22.\n",
      "  \"10 in version 0.20 to 100 in 0.22.\", FutureWarning)\n",
      "/Applications/anaconda3/lib/python3.7/site-packages/sklearn/ensemble/forest.py:245: FutureWarning: The default value of n_estimators will change from 10 in version 0.20 to 100 in 0.22.\n",
      "  \"10 in version 0.20 to 100 in 0.22.\", FutureWarning)\n",
      "/Applications/anaconda3/lib/python3.7/site-packages/sklearn/ensemble/forest.py:245: FutureWarning: The default value of n_estimators will change from 10 in version 0.20 to 100 in 0.22.\n",
      "  \"10 in version 0.20 to 100 in 0.22.\", FutureWarning)\n",
      "/Applications/anaconda3/lib/python3.7/site-packages/sklearn/ensemble/forest.py:245: FutureWarning: The default value of n_estimators will change from 10 in version 0.20 to 100 in 0.22.\n",
      "  \"10 in version 0.20 to 100 in 0.22.\", FutureWarning)\n",
      "/Applications/anaconda3/lib/python3.7/site-packages/sklearn/ensemble/forest.py:245: FutureWarning: The default value of n_estimators will change from 10 in version 0.20 to 100 in 0.22.\n",
      "  \"10 in version 0.20 to 100 in 0.22.\", FutureWarning)\n",
      "/Applications/anaconda3/lib/python3.7/site-packages/sklearn/ensemble/forest.py:245: FutureWarning: The default value of n_estimators will change from 10 in version 0.20 to 100 in 0.22.\n",
      "  \"10 in version 0.20 to 100 in 0.22.\", FutureWarning)\n",
      "/Applications/anaconda3/lib/python3.7/site-packages/sklearn/ensemble/forest.py:245: FutureWarning: The default value of n_estimators will change from 10 in version 0.20 to 100 in 0.22.\n",
      "  \"10 in version 0.20 to 100 in 0.22.\", FutureWarning)\n",
      "/Applications/anaconda3/lib/python3.7/site-packages/sklearn/ensemble/forest.py:245: FutureWarning: The default value of n_estimators will change from 10 in version 0.20 to 100 in 0.22.\n",
      "  \"10 in version 0.20 to 100 in 0.22.\", FutureWarning)\n",
      "/Applications/anaconda3/lib/python3.7/site-packages/sklearn/ensemble/forest.py:245: FutureWarning: The default value of n_estimators will change from 10 in version 0.20 to 100 in 0.22.\n",
      "  \"10 in version 0.20 to 100 in 0.22.\", FutureWarning)\n",
      "/Applications/anaconda3/lib/python3.7/site-packages/sklearn/ensemble/forest.py:245: FutureWarning: The default value of n_estimators will change from 10 in version 0.20 to 100 in 0.22.\n",
      "  \"10 in version 0.20 to 100 in 0.22.\", FutureWarning)\n",
      "/Applications/anaconda3/lib/python3.7/site-packages/sklearn/ensemble/forest.py:245: FutureWarning: The default value of n_estimators will change from 10 in version 0.20 to 100 in 0.22.\n",
      "  \"10 in version 0.20 to 100 in 0.22.\", FutureWarning)\n",
      "/Applications/anaconda3/lib/python3.7/site-packages/sklearn/ensemble/forest.py:245: FutureWarning: The default value of n_estimators will change from 10 in version 0.20 to 100 in 0.22.\n",
      "  \"10 in version 0.20 to 100 in 0.22.\", FutureWarning)\n",
      "/Applications/anaconda3/lib/python3.7/site-packages/sklearn/ensemble/forest.py:245: FutureWarning: The default value of n_estimators will change from 10 in version 0.20 to 100 in 0.22.\n",
      "  \"10 in version 0.20 to 100 in 0.22.\", FutureWarning)\n",
      "/Applications/anaconda3/lib/python3.7/site-packages/sklearn/ensemble/forest.py:245: FutureWarning: The default value of n_estimators will change from 10 in version 0.20 to 100 in 0.22.\n",
      "  \"10 in version 0.20 to 100 in 0.22.\", FutureWarning)\n",
      "/Applications/anaconda3/lib/python3.7/site-packages/sklearn/ensemble/forest.py:245: FutureWarning: The default value of n_estimators will change from 10 in version 0.20 to 100 in 0.22.\n",
      "  \"10 in version 0.20 to 100 in 0.22.\", FutureWarning)\n",
      "/Applications/anaconda3/lib/python3.7/site-packages/sklearn/ensemble/forest.py:245: FutureWarning: The default value of n_estimators will change from 10 in version 0.20 to 100 in 0.22.\n",
      "  \"10 in version 0.20 to 100 in 0.22.\", FutureWarning)\n",
      "/Applications/anaconda3/lib/python3.7/site-packages/sklearn/ensemble/forest.py:245: FutureWarning: The default value of n_estimators will change from 10 in version 0.20 to 100 in 0.22.\n",
      "  \"10 in version 0.20 to 100 in 0.22.\", FutureWarning)\n",
      "/Applications/anaconda3/lib/python3.7/site-packages/sklearn/ensemble/forest.py:245: FutureWarning: The default value of n_estimators will change from 10 in version 0.20 to 100 in 0.22.\n",
      "  \"10 in version 0.20 to 100 in 0.22.\", FutureWarning)\n",
      "/Applications/anaconda3/lib/python3.7/site-packages/sklearn/ensemble/forest.py:245: FutureWarning: The default value of n_estimators will change from 10 in version 0.20 to 100 in 0.22.\n",
      "  \"10 in version 0.20 to 100 in 0.22.\", FutureWarning)\n",
      "/Applications/anaconda3/lib/python3.7/site-packages/sklearn/ensemble/forest.py:245: FutureWarning: The default value of n_estimators will change from 10 in version 0.20 to 100 in 0.22.\n",
      "  \"10 in version 0.20 to 100 in 0.22.\", FutureWarning)\n",
      "/Applications/anaconda3/lib/python3.7/site-packages/sklearn/ensemble/forest.py:245: FutureWarning: The default value of n_estimators will change from 10 in version 0.20 to 100 in 0.22.\n",
      "  \"10 in version 0.20 to 100 in 0.22.\", FutureWarning)\n",
      "/Applications/anaconda3/lib/python3.7/site-packages/sklearn/ensemble/forest.py:245: FutureWarning: The default value of n_estimators will change from 10 in version 0.20 to 100 in 0.22.\n",
      "  \"10 in version 0.20 to 100 in 0.22.\", FutureWarning)\n",
      "/Applications/anaconda3/lib/python3.7/site-packages/sklearn/ensemble/forest.py:245: FutureWarning: The default value of n_estimators will change from 10 in version 0.20 to 100 in 0.22.\n",
      "  \"10 in version 0.20 to 100 in 0.22.\", FutureWarning)\n",
      "/Applications/anaconda3/lib/python3.7/site-packages/sklearn/ensemble/forest.py:245: FutureWarning: The default value of n_estimators will change from 10 in version 0.20 to 100 in 0.22.\n",
      "  \"10 in version 0.20 to 100 in 0.22.\", FutureWarning)\n",
      "/Applications/anaconda3/lib/python3.7/site-packages/sklearn/ensemble/forest.py:245: FutureWarning: The default value of n_estimators will change from 10 in version 0.20 to 100 in 0.22.\n",
      "  \"10 in version 0.20 to 100 in 0.22.\", FutureWarning)\n",
      "/Applications/anaconda3/lib/python3.7/site-packages/sklearn/ensemble/forest.py:245: FutureWarning: The default value of n_estimators will change from 10 in version 0.20 to 100 in 0.22.\n",
      "  \"10 in version 0.20 to 100 in 0.22.\", FutureWarning)\n",
      "/Applications/anaconda3/lib/python3.7/site-packages/sklearn/ensemble/forest.py:245: FutureWarning: The default value of n_estimators will change from 10 in version 0.20 to 100 in 0.22.\n",
      "  \"10 in version 0.20 to 100 in 0.22.\", FutureWarning)\n",
      "/Applications/anaconda3/lib/python3.7/site-packages/sklearn/ensemble/forest.py:245: FutureWarning: The default value of n_estimators will change from 10 in version 0.20 to 100 in 0.22.\n",
      "  \"10 in version 0.20 to 100 in 0.22.\", FutureWarning)\n",
      "/Applications/anaconda3/lib/python3.7/site-packages/sklearn/ensemble/forest.py:245: FutureWarning: The default value of n_estimators will change from 10 in version 0.20 to 100 in 0.22.\n",
      "  \"10 in version 0.20 to 100 in 0.22.\", FutureWarning)\n",
      "/Applications/anaconda3/lib/python3.7/site-packages/sklearn/ensemble/forest.py:245: FutureWarning: The default value of n_estimators will change from 10 in version 0.20 to 100 in 0.22.\n",
      "  \"10 in version 0.20 to 100 in 0.22.\", FutureWarning)\n"
     ]
    },
    {
     "name": "stderr",
     "output_type": "stream",
     "text": [
      "/Applications/anaconda3/lib/python3.7/site-packages/sklearn/ensemble/forest.py:245: FutureWarning: The default value of n_estimators will change from 10 in version 0.20 to 100 in 0.22.\n",
      "  \"10 in version 0.20 to 100 in 0.22.\", FutureWarning)\n",
      "/Applications/anaconda3/lib/python3.7/site-packages/sklearn/ensemble/forest.py:245: FutureWarning: The default value of n_estimators will change from 10 in version 0.20 to 100 in 0.22.\n",
      "  \"10 in version 0.20 to 100 in 0.22.\", FutureWarning)\n",
      "/Applications/anaconda3/lib/python3.7/site-packages/sklearn/ensemble/forest.py:245: FutureWarning: The default value of n_estimators will change from 10 in version 0.20 to 100 in 0.22.\n",
      "  \"10 in version 0.20 to 100 in 0.22.\", FutureWarning)\n",
      "/Applications/anaconda3/lib/python3.7/site-packages/sklearn/ensemble/forest.py:245: FutureWarning: The default value of n_estimators will change from 10 in version 0.20 to 100 in 0.22.\n",
      "  \"10 in version 0.20 to 100 in 0.22.\", FutureWarning)\n",
      "/Applications/anaconda3/lib/python3.7/site-packages/sklearn/ensemble/forest.py:245: FutureWarning: The default value of n_estimators will change from 10 in version 0.20 to 100 in 0.22.\n",
      "  \"10 in version 0.20 to 100 in 0.22.\", FutureWarning)\n",
      "/Applications/anaconda3/lib/python3.7/site-packages/sklearn/ensemble/forest.py:245: FutureWarning: The default value of n_estimators will change from 10 in version 0.20 to 100 in 0.22.\n",
      "  \"10 in version 0.20 to 100 in 0.22.\", FutureWarning)\n",
      "/Applications/anaconda3/lib/python3.7/site-packages/sklearn/ensemble/forest.py:245: FutureWarning: The default value of n_estimators will change from 10 in version 0.20 to 100 in 0.22.\n",
      "  \"10 in version 0.20 to 100 in 0.22.\", FutureWarning)\n",
      "/Applications/anaconda3/lib/python3.7/site-packages/sklearn/ensemble/forest.py:245: FutureWarning: The default value of n_estimators will change from 10 in version 0.20 to 100 in 0.22.\n",
      "  \"10 in version 0.20 to 100 in 0.22.\", FutureWarning)\n",
      "/Applications/anaconda3/lib/python3.7/site-packages/sklearn/ensemble/forest.py:245: FutureWarning: The default value of n_estimators will change from 10 in version 0.20 to 100 in 0.22.\n",
      "  \"10 in version 0.20 to 100 in 0.22.\", FutureWarning)\n",
      "/Applications/anaconda3/lib/python3.7/site-packages/sklearn/ensemble/forest.py:245: FutureWarning: The default value of n_estimators will change from 10 in version 0.20 to 100 in 0.22.\n",
      "  \"10 in version 0.20 to 100 in 0.22.\", FutureWarning)\n",
      "/Applications/anaconda3/lib/python3.7/site-packages/sklearn/ensemble/forest.py:245: FutureWarning: The default value of n_estimators will change from 10 in version 0.20 to 100 in 0.22.\n",
      "  \"10 in version 0.20 to 100 in 0.22.\", FutureWarning)\n",
      "/Applications/anaconda3/lib/python3.7/site-packages/sklearn/ensemble/forest.py:245: FutureWarning: The default value of n_estimators will change from 10 in version 0.20 to 100 in 0.22.\n",
      "  \"10 in version 0.20 to 100 in 0.22.\", FutureWarning)\n",
      "/Applications/anaconda3/lib/python3.7/site-packages/sklearn/ensemble/forest.py:245: FutureWarning: The default value of n_estimators will change from 10 in version 0.20 to 100 in 0.22.\n",
      "  \"10 in version 0.20 to 100 in 0.22.\", FutureWarning)\n",
      "/Applications/anaconda3/lib/python3.7/site-packages/sklearn/ensemble/forest.py:245: FutureWarning: The default value of n_estimators will change from 10 in version 0.20 to 100 in 0.22.\n",
      "  \"10 in version 0.20 to 100 in 0.22.\", FutureWarning)\n"
     ]
    },
    {
     "data": {
      "image/png": "[encoded data removed]",
      "text/plain": [
       "<Figure size 720x720 with 1 Axes>"
      ]
     },
     "metadata": {},
     "output_type": "display_data"
    }
   ],
   "source": [
    "fig = plt.figure()\n",
    "ax0 = fig.add_subplot(111)\n",
    "RMSE_train = []\n",
    "RMSE_test = []\n",
    "for i in range(1, 50):\n",
    "    # Paramterize the model and let i be the number of minimum instances per leaf node\n",
    "    regression_model = RandomForestRegressor(\n",
    "        criterion=\"mse\", min_samples_leaf=i)\n",
    "    # Train the model\n",
    "    regression_model.fit(x_res, y_res)\n",
    "    # Predict query instances\n",
    "    predicted_train = regression_model.predict(x_res)\n",
    "    predicted_test = regression_model.predict(X_test)\n",
    "    # Calculate and append the RMSEs\n",
    "    RMSE_train.append(\n",
    "        np.sqrt(np.sum(((y_res-predicted_train)**2)/len(y_res))))\n",
    "    RMSE_test.append(np.sqrt(np.sum(((y_test-predicted_test)**2)/len(y_test))))\n",
    "\n",
    "ax0.plot(range(1, 50), RMSE_test, label='Test_Data')\n",
    "ax0.plot(range(1, 50), RMSE_train, label='Train_Data')\n",
    "\n",
    "ax0.set_title('RMSE with respect to the minumim number of instances per node')\n",
    "ax0.set_xlabel('#Instances')\n",
    "ax0.set_ylabel('RMSE')\n",
    "ax0.legend(loc='upper center', bbox_to_anchor=(\n",
    "    0.5, -0.05), shadow=True, ncol=2)\n",
    "plt.show()\n",
    "\n",
    "plt.show()"
   ]
  },
  {
   "cell_type": "markdown",
   "metadata": {},
   "source": [
    "# Conclusion\n",
    "Based on the variables identified in the two models, the variables to pass onto the next steps are\n"
   ]
  },
  {
   "cell_type": "code",
   "execution_count": 340,
   "metadata": {
    "ExecuteTime": {
     "end_time": "2019-07-10T22:39:16.325614Z",
     "start_time": "2019-07-10T22:39:16.308406Z"
    }
   },
   "outputs": [],
   "source": [
    "dt_feature_analysis.columns = ['DT_feature', 'DT_importance']\n",
    "rf_feature_analysis.columns = ['RF_feature', 'RF_importance']\n",
    "feature_analysis = pd.concat(\n",
    "    [dt_feature_analysis, rf_feature_analysis], axis=1)\n",
    "\n",
    "feature_analysis['rank_DT'] = feature_analysis['DT_importance'].rank(\n",
    "    ascending=True)\n",
    "feature_analysis['rank_RF'] = feature_analysis['RF_importance'].rank(\n",
    "    ascending=True)\n",
    "feature_analysis['mean_rank'] = (\n",
    "    feature_analysis['rank_DT'] + feature_analysis['rank_RF'])/2\n",
    "feature_analysis['mean_importance'] = (\n",
    "    feature_analysis['DT_importance']**2 + feature_analysis['RF_importance']**2)**0.5*100\n"
   ]
  },
  {
   "cell_type": "code",
   "execution_count": 351,
   "metadata": {
    "ExecuteTime": {
     "end_time": "2019-07-10T22:41:56.343290Z",
     "start_time": "2019-07-10T22:41:56.318783Z"
    }
   },
   "outputs": [
    {
     "data": {
      "text/html": [
       "<div>\n",
       "<style scoped>\n",
       "    .dataframe tbody tr th:only-of-type {\n",
       "        vertical-align: middle;\n",
       "    }\n",
       "\n",
       "    .dataframe tbody tr th {\n",
       "        vertical-align: top;\n",
       "    }\n",
       "\n",
       "    .dataframe thead th {\n",
       "        text-align: right;\n",
       "    }\n",
       "</style>\n",
       "<table border=\"1\" class=\"dataframe\">\n",
       "  <thead>\n",
       "    <tr style=\"text-align: right;\">\n",
       "      <th></th>\n",
       "      <th>DT_feature</th>\n",
       "      <th>DT_importance</th>\n",
       "      <th>RF_feature</th>\n",
       "      <th>RF_importance</th>\n",
       "      <th>rank_DT</th>\n",
       "      <th>rank_RF</th>\n",
       "      <th>mean_rank</th>\n",
       "      <th>mean_importance</th>\n",
       "    </tr>\n",
       "  </thead>\n",
       "  <tbody>\n",
       "    <tr>\n",
       "      <th>32</th>\n",
       "      <td>last_pymnt_amnt</td>\n",
       "      <td>0.35</td>\n",
       "      <td>last_pymnt_amnt</td>\n",
       "      <td>0.14</td>\n",
       "      <td>71.00</td>\n",
       "      <td>71.00</td>\n",
       "      <td>71.00</td>\n",
       "      <td>37.96</td>\n",
       "    </tr>\n",
       "    <tr>\n",
       "      <th>31</th>\n",
       "      <td>last_pmt_year</td>\n",
       "      <td>0.23</td>\n",
       "      <td>last_pmt_year</td>\n",
       "      <td>0.12</td>\n",
       "      <td>70.00</td>\n",
       "      <td>69.00</td>\n",
       "      <td>69.50</td>\n",
       "      <td>26.08</td>\n",
       "    </tr>\n",
       "    <tr>\n",
       "      <th>66</th>\n",
       "      <td>total_rec_prncp</td>\n",
       "      <td>0.13</td>\n",
       "      <td>total_rec_prncp</td>\n",
       "      <td>0.13</td>\n",
       "      <td>69.00</td>\n",
       "      <td>70.00</td>\n",
       "      <td>69.50</td>\n",
       "      <td>18.03</td>\n",
       "    </tr>\n",
       "    <tr>\n",
       "      <th>33</th>\n",
       "      <td>loan_amnt</td>\n",
       "      <td>0.08</td>\n",
       "      <td>loan_amnt</td>\n",
       "      <td>0.03</td>\n",
       "      <td>68.00</td>\n",
       "      <td>59.00</td>\n",
       "      <td>63.50</td>\n",
       "      <td>8.56</td>\n",
       "    </tr>\n",
       "    <tr>\n",
       "      <th>65</th>\n",
       "      <td>total_rec_late_fee</td>\n",
       "      <td>0.05</td>\n",
       "      <td>total_rec_late_fee</td>\n",
       "      <td>0.04</td>\n",
       "      <td>67.00</td>\n",
       "      <td>65.00</td>\n",
       "      <td>66.00</td>\n",
       "      <td>6.67</td>\n",
       "    </tr>\n",
       "    <tr>\n",
       "      <th>69</th>\n",
       "      <td>vintage</td>\n",
       "      <td>0.03</td>\n",
       "      <td>vintage</td>\n",
       "      <td>0.05</td>\n",
       "      <td>65.00</td>\n",
       "      <td>66.00</td>\n",
       "      <td>65.50</td>\n",
       "      <td>5.81</td>\n",
       "    </tr>\n",
       "    <tr>\n",
       "      <th>52</th>\n",
       "      <td>out_prncp</td>\n",
       "      <td>0.00</td>\n",
       "      <td>out_prncp</td>\n",
       "      <td>0.06</td>\n",
       "      <td>59.00</td>\n",
       "      <td>68.00</td>\n",
       "      <td>63.50</td>\n",
       "      <td>5.72</td>\n",
       "    </tr>\n",
       "    <tr>\n",
       "      <th>53</th>\n",
       "      <td>out_prncp_inv</td>\n",
       "      <td>0.00</td>\n",
       "      <td>out_prncp_inv</td>\n",
       "      <td>0.06</td>\n",
       "      <td>55.00</td>\n",
       "      <td>67.00</td>\n",
       "      <td>61.00</td>\n",
       "      <td>5.60</td>\n",
       "    </tr>\n",
       "    <tr>\n",
       "      <th>3</th>\n",
       "      <td>Maturity</td>\n",
       "      <td>0.04</td>\n",
       "      <td>Maturity</td>\n",
       "      <td>0.03</td>\n",
       "      <td>66.00</td>\n",
       "      <td>61.00</td>\n",
       "      <td>63.50</td>\n",
       "      <td>5.04</td>\n",
       "    </tr>\n",
       "    <tr>\n",
       "      <th>28</th>\n",
       "      <td>inq_last_6mths</td>\n",
       "      <td>0.02</td>\n",
       "      <td>inq_last_6mths</td>\n",
       "      <td>0.04</td>\n",
       "      <td>64.00</td>\n",
       "      <td>63.00</td>\n",
       "      <td>63.50</td>\n",
       "      <td>4.53</td>\n",
       "    </tr>\n",
       "    <tr>\n",
       "      <th>62</th>\n",
       "      <td>total_pymnt</td>\n",
       "      <td>0.00</td>\n",
       "      <td>total_pymnt</td>\n",
       "      <td>0.04</td>\n",
       "      <td>48.00</td>\n",
       "      <td>64.00</td>\n",
       "      <td>56.00</td>\n",
       "      <td>4.28</td>\n",
       "    </tr>\n",
       "    <tr>\n",
       "      <th>63</th>\n",
       "      <td>total_pymnt_inv</td>\n",
       "      <td>0.00</td>\n",
       "      <td>total_pymnt_inv</td>\n",
       "      <td>0.04</td>\n",
       "      <td>37.00</td>\n",
       "      <td>62.00</td>\n",
       "      <td>49.50</td>\n",
       "      <td>3.79</td>\n",
       "    </tr>\n",
       "    <tr>\n",
       "      <th>30</th>\n",
       "      <td>int_rate</td>\n",
       "      <td>0.01</td>\n",
       "      <td>int_rate</td>\n",
       "      <td>0.03</td>\n",
       "      <td>62.00</td>\n",
       "      <td>60.00</td>\n",
       "      <td>61.00</td>\n",
       "      <td>3.47</td>\n",
       "    </tr>\n",
       "    <tr>\n",
       "      <th>24</th>\n",
       "      <td>funded_amnt</td>\n",
       "      <td>0.02</td>\n",
       "      <td>funded_amnt</td>\n",
       "      <td>0.03</td>\n",
       "      <td>63.00</td>\n",
       "      <td>58.00</td>\n",
       "      <td>60.50</td>\n",
       "      <td>3.38</td>\n",
       "    </tr>\n",
       "    <tr>\n",
       "      <th>25</th>\n",
       "      <td>funded_amnt_inv</td>\n",
       "      <td>0.01</td>\n",
       "      <td>funded_amnt_inv</td>\n",
       "      <td>0.02</td>\n",
       "      <td>60.00</td>\n",
       "      <td>57.00</td>\n",
       "      <td>58.50</td>\n",
       "      <td>2.34</td>\n",
       "    </tr>\n",
       "    <tr>\n",
       "      <th>29</th>\n",
       "      <td>installment</td>\n",
       "      <td>0.00</td>\n",
       "      <td>installment</td>\n",
       "      <td>0.02</td>\n",
       "      <td>56.00</td>\n",
       "      <td>56.00</td>\n",
       "      <td>56.00</td>\n",
       "      <td>2.00</td>\n",
       "    </tr>\n",
       "    <tr>\n",
       "      <th>64</th>\n",
       "      <td>total_rec_int</td>\n",
       "      <td>0.01</td>\n",
       "      <td>total_rec_int</td>\n",
       "      <td>0.01</td>\n",
       "      <td>61.00</td>\n",
       "      <td>55.00</td>\n",
       "      <td>58.00</td>\n",
       "      <td>1.60</td>\n",
       "    </tr>\n",
       "    <tr>\n",
       "      <th>23</th>\n",
       "      <td>emp_length_int</td>\n",
       "      <td>0.00</td>\n",
       "      <td>emp_length_int</td>\n",
       "      <td>0.01</td>\n",
       "      <td>57.00</td>\n",
       "      <td>54.00</td>\n",
       "      <td>55.50</td>\n",
       "      <td>1.17</td>\n",
       "    </tr>\n",
       "    <tr>\n",
       "      <th>9</th>\n",
       "      <td>acc_open_past_24mths</td>\n",
       "      <td>0.00</td>\n",
       "      <td>acc_open_past_24mths</td>\n",
       "      <td>0.01</td>\n",
       "      <td>53.00</td>\n",
       "      <td>53.00</td>\n",
       "      <td>53.00</td>\n",
       "      <td>0.95</td>\n",
       "    </tr>\n",
       "    <tr>\n",
       "      <th>42</th>\n",
       "      <td>num_accts_ever_120_pd</td>\n",
       "      <td>0.00</td>\n",
       "      <td>num_accts_ever_120_pd</td>\n",
       "      <td>0.01</td>\n",
       "      <td>14.50</td>\n",
       "      <td>52.00</td>\n",
       "      <td>33.25</td>\n",
       "      <td>0.72</td>\n",
       "    </tr>\n",
       "    <tr>\n",
       "      <th>54</th>\n",
       "      <td>pub_rec</td>\n",
       "      <td>0.00</td>\n",
       "      <td>pub_rec</td>\n",
       "      <td>0.01</td>\n",
       "      <td>58.00</td>\n",
       "      <td>51.00</td>\n",
       "      <td>54.50</td>\n",
       "      <td>0.64</td>\n",
       "    </tr>\n",
       "    <tr>\n",
       "      <th>19</th>\n",
       "      <td>delinq_2yrs</td>\n",
       "      <td>0.00</td>\n",
       "      <td>delinq_2yrs</td>\n",
       "      <td>0.01</td>\n",
       "      <td>36.00</td>\n",
       "      <td>50.00</td>\n",
       "      <td>43.00</td>\n",
       "      <td>0.51</td>\n",
       "    </tr>\n",
       "    <tr>\n",
       "      <th>38</th>\n",
       "      <td>mo_sin_rcnt_tl</td>\n",
       "      <td>0.00</td>\n",
       "      <td>mo_sin_rcnt_tl</td>\n",
       "      <td>0.00</td>\n",
       "      <td>33.00</td>\n",
       "      <td>49.00</td>\n",
       "      <td>41.00</td>\n",
       "      <td>0.47</td>\n",
       "    </tr>\n",
       "    <tr>\n",
       "      <th>43</th>\n",
       "      <td>num_actv_bc_tl</td>\n",
       "      <td>0.00</td>\n",
       "      <td>num_actv_bc_tl</td>\n",
       "      <td>0.00</td>\n",
       "      <td>29.00</td>\n",
       "      <td>48.00</td>\n",
       "      <td>38.50</td>\n",
       "      <td>0.41</td>\n",
       "    </tr>\n",
       "    <tr>\n",
       "      <th>45</th>\n",
       "      <td>num_bc_sats</td>\n",
       "      <td>0.00</td>\n",
       "      <td>num_bc_sats</td>\n",
       "      <td>0.00</td>\n",
       "      <td>38.00</td>\n",
       "      <td>47.00</td>\n",
       "      <td>42.50</td>\n",
       "      <td>0.40</td>\n",
       "    </tr>\n",
       "  </tbody>\n",
       "</table>\n",
       "</div>"
      ],
      "text/plain": [
       "               DT_feature  DT_importance             RF_feature  \\\n",
       "32        last_pymnt_amnt           0.35        last_pymnt_amnt   \n",
       "31          last_pmt_year           0.23          last_pmt_year   \n",
       "66        total_rec_prncp           0.13        total_rec_prncp   \n",
       "33              loan_amnt           0.08              loan_amnt   \n",
       "65     total_rec_late_fee           0.05     total_rec_late_fee   \n",
       "69                vintage           0.03                vintage   \n",
       "52              out_prncp           0.00              out_prncp   \n",
       "53          out_prncp_inv           0.00          out_prncp_inv   \n",
       "3                Maturity           0.04               Maturity   \n",
       "28         inq_last_6mths           0.02         inq_last_6mths   \n",
       "62            total_pymnt           0.00            total_pymnt   \n",
       "63        total_pymnt_inv           0.00        total_pymnt_inv   \n",
       "30               int_rate           0.01               int_rate   \n",
       "24            funded_amnt           0.02            funded_amnt   \n",
       "25        funded_amnt_inv           0.01        funded_amnt_inv   \n",
       "29            installment           0.00            installment   \n",
       "64          total_rec_int           0.01          total_rec_int   \n",
       "23         emp_length_int           0.00         emp_length_int   \n",
       "9    acc_open_past_24mths           0.00   acc_open_past_24mths   \n",
       "42  num_accts_ever_120_pd           0.00  num_accts_ever_120_pd   \n",
       "54                pub_rec           0.00                pub_rec   \n",
       "19            delinq_2yrs           0.00            delinq_2yrs   \n",
       "38         mo_sin_rcnt_tl           0.00         mo_sin_rcnt_tl   \n",
       "43         num_actv_bc_tl           0.00         num_actv_bc_tl   \n",
       "45            num_bc_sats           0.00            num_bc_sats   \n",
       "\n",
       "    RF_importance  rank_DT  rank_RF  mean_rank  mean_importance  \n",
       "32           0.14    71.00    71.00      71.00            37.96  \n",
       "31           0.12    70.00    69.00      69.50            26.08  \n",
       "66           0.13    69.00    70.00      69.50            18.03  \n",
       "33           0.03    68.00    59.00      63.50             8.56  \n",
       "65           0.04    67.00    65.00      66.00             6.67  \n",
       "69           0.05    65.00    66.00      65.50             5.81  \n",
       "52           0.06    59.00    68.00      63.50             5.72  \n",
       "53           0.06    55.00    67.00      61.00             5.60  \n",
       "3            0.03    66.00    61.00      63.50             5.04  \n",
       "28           0.04    64.00    63.00      63.50             4.53  \n",
       "62           0.04    48.00    64.00      56.00             4.28  \n",
       "63           0.04    37.00    62.00      49.50             3.79  \n",
       "30           0.03    62.00    60.00      61.00             3.47  \n",
       "24           0.03    63.00    58.00      60.50             3.38  \n",
       "25           0.02    60.00    57.00      58.50             2.34  \n",
       "29           0.02    56.00    56.00      56.00             2.00  \n",
       "64           0.01    61.00    55.00      58.00             1.60  \n",
       "23           0.01    57.00    54.00      55.50             1.17  \n",
       "9            0.01    53.00    53.00      53.00             0.95  \n",
       "42           0.01    14.50    52.00      33.25             0.72  \n",
       "54           0.01    58.00    51.00      54.50             0.64  \n",
       "19           0.01    36.00    50.00      43.00             0.51  \n",
       "38           0.00    33.00    49.00      41.00             0.47  \n",
       "43           0.00    29.00    48.00      38.50             0.41  \n",
       "45           0.00    38.00    47.00      42.50             0.40  "
      ]
     },
     "execution_count": 351,
     "metadata": {},
     "output_type": "execute_result"
    }
   ],
   "source": [
    "pd.options.display.float_format = '{:.2f}'.format\n",
    "feature_analysis.sort_values(by='mean_importance', axis=0, ascending=False).head(25)"
   ]
  },
  {
   "cell_type": "markdown",
   "metadata": {},
   "source": [
    "The analysis suggests that some of the most predicitive values are in fact ex post indicators of default or performance indicators.  Hence, the focus here is ex ante prediction, those variables should not be included in the next step of the analysis. These include:\n",
    "\n",
    "- `last_pymnt_amnt`\n",
    "- `last_pmt_year` \n",
    "- `total_rec_prncp` \n",
    "- `total_rec_late_fee`\n",
    "- `total_rec_int`\n",
    "- `funded_amnt_inv` \n",
    "- `installment`\n",
    "- `out_prncp_inv`\n",
    "- `funded_amnt`\n",
    "- `total_pymnt`\n",
    "- `tot_coll_amt`\n",
    "- `out_prncp` \n",
    "- `delinq_amnt`\n",
    "- `total_rec_int`\n",
    "- `total_pymnt_inv`\n",
    "\n",
    "Other variables that were eliminated from this modeling step are: `collection_recovery_fee`, `fico_range_high`, `recoveries`, `fico_range_low`, `last_fico_range_low`, `last_fico_range_high`. \n",
    "\n",
    "The rest of the variables can pass to the next step.\n"
   ]
  },
  {
   "cell_type": "code",
   "execution_count": 309,
   "metadata": {
    "ExecuteTime": {
     "end_time": "2019-07-10T20:00:00.238459Z",
     "start_time": "2019-07-10T19:59:47.747119Z"
    }
   },
   "outputs": [],
   "source": [
    "data_final = data1[{'PERFORMING', 'loan_amnt', 'Maturity', 'vintage', 'int_rate', 'CREDIT_HISTORY', \n",
    "                  'acc_open_past_24mths', 'collections_12_mths_ex_med', 'inq_last_6mths', 'annual_inc', \n",
    "                  'avg_cur_bal', 'dti', 'mo_sin_rcnt_tl', 'num_bc_tl', 'total_acc', 'emp_length_int', \n",
    "                  'open_acc', 'mort_acc', 'num_bc_sats', 'num_rev_accts', 'bc_open_to_buy', \n",
    "                  'mths_since_recent_bc', 'tot_cur_bal', 'num_il_tl', 'debt_consolidation', \n",
    "                  'num_accts_ever_120_pd', 'mo_sin_old_rev_tl_op', 'revol_util', 'revol_bal', \n",
    "                  'delinq_2yrs', 'num_actv_bc_tl', 'mo_sin_rcnt_rev_tl_op', 'pub_rec', 'num_actv_rev_tl', \n",
    "                  'total_rev_hi_lim', 'num_op_rev_tl', 'acc_now_delinq', 'bc_util', \n",
    "                  'chargeoff_within_12_mths', 'delinq_amnt', 'ANY', 'RENT', 'MORTGAGE', 'NONE', 'OTHER', \n",
    "                  'OWN', 'renewable_energy', 'vacation', 'small_business', 'medical', 'other', 'car', \n",
    "                  'credit_card', 'educational', 'home_improvement', 'house', 'major_purchase', 'moving', \n",
    "                  'wedding'}]\n",
    "\n",
    "# save step \n",
    "data_final.to_csv('data/after_dt.csv')"
   ]
  },
  {
   "cell_type": "code",
   "execution_count": 305,
   "metadata": {
    "ExecuteTime": {
     "end_time": "2019-07-10T19:00:43.024784Z",
     "start_time": "2019-07-10T19:00:43.021385Z"
    }
   },
   "outputs": [],
   "source": [
    "# ENDS # ENDS # ENDS\n",
    "#########################################################################################\n",
    "# ENDS ####### (c) Peter Went, 2019\n",
    "#########################################################################################"
   ]
  }
 ],
 "metadata": {
  "kernelspec": {
   "display_name": "Python 3",
   "language": "python",
   "name": "python3"
  },
  "language_info": {
   "codemirror_mode": {
    "name": "ipython",
    "version": 3
   },
   "file_extension": ".py",
   "mimetype": "text/x-python",
   "name": "python",
   "nbconvert_exporter": "python",
   "pygments_lexer": "ipython3",
   "version": "3.7.3"
  },
  "toc": {
   "base_numbering": 1,
   "nav_menu": {},
   "number_sections": true,
   "sideBar": true,
   "skip_h1_title": false,
   "title_cell": "Table of Contents",
   "title_sidebar": "Contents of Decision Tree and Random Forest workbook",
   "toc_cell": false,
   "toc_position": {},
   "toc_section_display": true,
   "toc_window_display": true
  },
  "varInspector": {
   "cols": {
    "lenName": 16,
    "lenType": 16,
    "lenVar": 40
   },
   "kernels_config": {
    "python": {
     "delete_cmd_postfix": "",
     "delete_cmd_prefix": "del ",
     "library": "var_list.py",
     "varRefreshCmd": "print(var_dic_list())"
    },
    "r": {
     "delete_cmd_postfix": ") ",
     "delete_cmd_prefix": "rm(",
     "library": "var_list.r",
     "varRefreshCmd": "cat(var_dic_list()) "
    }
   },
   "types_to_exclude": [
    "module",
    "function",
    "builtin_function_or_method",
    "instance",
    "_Feature"
   ],
   "window_display": false
  }
 },
 "nbformat": 4,
 "nbformat_minor": 2
}
