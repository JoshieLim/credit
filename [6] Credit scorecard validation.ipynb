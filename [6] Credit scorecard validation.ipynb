{
 "cells": [
  {
   "cell_type": "markdown",
   "metadata": {},
   "source": [
    "# The model"
   ]
  },
  {
   "cell_type": "code",
   "execution_count": 1,
   "metadata": {
    "ExecuteTime": {
     "end_time": "2019-06-26T23:43:59.742880Z",
     "start_time": "2019-06-26T23:43:56.975170Z"
    }
   },
   "outputs": [],
   "source": [
    "import pandas as pd \n",
    "import matplotlib.pyplot as plt\n",
    "import seaborn as sns\n",
    "import numpy as np"
   ]
  },
  {
   "cell_type": "markdown",
   "metadata": {},
   "source": [
    "Reading variables"
   ]
  },
  {
   "cell_type": "code",
   "execution_count": 2,
   "metadata": {
    "ExecuteTime": {
     "end_time": "2019-06-26T23:44:10.259899Z",
     "start_time": "2019-06-26T23:43:59.746813Z"
    }
   },
   "outputs": [],
   "source": [
    "data1 = pd.read_csv('/Users/alderaan/Documents/PROJECTS_INSIGHT/data_files/Data_Final/sample_for_modeling.csv')\n",
    "data = data1 #to keep an extra copy when needed."
   ]
  },
  {
   "cell_type": "code",
   "execution_count": 3,
   "metadata": {
    "ExecuteTime": {
     "end_time": "2019-06-26T23:44:10.795943Z",
     "start_time": "2019-06-26T23:44:10.263616Z"
    }
   },
   "outputs": [],
   "source": [
    "data = data1.iloc[:,1:] #remove index"
   ]
  },
  {
   "cell_type": "markdown",
   "metadata": {
    "ExecuteTime": {
     "end_time": "2019-06-20T01:07:21.042681Z",
     "start_time": "2019-06-20T01:07:19.009026Z"
    }
   },
   "source": [
    "## Manual binning\n",
    "Better than non-manual binning"
   ]
  },
  {
   "cell_type": "code",
   "execution_count": 4,
   "metadata": {
    "ExecuteTime": {
     "end_time": "2019-06-26T23:44:27.051565Z",
     "start_time": "2019-06-26T23:44:10.798701Z"
    }
   },
   "outputs": [],
   "source": [
    "# Annual income\n",
    "data['annual_inc_1'] = np.where(data['annual_inc'] < 50000, 1, 0)\n",
    "data['annual_inc_2'] = np.where(\n",
    "    (data['annual_inc'] >= 50000) & (data['annual_inc'] < 85000), 1, 0)\n",
    "data['annual_inc_3'] = np.where(\n",
    "    (data['annual_inc'] >= 58000) & (data['annual_inc'] < 130000), 1, 0)\n",
    "data['annual_inc_4'] = np.where(data['annual_inc'] > 130000, 1, 0)\n",
    "\n",
    "data.loc[data['annual_inc_1'] == 1, 'annual_inc_bin_value'] = int(-11)\n",
    "data.loc[data['annual_inc_2'] == 1, 'annual_inc_bin_value'] = int(-2)\n",
    "data.loc[data['annual_inc_3'] == 1, 'annual_inc_bin_value'] = int(10)\n",
    "data.loc[data['annual_inc_4'] == 1, 'annual_inc_bin_value'] = int(22)\n",
    "\n",
    "# Revolving balance\n",
    "data['revolving_balance_1'] = np.where(data['revol_bal'] < 21000, 1, 0)\n",
    "data['revolving_balance_2'] = np.where(\n",
    "    (data['revol_bal'] >= 21000) & (data['revol_bal'] < 32000), 1, 0)\n",
    "data['revolving_balance_3'] = np.where(\n",
    "    (data['revol_bal'] >= 32000) & (data['revol_bal'] < 45000), 1, 0)\n",
    "data['revolving_balance_4'] = np.where(data['revol_bal'] > 45000, 1, 0)\n",
    "\n",
    "data.loc[data['revolving_balance_1'] == 1, 'revol_bal_bin_value'] = int(1)\n",
    "data.loc[data['revolving_balance_2'] == 1, 'revol_bal_bin_value'] = int(-2)\n",
    "data.loc[data['revolving_balance_3'] == 1, 'revol_bal_bin_value'] = int(-6)\n",
    "data.loc[data['revolving_balance_4'] == 1, 'revol_bal_bin_value'] = int(-11)\n",
    "\n",
    "# Number of inquiries in the last 6 months\n",
    "data['inquiries_6months_1'] = np.where(data['inq_last_6mths'] < 1, 1, 0)\n",
    "data['inquiries_6months_2'] = np.where(\n",
    "    (data['inq_last_6mths'] >= 1) & (data['inq_last_6mths'] < 2), 1, 0)\n",
    "data['inquiries_6months_3'] = np.where(data['inq_last_6mths'] > 2, 1, 0)\n",
    "\n",
    "data.loc[data['inquiries_6months_1'] == 1, 'inq_last_6mths_bin_value'] = int(15)\n",
    "data.loc[data['inquiries_6months_2'] == 1, 'inq_last_6mths_bin_value'] = int(10)\n",
    "data.loc[data['inquiries_6months_3'] == 1, 'inq_last_6mths_bin_value'] = int(-37)\n",
    "\n",
    "# Loan amount\n",
    "data['loan_amnt_1'] = np.where(data['loan_amnt'] < 7000, 1, 0)\n",
    "data['loan_amnt_2'] = np.where(\n",
    "    (data['loan_amnt'] >= 7000) & (data['loan_amnt'] < 11000), 1, 0)\n",
    "data['loan_amnt_3'] = np.where(\n",
    "    (data['loan_amnt'] >= 11000) & (data['loan_amnt'] < 35000), 1, 0)\n",
    "data['loan_amnt_4'] = np.where(data['loan_amnt'] > 35000, 1, 0)\n",
    "\n",
    "data.loc[data['loan_amnt_1'] == 1, 'loan_amnt_bin_value'] = int(22)\n",
    "data.loc[data['loan_amnt_2'] == 1, 'loan_amnt_bin_value'] = int(7)\n",
    "data.loc[data['loan_amnt_3'] == 1, 'loan_amnt_bin_value'] = int(-4)\n",
    "data.loc[data['loan_amnt_4'] == 1, 'loan_amnt_bin_value'] = int(-11)\n",
    "\n",
    "# Debt to income\n",
    "data['debt_to_income_1'] = np.where(data['dti'] < 13, 1, 0)\n",
    "data['debt_to_income_2'] = np.where(\n",
    "    (data['dti'] >= 13) & (data['dti'] < 19), 1, 0)\n",
    "data['debt_to_income_3'] = np.where(\n",
    "    (data['dti'] >= 19) & (data['dti'] < 24), 1, 0)\n",
    "data['debt_to_income_4'] = np.where(\n",
    "    (data['dti'] >= 24) & (data['dti'] < 27), 1, 0)\n",
    "data['debt_to_income_5'] = np.where(data['dti'] > 27, 1, 0)\n",
    "\n",
    "data.loc[data['debt_to_income_1'] == 1, 'dti_bin_value'] = int(16)\n",
    "data.loc[data['debt_to_income_2'] == 1, 'dti_bin_value'] = int(11)\n",
    "data.loc[data['debt_to_income_2'] == 1, 'dti_bin_value'] = int(4)\n",
    "data.loc[data['debt_to_income_4'] == 1, 'dti_bin_value'] = int(-5)\n",
    "data.loc[data['debt_to_income_5'] == 1, 'dti_bin_value'] = int(-15)\n",
    "\n",
    "\n",
    "# Home ownership\n",
    "data = pd.concat([data.drop('home_ownership', axis=1),pd.get_dummies(data['home_ownership'])], axis=1)\n",
    "data.loc[data['MORTGAGE'] == 1, 'housing_bin_value'] = int(-11)\n",
    "data.loc[data['OWN'] == 1, 'housing_bin_value'] = int(0)\n",
    "data.loc[data['RENT'] == 1, 'housing_bin_value'] = int(12)\n",
    "\n",
    "# Purpose\n",
    "data = pd.concat([data.drop('purpose', axis=1),pd.get_dummies(data['purpose'])], axis=1)\n",
    "data.loc[data['home_improvement'] == 1, 'purpose_bin_value'] = int(-8)\n",
    "data.loc[data['credit_card'] == 1, 'purpose_bin_value'] = int(-15)\n",
    "data.loc[data['car'] == 1, 'purpose_bin_value'] = int(-15)\n",
    "data.loc[data['debt_consolidation'] == 1, 'purpose_bin_value'] = int(-15)\n",
    "data.loc[data['educational'] == 1, 'purpose_bin_value'] = int(5)\n",
    "data.loc[data['home_improvement'] == 1, 'purpose_bin_value'] = int(5)\n",
    "data.loc[data['major_purchase'] == 1, 'purpose_bin_value'] = int(5)\n",
    "data.loc[data['medical'] == 1, 'purpose_bin_value'] = int(5)\n",
    "data.loc[data['moving'] == 1, 'purpose_bin_value'] = int(5)\n",
    "data.loc[data['other'] == 1, 'purpose_bin_value'] = int(5)\n",
    "data.loc[data['renewable_energy'] == 1, 'purpose_bin_value'] = int(5)\n",
    "data.loc[data['small_business'] == 1, 'purpose_bin_value'] = int(5)\n",
    "data.loc[data['vacation'] == 1, 'purpose_bin_value'] = int(5)\n",
    "data.loc[data['wedding'] == 1, 'purpose_bin_value'] = int(5)\n"
   ]
  },
  {
   "cell_type": "code",
   "execution_count": 40,
   "metadata": {
    "ExecuteTime": {
     "end_time": "2019-06-27T00:04:22.253961Z",
     "start_time": "2019-06-27T00:04:21.268749Z"
    }
   },
   "outputs": [],
   "source": [
    "col_list = list(data)\n",
    "list_to_sum_score =['annual_inc_bin_value', 'revol_bal_bin_value', 'inq_last_6mths_bin_value',\n",
    "                    'loan_amnt_bin_value', 'dti_bin_value', 'housing_bin_value','purpose_bin_value']\n",
    "data['score'] = (data[list_to_sum_score].sum(axis=1))+250"
   ]
  },
  {
   "cell_type": "code",
   "execution_count": 41,
   "metadata": {
    "ExecuteTime": {
     "end_time": "2019-06-27T00:04:27.518231Z",
     "start_time": "2019-06-27T00:04:26.711635Z"
    }
   },
   "outputs": [
    {
     "data": {
      "text/plain": [
       "<matplotlib.axes._subplots.AxesSubplot at 0x1a1a3c5f28>"
      ]
     },
     "execution_count": 41,
     "metadata": {},
     "output_type": "execute_result"
    },
    {
     "data": {
      "image/png": "[encoded data removed]",
      "text/plain": [
       "<Figure size 432x288 with 2 Axes>"
      ]
     },
     "metadata": {
      "needs_background": "light"
     },
     "output_type": "display_data"
    }
   ],
   "source": [
    "features_limited_values_score = data[{\n",
    "    'PERFORMING', 'score', 'loan_amnt', 'annual_inc', 'dti', 'inq_last_6mths', 'revol_bal'}]\n",
    "sns.heatmap(features_limited_values_score.corr(), cmap=\"PiYG\")\n"
   ]
  },
  {
   "cell_type": "markdown",
   "metadata": {
    "ExecuteTime": {
     "end_time": "2019-06-20T01:16:32.878578Z",
     "start_time": "2019-06-20T01:16:32.867075Z"
    }
   },
   "source": [
    "Select the columns needed for the model"
   ]
  },
  {
   "cell_type": "code",
   "execution_count": 42,
   "metadata": {
    "ExecuteTime": {
     "end_time": "2019-06-27T00:04:33.733278Z",
     "start_time": "2019-06-27T00:04:31.336900Z"
    }
   },
   "outputs": [],
   "source": [
    "data = data[{'PERFORMING', 'int_rate', 'loan_amnt', 'annual_inc', 'dti', 'inq_last_6mths', \n",
    "       'revol_bal', 'annual_inc_1', 'annual_inc_2', 'annual_inc_3', 'annual_inc_4',\n",
    "       'revolving_balance_1', 'revolving_balance_2', 'revolving_balance_3', \n",
    "       'revolving_balance_4', 'inquiries_6months_1', 'inquiries_6months_2',\n",
    "       'inquiries_6months_3', 'loan_amnt_1', 'loan_amnt_2', 'loan_amnt_3',\n",
    "       'loan_amnt_4', 'debt_to_income_1', 'debt_to_income_2',\n",
    "       'debt_to_income_3', 'debt_to_income_4', 'debt_to_income_5', \n",
    "       'MORTGAGE', 'OWN', 'RENT', 'car', 'credit_card',\n",
    "       'debt_consolidation', 'educational', 'home_improvement', 'house',\n",
    "       'major_purchase', 'medical', 'moving', 'other', 'renewable_energy',\n",
    "       'small_business', 'vacation', 'wedding', \n",
    "       'annual_inc_bin_value', 'revol_bal_bin_value',\n",
    "       'inq_last_6mths_bin_value', 'loan_amnt_bin_value', 'dti_bin_value',\n",
    "       'housing_bin_value', 'purpose_bin_value', 'score' }].reindex()"
   ]
  },
  {
   "cell_type": "code",
   "execution_count": 43,
   "metadata": {
    "ExecuteTime": {
     "end_time": "2019-06-27T00:04:50.551788Z",
     "start_time": "2019-06-27T00:04:47.417719Z"
    }
   },
   "outputs": [
    {
     "name": "stdout",
     "output_type": "stream",
     "text": [
      "(2376343, 52)\n",
      "(1675462, 52)\n"
     ]
    }
   ],
   "source": [
    "print(data.shape)\n",
    "data2=data.dropna() \n",
    "print(data2.shape)\n",
    "#data2.to_csv('/Users/alderaan/Documents/PROJECTS_INSIGHT/data_files/Data_Final/binned_data.csv')"
   ]
  },
  {
   "cell_type": "code",
   "execution_count": 9,
   "metadata": {
    "ExecuteTime": {
     "end_time": "2019-06-26T23:46:10.130911Z",
     "start_time": "2019-06-26T23:45:59.939203Z"
    }
   },
   "outputs": [
    {
     "name": "stdout",
     "output_type": "stream",
     "text": [
      "<class 'pandas.core.frame.DataFrame'>\n",
      "RangeIndex: 1675462 entries, 0 to 1675461\n",
      "Data columns (total 53 columns):\n",
      "Unnamed: 0                  1675462 non-null int64\n",
      "medical                     1675462 non-null int64\n",
      "revol_bal                   1675462 non-null float64\n",
      "annual_inc_4                1675462 non-null int64\n",
      "housing_bin_value           1675462 non-null float64\n",
      "inquiries_6months_2         1675462 non-null int64\n",
      "major_purchase              1675462 non-null int64\n",
      "debt_to_income_1            1675462 non-null int64\n",
      "debt_to_income_2            1675462 non-null int64\n",
      "loan_amnt_2                 1675462 non-null int64\n",
      "MORTGAGE                    1675462 non-null int64\n",
      "car                         1675462 non-null int64\n",
      "inquiries_6months_3         1675462 non-null int64\n",
      "annual_inc                  1675462 non-null float64\n",
      "loan_amnt_bin_value         1675462 non-null float64\n",
      "credit_card                 1675462 non-null int64\n",
      "debt_to_income_3            1675462 non-null int64\n",
      "annual_inc_1                1675462 non-null int64\n",
      "OWN                         1675462 non-null int64\n",
      "dti                         1675462 non-null float64\n",
      "loan_amnt_3                 1675462 non-null int64\n",
      "educational                 1675462 non-null int64\n",
      "inq_last_6mths_bin_value    1675462 non-null float64\n",
      "home_improvement            1675462 non-null int64\n",
      "loan_amnt                   1675462 non-null float64\n",
      "house                       1675462 non-null int64\n",
      "debt_to_income_4            1675462 non-null int64\n",
      "revol_bal_bin_value         1675462 non-null float64\n",
      "loan_amnt_1                 1675462 non-null int64\n",
      "annual_inc_2                1675462 non-null int64\n",
      "other                       1675462 non-null int64\n",
      "int_rate                    1675462 non-null float64\n",
      "PERFORMING                  1675462 non-null int64\n",
      "inq_last_6mths              1675462 non-null float64\n",
      "renewable_energy            1675462 non-null int64\n",
      "moving                      1675462 non-null int64\n",
      "wedding                     1675462 non-null int64\n",
      "revolving_balance_1         1675462 non-null int64\n",
      "purpose_bin_value           1675462 non-null float64\n",
      "loan_amnt_4                 1675462 non-null int64\n",
      "debt_consolidation          1675462 non-null int64\n",
      "debt_to_income_5            1675462 non-null int64\n",
      "vacation                    1675462 non-null int64\n",
      "small_business              1675462 non-null int64\n",
      "inquiries_6months_1         1675462 non-null int64\n",
      "RENT                        1675462 non-null int64\n",
      "annual_inc_3                1675462 non-null int64\n",
      "revolving_balance_4         1675462 non-null int64\n",
      "annual_inc_bin_value        1675462 non-null float64\n",
      "revolving_balance_2         1675462 non-null int64\n",
      "dti_bin_value               1675462 non-null float64\n",
      "revolving_balance_3         1675462 non-null int64\n",
      "score                       1675462 non-null float64\n",
      "dtypes: float64(14), int64(39)\n",
      "memory usage: 677.5 MB\n",
      "None\n"
     ]
    }
   ],
   "source": [
    "data2 = pd.read_csv('/Users/alderaan/Documents/PROJECTS_INSIGHT/data_files/Data_Final/binned_data.csv')\n",
    "#sanity checks\n",
    "data2.reindex();\n",
    "print(data2.info());\n",
    "#data2.describe().T"
   ]
  },
  {
   "cell_type": "markdown",
   "metadata": {},
   "source": [
    "Selecting variables that we needed"
   ]
  },
  {
   "cell_type": "code",
   "execution_count": 44,
   "metadata": {
    "ExecuteTime": {
     "end_time": "2019-06-27T00:04:58.787018Z",
     "start_time": "2019-06-27T00:04:57.802910Z"
    }
   },
   "outputs": [
    {
     "name": "stdout",
     "output_type": "stream",
     "text": [
      "(670185,)\n",
      "(670185,)\n",
      "(670185, 50)\n",
      "(670185, 22)\n"
     ]
    }
   ],
   "source": [
    "data2 = data2.sample(frac = 0.4)\n",
    "target = data2.PERFORMING\n",
    "print(target.shape)\n",
    "int_rate = data2.int_rate\n",
    "print(int_rate.shape)\n",
    "features = data2.drop(columns=['PERFORMING', 'int_rate'], axis=1)\n",
    "print(features.shape)\n",
    "#features.info()\n",
    "features_values = features[{'loan_amnt', 'annual_inc', 'dti', 'inq_last_6mths', 'revol_bal', 'MORTGAGE', 'OWN', \n",
    "                            'RENT', 'car', 'credit_card', 'debt_consolidation', 'educational', 'home_improvement',\n",
    "                            'house', 'major_purchase', 'medical', 'moving', 'other', 'renewable_energy', \n",
    "                            'small_business', 'vacation', 'wedding'}]\n",
    "\n",
    "features_bins = features[{'annual_inc_1', 'annual_inc_2', 'annual_inc_3', 'annual_inc_4',\n",
    "                          'revolving_balance_1', 'revolving_balance_2', 'revolving_balance_3', \n",
    "                          'revolving_balance_4', 'inquiries_6months_1', 'inquiries_6months_2',\n",
    "                          'inquiries_6months_3', 'loan_amnt_1', 'loan_amnt_2', 'loan_amnt_3',\n",
    "                          'loan_amnt_4', 'debt_to_income_1', 'debt_to_income_2', 'debt_to_income_3', \n",
    "                          'debt_to_income_4', 'debt_to_income_5', 'MORTGAGE', 'OWN', 'RENT', \n",
    "                          'car', 'credit_card', 'debt_consolidation', 'educational', 'home_improvement', 'house',\n",
    "                          'major_purchase', 'medical', 'moving', 'other', 'renewable_energy',\n",
    "                          'small_business', 'vacation', 'wedding'}]\n",
    "\n",
    "features_bin_weights = features[{'annual_inc_bin_value', 'revol_bal_bin_value',\n",
    "       'inq_last_6mths_bin_value', 'loan_amnt_bin_value', 'dti_bin_value',\n",
    "       'housing_bin_value', 'purpose_bin_value'}]\n",
    "\n",
    "print(features_values.shape)\n",
    "features_limited_values =  features[{'loan_amnt', 'annual_inc', 'dti', 'inq_last_6mths', 'revol_bal'}]"
   ]
  },
  {
   "cell_type": "code",
   "execution_count": 45,
   "metadata": {
    "ExecuteTime": {
     "end_time": "2019-06-27T00:05:08.265840Z",
     "start_time": "2019-06-27T00:05:08.247476Z"
    }
   },
   "outputs": [],
   "source": [
    "from sklearn.linear_model import LogisticRegression\n",
    "from sklearn.ensemble import RandomForestClassifier\n",
    "from sklearn import metrics\n",
    "from sklearn.preprocessing import MinMaxScaler, StandardScaler, LabelEncoder\n",
    "from sklearn.feature_selection import SelectKBest\n",
    "from sklearn.pipeline import Pipeline\n",
    "from sklearn.model_selection import train_test_split, GridSearchCV, RandomizedSearchCV\n",
    "from imblearn.over_sampling import SMOTE"
   ]
  },
  {
   "cell_type": "code",
   "execution_count": 46,
   "metadata": {
    "ExecuteTime": {
     "end_time": "2019-06-27T00:05:14.475026Z",
     "start_time": "2019-06-27T00:05:14.320003Z"
    }
   },
   "outputs": [
    {
     "data": {
      "text/plain": [
       "((536148, 5), (134037, 5), (536148,), (134037,))"
      ]
     },
     "execution_count": 46,
     "metadata": {},
     "output_type": "execute_result"
    }
   ],
   "source": [
    "X_train, X_test, y_train, y_test = train_test_split(features_limited_values, target, test_size=0.2, random_state=10)\n",
    "\n",
    "#X_train, X_test, y_train, y_test = train_test_split(features_bin_weights, target, test_size=0.6, random_state=10)\n",
    "\n",
    "X_train.shape, X_test.shape, y_train.shape, y_test.shape"
   ]
  },
  {
   "cell_type": "code",
   "execution_count": 47,
   "metadata": {
    "ExecuteTime": {
     "end_time": "2019-06-27T00:05:14.654506Z",
     "start_time": "2019-06-27T00:05:14.483698Z"
    }
   },
   "outputs": [],
   "source": [
    "#scaling\n",
    "scaler = StandardScaler()\n",
    "X_train_scaled = scaler.fit_transform(X_train)\n",
    "X_test_scaled = scaler.transform(X_test)"
   ]
  },
  {
   "cell_type": "code",
   "execution_count": 14,
   "metadata": {
    "ExecuteTime": {
     "end_time": "2019-06-26T23:47:21.192881Z",
     "start_time": "2019-06-26T23:46:12.788318Z"
    }
   },
   "outputs": [
    {
     "name": "stdout",
     "output_type": "stream",
     "text": [
      "Fitting 2 folds for each of 36 candidates, totalling 72 fits\n"
     ]
    },
    {
     "name": "stderr",
     "output_type": "stream",
     "text": [
      "[Parallel(n_jobs=-1)]: Using backend LokyBackend with 4 concurrent workers.\n",
      "[Parallel(n_jobs=-1)]: Done  42 tasks      | elapsed:   18.5s\n",
      "[Parallel(n_jobs=-1)]: Done  72 out of  72 | elapsed:  1.1min finished\n"
     ]
    }
   ],
   "source": [
    "pipe = Pipeline([('classifier' , RandomForestClassifier())])\n",
    "# pipe = Pipeline([('classifier', RandomForestClassifier())])\n",
    "\n",
    "# Create param grid.\n",
    "\n",
    "param_grid = [\n",
    "    {'classifier' : [LogisticRegression()],\n",
    "     'classifier__penalty' : ['l1', 'l2'],\n",
    "    'classifier__C' : np.logspace(-2, 2, 10),\n",
    "    'classifier__solver' : ['liblinear']},\n",
    "    {'classifier' : [RandomForestClassifier()],\n",
    "    'classifier__n_estimators' : list(range(3,7, 1)),\n",
    "    'classifier__max_features' : list(range(1,5,1))}\n",
    "]\n",
    "\n",
    "# Create grid search object\n",
    "\n",
    "clf = GridSearchCV(pipe, param_grid = param_grid, cv = 2, verbose=True, n_jobs=-1)\n",
    "\n",
    "# Fit on data\n",
    "\n",
    "best_clf = clf.fit(X_train, y_train)\n"
   ]
  },
  {
   "cell_type": "code",
   "execution_count": 15,
   "metadata": {
    "ExecuteTime": {
     "end_time": "2019-06-26T23:47:21.208834Z",
     "start_time": "2019-06-26T23:47:21.195665Z"
    }
   },
   "outputs": [
    {
     "data": {
      "text/plain": [
       "LogisticRegression(C=1.6681005372000592, class_weight=None, dual=False,\n",
       "                   fit_intercept=True, intercept_scaling=1, l1_ratio=None,\n",
       "                   max_iter=100, multi_class='warn', n_jobs=None, penalty='l1',\n",
       "                   random_state=None, solver='liblinear', tol=0.0001, verbose=0,\n",
       "                   warm_start=False)"
      ]
     },
     "execution_count": 15,
     "metadata": {},
     "output_type": "execute_result"
    }
   ],
   "source": [
    "best_clf.best_estimator_.get_params()['classifier']\n"
   ]
  },
  {
   "cell_type": "code",
   "execution_count": 16,
   "metadata": {
    "ExecuteTime": {
     "end_time": "2019-06-26T23:47:21.251001Z",
     "start_time": "2019-06-26T23:47:21.211343Z"
    }
   },
   "outputs": [
    {
     "name": "stdout",
     "output_type": "stream",
     "text": [
      "Model accuracy is 0.8736542894872311\n"
     ]
    }
   ],
   "source": [
    "print('Model accuracy is',best_clf.score(X_test, y_test))\n"
   ]
  },
  {
   "cell_type": "code",
   "execution_count": 17,
   "metadata": {
    "ExecuteTime": {
     "end_time": "2019-06-26T23:47:21.626294Z",
     "start_time": "2019-06-26T23:47:21.254026Z"
    }
   },
   "outputs": [
    {
     "data": {
      "image/png": "[encoded data removed]",
      "text/plain": [
       "<Figure size 432x288 with 1 Axes>"
      ]
     },
     "metadata": {
      "needs_background": "light"
     },
     "output_type": "display_data"
    }
   ],
   "source": [
    "probs = best_clf.predict_proba(X_test)\n",
    "preds = probs[:,1]\n",
    "fpr, tpr, threshold = metrics.roc_curve(y_test, preds)\n",
    "roc_auc = metrics.auc(fpr, tpr)\n",
    "\n",
    "plt.figure()\n",
    "plt.plot(fpr, tpr, label='GridSearchCV (area = %0.2f)' % roc_auc)\n",
    "plt.plot([0, 1], [0, 1],'r--')\n",
    "plt.xlim([0.0, 1.0])\n",
    "plt.ylim([0.0, 1.05])\n",
    "plt.xlabel('False Positive Rate')\n",
    "plt.ylabel('True Positive Rate')\n",
    "plt.title('Receiver operating characteristic')\n",
    "plt.legend(loc=\"lower right\")\n",
    "plt.savefig('Log_ROC')\n",
    "plt.show()"
   ]
  },
  {
   "cell_type": "code",
   "execution_count": 18,
   "metadata": {
    "ExecuteTime": {
     "end_time": "2019-06-26T23:47:21.634929Z",
     "start_time": "2019-06-26T23:47:21.628925Z"
    }
   },
   "outputs": [
    {
     "data": {
      "text/plain": [
       "0.6059340342169606"
      ]
     },
     "execution_count": 18,
     "metadata": {},
     "output_type": "execute_result"
    }
   ],
   "source": [
    "roc_auc"
   ]
  },
  {
   "cell_type": "code",
   "execution_count": 19,
   "metadata": {
    "ExecuteTime": {
     "end_time": "2019-06-26T23:47:21.942503Z",
     "start_time": "2019-06-26T23:47:21.640405Z"
    }
   },
   "outputs": [
    {
     "name": "stdout",
     "output_type": "stream",
     "text": [
      "accuracy 0.8736542894872311 0.6868801259710893 0.9998377482878175 0.999822441453708 0.9325570188888137 0.8737602519421787 0.6059340342169606\n"
     ]
    }
   ],
   "source": [
    "classes = best_clf.predict(X_test)\n",
    "    \n",
    "accuracy = metrics.accuracy_score(classes, y_test)\n",
    "    \n",
    "balanced_accuracy = metrics.balanced_accuracy_score(classes, y_test)\n",
    "\n",
    "precision = metrics.precision_score(classes, y_test)\n",
    "    \n",
    "average_precision = metrics.average_precision_score(classes, y_test)\n",
    "    \n",
    "f1_score = metrics.f1_score(classes, y_test)\n",
    "    \n",
    "recall = metrics.recall_score(classes, y_test)\n",
    "\n",
    "print (\"accuracy\", accuracy, balanced_accuracy, precision, average_precision, f1_score, recall, roc_auc)"
   ]
  },
  {
   "cell_type": "code",
   "execution_count": 20,
   "metadata": {
    "ExecuteTime": {
     "end_time": "2019-06-26T23:47:22.141348Z",
     "start_time": "2019-06-26T23:47:21.946957Z"
    }
   },
   "outputs": [
    {
     "name": "stdout",
     "output_type": "stream",
     "text": [
      "              precision    recall  f1-score   support\n",
      "\n",
      "           0       0.00      0.50      0.00        38\n",
      "           1       1.00      0.87      0.93    133999\n",
      "\n",
      "    accuracy                           0.87    134037\n",
      "   macro avg       0.50      0.69      0.47    134037\n",
      "weighted avg       1.00      0.87      0.93    134037\n",
      "\n"
     ]
    }
   ],
   "source": [
    "print(metrics.classification_report(classes, y_test))\n"
   ]
  },
  {
   "cell_type": "code",
   "execution_count": 21,
   "metadata": {
    "ExecuteTime": {
     "end_time": "2019-06-26T23:50:03.802315Z",
     "start_time": "2019-06-26T23:47:22.146779Z"
    }
   },
   "outputs": [
    {
     "name": "stdout",
     "output_type": "stream",
     "text": [
      "Fitting 2 folds for each of 36 candidates, totalling 72 fits\n"
     ]
    },
    {
     "name": "stderr",
     "output_type": "stream",
     "text": [
      "[Parallel(n_jobs=-1)]: Using backend LokyBackend with 4 concurrent workers.\n",
      "[Parallel(n_jobs=-1)]: Done  42 tasks      | elapsed:   35.1s\n",
      "[Parallel(n_jobs=-1)]: Done  72 out of  72 | elapsed:  2.2min finished\n"
     ]
    }
   ],
   "source": [
    "sm = SMOTE(random_state = 2)\n",
    "X_train_res, y_train_res = sm.fit_sample(X_train, y_train.ravel())\n",
    "\n",
    "best_clf = clf.fit(X_train_res, y_train_res)"
   ]
  },
  {
   "cell_type": "code",
   "execution_count": 22,
   "metadata": {
    "ExecuteTime": {
     "end_time": "2019-06-26T23:50:03.822881Z",
     "start_time": "2019-06-26T23:50:03.804317Z"
    }
   },
   "outputs": [
    {
     "data": {
      "text/plain": [
       "RandomForestClassifier(bootstrap=True, class_weight=None, criterion='gini',\n",
       "                       max_depth=None, max_features=4, max_leaf_nodes=None,\n",
       "                       min_impurity_decrease=0.0, min_impurity_split=None,\n",
       "                       min_samples_leaf=1, min_samples_split=2,\n",
       "                       min_weight_fraction_leaf=0.0, n_estimators=5,\n",
       "                       n_jobs=None, oob_score=False, random_state=None,\n",
       "                       verbose=0, warm_start=False)"
      ]
     },
     "execution_count": 22,
     "metadata": {},
     "output_type": "execute_result"
    }
   ],
   "source": [
    "best_clf.best_estimator_.get_params()['classifier']"
   ]
  },
  {
   "cell_type": "code",
   "execution_count": 23,
   "metadata": {
    "ExecuteTime": {
     "end_time": "2019-06-26T23:50:04.341220Z",
     "start_time": "2019-06-26T23:50:03.833966Z"
    }
   },
   "outputs": [
    {
     "name": "stdout",
     "output_type": "stream",
     "text": [
      "Model accuracy is 0.7759648455277274\n"
     ]
    }
   ],
   "source": [
    "print('Model accuracy is',best_clf.score(X_test, y_test))"
   ]
  },
  {
   "cell_type": "code",
   "execution_count": 24,
   "metadata": {
    "ExecuteTime": {
     "end_time": "2019-06-26T23:50:05.009657Z",
     "start_time": "2019-06-26T23:50:04.346679Z"
    }
   },
   "outputs": [
    {
     "data": {
      "image/png": "[encoded data removed]",
      "text/plain": [
       "<Figure size 432x288 with 1 Axes>"
      ]
     },
     "metadata": {
      "needs_background": "light"
     },
     "output_type": "display_data"
    }
   ],
   "source": [
    "probs = best_clf.predict_proba(X_test)\n",
    "preds = probs[:,1]\n",
    "fpr, tpr, threshold = metrics.roc_curve(y_test, preds)\n",
    "roc_auc = metrics.auc(fpr, tpr)\n",
    "\n",
    "plt.figure()\n",
    "plt.plot(fpr, tpr, label='Logistic Regression (area = %0.2f) with SMOTE' % roc_auc)\n",
    "plt.plot([0, 1], [0, 1],'r--')\n",
    "plt.xlim([0.0, 1.0])\n",
    "plt.ylim([0.0, 1.05])\n",
    "plt.xlabel('False Positive Rate')\n",
    "plt.ylabel('True Positive Rate')\n",
    "plt.title('Receiver operating characteristic')\n",
    "plt.legend(loc=\"lower right\")\n",
    "plt.savefig('Log_ROC')\n",
    "plt.show()"
   ]
  },
  {
   "cell_type": "code",
   "execution_count": 25,
   "metadata": {
    "ExecuteTime": {
     "end_time": "2019-06-26T23:50:05.230596Z",
     "start_time": "2019-06-26T23:50:05.013321Z"
    }
   },
   "outputs": [
    {
     "name": "stdout",
     "output_type": "stream",
     "text": [
      "              precision    recall  f1-score   support\n",
      "\n",
      "           0       0.00      0.50      0.00        38\n",
      "           1       1.00      0.87      0.93    133999\n",
      "\n",
      "    accuracy                           0.87    134037\n",
      "   macro avg       0.50      0.69      0.47    134037\n",
      "weighted avg       1.00      0.87      0.93    134037\n",
      "\n"
     ]
    }
   ],
   "source": [
    "print(metrics.classification_report(classes, y_test))"
   ]
  },
  {
   "cell_type": "code",
   "execution_count": 26,
   "metadata": {
    "ExecuteTime": {
     "end_time": "2019-06-26T23:50:25.807511Z",
     "start_time": "2019-06-26T23:50:05.232565Z"
    }
   },
   "outputs": [],
   "source": [
    "from xgboost import XGBClassifier\n",
    "# fit model on training data\n",
    "xmodel = XGBClassifier()\n",
    "xmodel.fit(X_train, y_train)\n",
    "# make predictions for test data\n",
    "y_pred = xmodel.predict(X_test)\n",
    "predictions = [round(value) for value in y_pred]"
   ]
  },
  {
   "cell_type": "code",
   "execution_count": 27,
   "metadata": {
    "ExecuteTime": {
     "end_time": "2019-06-26T23:50:26.429423Z",
     "start_time": "2019-06-26T23:50:25.809905Z"
    }
   },
   "outputs": [
    {
     "data": {
      "image/png": "[encoded data removed]",
      "text/plain": [
       "<Figure size 432x288 with 1 Axes>"
      ]
     },
     "metadata": {
      "needs_background": "light"
     },
     "output_type": "display_data"
    }
   ],
   "source": [
    "probs = best_clf.predict_proba(X_test)\n",
    "preds = probs[:,1]\n",
    "fpr, tpr, threshold = metrics.roc_curve(y_test, preds)\n",
    "roc_auc = metrics.auc(fpr, tpr)\n",
    "\n",
    "plt.figure()\n",
    "plt.plot(fpr, tpr, label='Logistic Regression (area = %0.2f) with SMOTE' % roc_auc)\n",
    "plt.plot([0, 1], [0, 1],'r--')\n",
    "plt.xlim([0.0, 1.0])\n",
    "plt.ylim([0.0, 1.05])\n",
    "plt.xlabel('False Positive Rate')\n",
    "plt.ylabel('True Positive Rate')\n",
    "plt.title('Receiver operating characteristic')\n",
    "plt.legend(loc=\"lower right\")\n",
    "plt.savefig('Log_ROC')\n",
    "plt.show()"
   ]
  },
  {
   "cell_type": "code",
   "execution_count": 28,
   "metadata": {
    "ExecuteTime": {
     "end_time": "2019-06-26T23:50:26.635336Z",
     "start_time": "2019-06-26T23:50:26.432257Z"
    }
   },
   "outputs": [
    {
     "name": "stdout",
     "output_type": "stream",
     "text": [
      "              precision    recall  f1-score   support\n",
      "\n",
      "           0       0.00      0.50      0.00        38\n",
      "           1       1.00      0.87      0.93    133999\n",
      "\n",
      "    accuracy                           0.87    134037\n",
      "   macro avg       0.50      0.69      0.47    134037\n",
      "weighted avg       1.00      0.87      0.93    134037\n",
      "\n"
     ]
    }
   ],
   "source": [
    "print(metrics.classification_report(classes, y_test))"
   ]
  },
  {
   "cell_type": "code",
   "execution_count": 29,
   "metadata": {
    "ExecuteTime": {
     "end_time": "2019-06-26T23:50:27.303975Z",
     "start_time": "2019-06-26T23:50:26.637895Z"
    }
   },
   "outputs": [
    {
     "data": {
      "image/png": "[encoded data removed]",
      "text/plain": [
       "<Figure size 432x288 with 1 Axes>"
      ]
     },
     "metadata": {
      "needs_background": "light"
     },
     "output_type": "display_data"
    }
   ],
   "source": [
    "probs = xmodel.predict_proba(X_test)\n",
    "preds = probs[:,1]\n",
    "fpr, tpr, threshold = metrics.roc_curve(y_test, preds)\n",
    "roc_auc = metrics.auc(fpr, tpr)\n",
    "\n",
    "plt.figure()\n",
    "plt.plot(fpr, tpr, label='Logistic Regression with SMOTE and XGB(area = %0.2f)' % roc_auc)\n",
    "plt.plot([0, 1], [0, 1],'r--')\n",
    "plt.xlim([0.0, 1.0])\n",
    "plt.ylim([0.0, 1.05])\n",
    "plt.xlabel('False Positive Rate')\n",
    "plt.ylabel('True Positive Rate')\n",
    "plt.title('Receiver operating characteristic')\n",
    "plt.legend(loc=\"lower right\")\n",
    "plt.savefig('Log_ROC')\n",
    "plt.show()"
   ]
  },
  {
   "cell_type": "code",
   "execution_count": 30,
   "metadata": {
    "ExecuteTime": {
     "end_time": "2019-06-26T23:50:27.512341Z",
     "start_time": "2019-06-26T23:50:27.308654Z"
    }
   },
   "outputs": [
    {
     "name": "stdout",
     "output_type": "stream",
     "text": [
      "              precision    recall  f1-score   support\n",
      "\n",
      "           0       0.00      0.50      0.00        38\n",
      "           1       1.00      0.87      0.93    133999\n",
      "\n",
      "    accuracy                           0.87    134037\n",
      "   macro avg       0.50      0.69      0.47    134037\n",
      "weighted avg       1.00      0.87      0.93    134037\n",
      "\n"
     ]
    }
   ],
   "source": [
    "print(metrics.classification_report(classes, y_test))"
   ]
  },
  {
   "cell_type": "code",
   "execution_count": 31,
   "metadata": {
    "ExecuteTime": {
     "end_time": "2019-06-26T23:50:28.760170Z",
     "start_time": "2019-06-26T23:50:27.515618Z"
    }
   },
   "outputs": [
    {
     "data": {
      "image/png": "[encoded data removed]",
      "text/plain": [
       "<Figure size 432x288 with 1 Axes>"
      ]
     },
     "metadata": {
      "needs_background": "light"
     },
     "output_type": "display_data"
    }
   ],
   "source": [
    "from sklearn.linear_model import SGDClassifier\n",
    "sgd_logit = SGDClassifier(loss='log', n_jobs=-1, random_state=17, max_iter=25)\n",
    "sgd_logit.fit(X_train_scaled, y_train)\n",
    "\n",
    "probs = sgd_logit.predict_proba(X_test)\n",
    "preds = probs[:, 1]\n",
    "fpr, tpr, threshold = metrics.roc_curve(y_test, preds)\n",
    "roc_auc = metrics.auc(fpr, tpr)\n",
    "\n",
    "plt.figure()\n",
    "plt.plot(fpr, tpr, label='Logistic Regression with SMOTE and SGDClassifier(area = %0.2f)' % roc_auc)\n",
    "plt.plot([0, 1], [0, 1], 'r--')\n",
    "plt.xlim([0.0, 1.0])\n",
    "plt.ylim([0.0, 1.05])\n",
    "plt.xlabel('False Positive Rate')\n",
    "plt.ylabel('True Positive Rate')\n",
    "plt.title('Receiver operating characteristic')\n",
    "plt.legend(loc=\"lower right\")\n",
    "plt.savefig('Log_ROC')\n",
    "plt.show()"
   ]
  },
  {
   "cell_type": "code",
   "execution_count": 32,
   "metadata": {
    "ExecuteTime": {
     "end_time": "2019-06-26T23:50:29.009143Z",
     "start_time": "2019-06-26T23:50:28.763455Z"
    }
   },
   "outputs": [
    {
     "data": {
      "image/png": "[encoded data removed]",
      "text/plain": [
       "<Figure size 432x288 with 1 Axes>"
      ]
     },
     "metadata": {
      "needs_background": "light"
     },
     "output_type": "display_data"
    }
   ],
   "source": [
    "plt.figure()\n",
    "plt.plot(fpr, tpr, label='Logistic Regression with XGB(area = %0.2f)' % roc_auc)\n",
    "plt.plot([0, 1], [0, 1],'r--')\n",
    "plt.xlim([0.0, 1.0])\n",
    "plt.ylim([0.0, 1.05])\n",
    "plt.xlabel('False Positive Rate')\n",
    "plt.ylabel('True Positive Rate')\n",
    "plt.title('Receiver operating characteristic')\n",
    "plt.legend(loc=\"lower right\")\n",
    "plt.savefig('Log_ROC')\n",
    "plt.show()"
   ]
  },
  {
   "cell_type": "code",
   "execution_count": 33,
   "metadata": {
    "ExecuteTime": {
     "end_time": "2019-06-26T23:50:29.211753Z",
     "start_time": "2019-06-26T23:50:29.011751Z"
    }
   },
   "outputs": [
    {
     "name": "stdout",
     "output_type": "stream",
     "text": [
      "              precision    recall  f1-score   support\n",
      "\n",
      "           0       0.00      0.50      0.00        38\n",
      "           1       1.00      0.87      0.93    133999\n",
      "\n",
      "    accuracy                           0.87    134037\n",
      "   macro avg       0.50      0.69      0.47    134037\n",
      "weighted avg       1.00      0.87      0.93    134037\n",
      "\n"
     ]
    }
   ],
   "source": [
    "print(metrics.classification_report(classes, y_test))"
   ]
  },
  {
   "cell_type": "code",
   "execution_count": null,
   "metadata": {},
   "outputs": [],
   "source": []
  },
  {
   "cell_type": "code",
   "execution_count": 48,
   "metadata": {
    "ExecuteTime": {
     "end_time": "2019-06-27T00:05:34.286435Z",
     "start_time": "2019-06-27T00:05:33.015728Z"
    },
    "scrolled": true
   },
   "outputs": [
    {
     "name": "stdout",
     "output_type": "stream",
     "text": [
      "Optimization terminated successfully.\n",
      "         Current function value: 0.440725\n",
      "         Iterations 5\n",
      "                          Probit Regression Results                           \n",
      "==============================================================================\n",
      "Dep. Variable:                      y   No. Observations:               335092\n",
      "Model:                         Probit   Df Residuals:                   335085\n",
      "Method:                           MLE   Df Model:                            6\n",
      "Date:                Wed, 26 Jun 2019   Pseudo R-squ.:                 -0.1618\n",
      "Time:                        20:05:34   Log-Likelihood:            -1.4768e+05\n",
      "converged:                       True   LL-Null:                   -1.2711e+05\n",
      "                                        LLR p-value:                     1.000\n",
      "==============================================================================\n",
      "                 coef    std err          z      P>|z|      [0.025      0.975]\n",
      "------------------------------------------------------------------------------\n",
      "x1             0.0227      0.000     87.483      0.000       0.022       0.023\n",
      "x2            -0.0472      0.000   -206.999      0.000      -0.048      -0.047\n",
      "x3            -0.0030      0.000    -12.161      0.000      -0.004      -0.003\n",
      "x4             0.0148      0.000     54.766      0.000       0.014       0.015\n",
      "x5            -0.0010      0.001     -0.966      0.334      -0.003       0.001\n",
      "x6             0.0056      0.000     24.315      0.000       0.005       0.006\n",
      "x7             0.0219      0.000    117.422      0.000       0.022       0.022\n",
      "==============================================================================\n"
     ]
    }
   ],
   "source": [
    "target_small = np.asarray(target.sample(frac=0.5))\n",
    "features_bin_weights_small = np.asarray(features_bin_weights.sample(frac=0.5))\n",
    "\n",
    "import statsmodels.api as stats\n",
    "model = stats.Probit(target_small,features_bin_weights_small).fit()\n",
    "print(model.summary())"
   ]
  },
  {
   "cell_type": "code",
   "execution_count": null,
   "metadata": {
    "ExecuteTime": {
     "end_time": "2019-06-25T17:48:21.572978Z",
     "start_time": "2019-06-25T17:48:21.452266Z"
    }
   },
   "outputs": [],
   "source": []
  },
  {
   "cell_type": "code",
   "execution_count": 35,
   "metadata": {
    "ExecuteTime": {
     "end_time": "2019-06-26T23:50:31.687013Z",
     "start_time": "2019-06-26T23:50:31.530173Z"
    }
   },
   "outputs": [
    {
     "name": "stdout",
     "output_type": "stream",
     "text": [
      "<class 'pandas.core.frame.DataFrame'>\n",
      "Int64Index: 670185 entries, 1126064 to 1283278\n",
      "Data columns (total 7 columns):\n",
      "loan_amnt_bin_value         670185 non-null float64\n",
      "purpose_bin_value           670185 non-null float64\n",
      "housing_bin_value           670185 non-null float64\n",
      "annual_inc_bin_value        670185 non-null float64\n",
      "revol_bal_bin_value         670185 non-null float64\n",
      "dti_bin_value               670185 non-null float64\n",
      "inq_last_6mths_bin_value    670185 non-null float64\n",
      "dtypes: float64(7)\n",
      "memory usage: 40.9 MB\n"
     ]
    }
   ],
   "source": [
    "features_bin_weights.info()"
   ]
  },
  {
   "cell_type": "code",
   "execution_count": 36,
   "metadata": {
    "ExecuteTime": {
     "end_time": "2019-06-26T23:50:32.476892Z",
     "start_time": "2019-06-26T23:50:31.690932Z"
    }
   },
   "outputs": [
    {
     "name": "stdout",
     "output_type": "stream",
     "text": [
      "Optimization terminated successfully.\n",
      "         Current function value: 0.436167\n",
      "         Iterations 6\n",
      "                           Logit Regression Results                           \n",
      "==============================================================================\n",
      "Dep. Variable:                      y   No. Observations:               335092\n",
      "Model:                          Logit   Df Residuals:                   335085\n",
      "Method:                           MLE   Df Model:                            6\n",
      "Date:                Wed, 26 Jun 2019   Pseudo R-squ.:                 -0.1568\n",
      "Time:                        19:50:32   Log-Likelihood:            -1.4616e+05\n",
      "converged:                       True   LL-Null:                   -1.2635e+05\n",
      "                                        LLR p-value:                     1.000\n",
      "==============================================================================\n",
      "                 coef    std err          z      P>|z|      [0.025      0.975]\n",
      "------------------------------------------------------------------------------\n",
      "x1             0.0428      0.000     89.330      0.000       0.042       0.044\n",
      "x2            -0.0824      0.000   -206.746      0.000      -0.083      -0.082\n",
      "x3            -0.0068      0.000    -15.210      0.000      -0.008      -0.006\n",
      "x4             0.0271      0.000     56.370      0.000       0.026       0.028\n",
      "x5             0.0010      0.002      0.571      0.568      -0.003       0.005\n",
      "x6             0.0105      0.000     25.617      0.000       0.010       0.011\n",
      "x7             0.0365      0.000    117.051      0.000       0.036       0.037\n",
      "==============================================================================\n"
     ]
    }
   ],
   "source": [
    "target_small = np.asarray(target.sample(frac=0.5))\n",
    "features_bin_weights_small = np.asarray(features_bin_weights.sample(frac=0.5))\n",
    "\n",
    "import statsmodels.api as stats\n",
    "model = stats.Logit(target_small,features_bin_weights_small).fit()\n",
    "print(model.summary())"
   ]
  },
  {
   "cell_type": "code",
   "execution_count": 49,
   "metadata": {
    "ExecuteTime": {
     "end_time": "2019-06-27T00:06:05.618612Z",
     "start_time": "2019-06-27T00:06:05.280465Z"
    },
    "scrolled": false
   },
   "outputs": [
    {
     "data": {
      "image/png": "[encoded data removed]",
      "text/plain": [
       "<Figure size 432x288 with 1 Axes>"
      ]
     },
     "metadata": {
      "needs_background": "light"
     },
     "output_type": "display_data"
    }
   ],
   "source": [
    "plt.title('Credit score distributions')\n",
    "plt.xlabel(\"Credit score\")\n",
    "plt.ylabel(\"Frequency\")\n",
    "n, bin, patches = plt.hist(data.score, density=True, ec='white', color='b')\n",
    "patches[1].set_fc('tab:red')\n",
    "patches[2].set_fc('tab:red')\n",
    "patches[3].set_fc('tab:orange')\n",
    "patches[4].set_fc('tab:orange')\n",
    "patches[5].set_fc('y')\n",
    "patches[6].set_fc('y')\n",
    "patches[7].set_fc('tab:green')\n",
    "patches[8].set_fc('tab:green')\n",
    "plt.show()"
   ]
  },
  {
   "cell_type": "code",
   "execution_count": 50,
   "metadata": {
    "ExecuteTime": {
     "end_time": "2019-06-27T00:06:24.029475Z",
     "start_time": "2019-06-27T00:06:23.857784Z"
    }
   },
   "outputs": [],
   "source": [
    "bins=pd.cut(data.score, 7, retbins=True, precision=0)\n",
    "#bins\n",
    "#array([123.796, 149.5  , 175.   , 200.5  , 226.   , 251.5  , 277. 302.5  , 328.   ]))"
   ]
  },
  {
   "cell_type": "code",
   "execution_count": 51,
   "metadata": {
    "ExecuteTime": {
     "end_time": "2019-06-27T00:06:27.520052Z",
     "start_time": "2019-06-27T00:06:27.510205Z"
    }
   },
   "outputs": [
    {
     "data": {
      "text/plain": [
       "247.87178324004574"
      ]
     },
     "execution_count": 51,
     "metadata": {},
     "output_type": "execute_result"
    }
   ],
   "source": [
    "data.score.mean()"
   ]
  },
  {
   "cell_type": "code",
   "execution_count": null,
   "metadata": {},
   "outputs": [],
   "source": []
  }
 ],
 "metadata": {
  "kernelspec": {
   "display_name": "Python 3",
   "language": "python",
   "name": "python3"
  },
  "language_info": {
   "codemirror_mode": {
    "name": "ipython",
    "version": 3
   },
   "file_extension": ".py",
   "mimetype": "text/x-python",
   "name": "python",
   "nbconvert_exporter": "python",
   "pygments_lexer": "ipython3",
   "version": "3.7.3"
  },
  "toc": {
   "base_numbering": 1,
   "nav_menu": {},
   "number_sections": true,
   "sideBar": true,
   "skip_h1_title": false,
   "title_cell": "Table of Contents",
   "title_sidebar": "Contents",
   "toc_cell": false,
   "toc_position": {},
   "toc_section_display": true,
   "toc_window_display": false
  },
  "varInspector": {
   "cols": {
    "lenName": 16,
    "lenType": 16,
    "lenVar": 40
   },
   "kernels_config": {
    "python": {
     "delete_cmd_postfix": "",
     "delete_cmd_prefix": "del ",
     "library": "var_list.py",
     "varRefreshCmd": "print(var_dic_list())"
    },
    "r": {
     "delete_cmd_postfix": ") ",
     "delete_cmd_prefix": "rm(",
     "library": "var_list.r",
     "varRefreshCmd": "cat(var_dic_list()) "
    }
   },
   "types_to_exclude": [
    "module",
    "function",
    "builtin_function_or_method",
    "instance",
    "_Feature"
   ],
   "window_display": false
  }
 },
 "nbformat": 4,
 "nbformat_minor": 2
}
