{
 "cells": [
  {
   "cell_type": "markdown",
   "metadata": {
    "ExecuteTime": {
     "end_time": "2019-07-10T21:19:46.293891Z",
     "start_time": "2019-07-10T21:19:46.288698Z"
    }
   },
   "source": [
    "# An implementation of the credit scorecard\n",
    "\n",
    "Based on the outcome of the WoE binining and IV information, the final step in development is the credit scorecard.\n",
    "\n",
    "The script uses scorecardpy that can be installed from [pypi](https://pypi.org/project/scorecardpy/), and is an implementation of a R package."
   ]
  },
  {
   "cell_type": "code",
   "execution_count": 1,
   "metadata": {
    "ExecuteTime": {
     "end_time": "2019-07-10T22:42:45.406702Z",
     "start_time": "2019-07-10T22:42:41.071099Z"
    }
   },
   "outputs": [
    {
     "name": "stderr",
     "output_type": "stream",
     "text": [
      "/Applications/anaconda3/lib/python3.7/site-packages/sklearn/externals/six.py:31: DeprecationWarning: The module is deprecated in version 0.21 and will be removed in version 0.23 since we've dropped support for Python 2.7. Please rely on the official version of six (https://pypi.org/project/six/).\n",
      "  \"(https://pypi.org/project/six/).\", DeprecationWarning)\n"
     ]
    }
   ],
   "source": [
    "#read in packages\n",
    "import pandas as pd \n",
    "import numpy as np\n",
    "from imblearn.over_sampling import SMOTENC\n",
    "\n",
    "#read in scorecardpy\n",
    "import scorecardpy as sc "
   ]
  },
  {
   "cell_type": "markdown",
   "metadata": {
    "ExecuteTime": {
     "end_time": "2019-07-10T21:19:51.093922Z",
     "start_time": "2019-07-10T21:19:50.695327Z"
    }
   },
   "source": [
    "The data preparation is straightforward."
   ]
  },
  {
   "cell_type": "code",
   "execution_count": 16,
   "metadata": {
    "ExecuteTime": {
     "end_time": "2019-07-10T22:45:47.902432Z",
     "start_time": "2019-07-10T22:45:46.794901Z"
    }
   },
   "outputs": [
    {
     "name": "stdout",
     "output_type": "stream",
     "text": [
      "(230477, 39)\n",
      "(230477, 39)\n"
     ]
    }
   ],
   "source": [
    "data = pd.read_csv('data/after_woe.csv')\n",
    "print(data.shape)\n",
    "#switch to speed up the process if needed.\n",
    "#data = data.sample(frac=0.01)\n",
    "print(data.shape)"
   ]
  },
  {
   "cell_type": "markdown",
   "metadata": {},
   "source": [
    "Set values for the scorecard."
   ]
  },
  {
   "cell_type": "code",
   "execution_count": 17,
   "metadata": {
    "ExecuteTime": {
     "end_time": "2019-07-10T22:45:50.683671Z",
     "start_time": "2019-07-10T22:45:50.621881Z"
    }
   },
   "outputs": [
    {
     "name": "stdout",
     "output_type": "stream",
     "text": [
      "(230477, 38)\n"
     ]
    }
   ],
   "source": [
    "dt_s=data[{'OWN', 'dti', 'other', 'bc_util', 'bc_open_to_buy',\n",
    "       'mo_sin_rcnt_tl', 'moving', 'wedding', 'home_improvement',\n",
    "       'tot_cur_bal', 'loan_amnt', 'mths_since_recent_bc', 'renewable_energy',\n",
    "       'revol_util', 'educational', 'mort_acc', 'vacation', 'annual_inc',\n",
    "       'house', 'total_rev_hi_lim', 'car', 'RENT', 'major_purchase', 'medical',\n",
    "       'inq_last_6mths', 'MORTGAGE', 'small_business', 'mo_sin_rcnt_rev_tl_op',\n",
    "       'NONE', 'ANY', 'credit_card', 'PERFORMING', 'revol_bal',\n",
    "       'num_actv_rev_tl', 'acc_open_past_24mths', 'mo_sin_old_rev_tl_op',\n",
    "       'CREDIT_HISTORY', 'avg_cur_bal'}]\n",
    "#print(dt_s.shape)"
   ]
  },
  {
   "cell_type": "markdown",
   "metadata": {},
   "source": [
    "Split values"
   ]
  },
  {
   "cell_type": "code",
   "execution_count": 18,
   "metadata": {
    "ExecuteTime": {
     "end_time": "2019-07-10T22:46:09.482012Z",
     "start_time": "2019-07-10T22:45:53.602412Z"
    }
   },
   "outputs": [
    {
     "name": "stdout",
     "output_type": "stream",
     "text": [
      "(161334, 38)\n",
      "(69143, 38)\n"
     ]
    }
   ],
   "source": [
    "# breaking dt into train and test\n",
    "train, test = sc.split_df(dt_s, 'PERFORMING').values()\n",
    "print(train.shape)\n",
    "print(test.shape)"
   ]
  },
  {
   "cell_type": "markdown",
   "metadata": {},
   "source": [
    "## SMOTE"
   ]
  },
  {
   "cell_type": "markdown",
   "metadata": {},
   "source": [
    "Oversampling the data here using SMOTENC specifically controlling for the categorical variables. This could be included here before the filtering."
   ]
  },
  {
   "cell_type": "code",
   "execution_count": 19,
   "metadata": {
    "ExecuteTime": {
     "end_time": "2019-07-10T22:53:21.094402Z",
     "start_time": "2019-07-10T22:46:52.632680Z"
    }
   },
   "outputs": [
    {
     "name": "stdout",
     "output_type": "stream",
     "text": [
      "[INFO] filtering variables ...\n"
     ]
    },
    {
     "name": "stderr",
     "output_type": "stream",
     "text": [
      "/Applications/anaconda3/lib/python3.7/site-packages/scorecardpy/condition_fun.py:34: UserWarning: There are 1 columns have only one unique values, which are removed from input dataset. \n",
      " (ColumnNames: educational)\n",
      "  warnings.warn(\"There are {} columns have only one unique values, which are removed from input dataset. \\n (ColumnNames: {})\".format(len(unique1_cols), ', '.join(unique1_cols)))\n"
     ]
    },
    {
     "name": "stdout",
     "output_type": "stream",
     "text": [
      "Variable filtering on 230477 rows and 37 columns in 00:06:28 \n",
      "16 variables are removed\n"
     ]
    }
   ],
   "source": [
    "# filter variable via missing rate, iv, identical value rate\n",
    "dt_s = sc.var_filter(dt_s, y=\"PERFORMING\")"
   ]
  },
  {
   "cell_type": "markdown",
   "metadata": {
    "ExecuteTime": {
     "end_time": "2019-07-10T23:01:34.676216Z",
     "start_time": "2019-07-10T23:01:34.670608Z"
    }
   },
   "source": [
    "## WoE rebinning based on in ther algorithm"
   ]
  },
  {
   "cell_type": "code",
   "execution_count": 20,
   "metadata": {
    "ExecuteTime": {
     "end_time": "2019-07-10T22:56:19.210100Z",
     "start_time": "2019-07-10T22:55:20.108766Z"
    }
   },
   "outputs": [
    {
     "name": "stdout",
     "output_type": "stream",
     "text": [
      "[INFO] creating woe binning ...\n"
     ]
    },
    {
     "name": "stderr",
     "output_type": "stream",
     "text": [
      "/Applications/anaconda3/lib/python3.7/site-packages/scorecardpy/woebin.py:711: FutureWarning: Sorting because non-concatenation axis is not aligned. A future version\n",
      "of pandas will change to not sort by default.\n",
      "\n",
      "To accept the future behavior, pass 'sort=False'.\n",
      "\n",
      "To retain the current behavior and silence the warning, pass 'sort=True'.\n",
      "\n",
      "  binning = pd.concat(bin_list, keys=bin_list.keys()).reset_index()\\\n",
      "/Applications/anaconda3/lib/python3.7/site-packages/scorecardpy/woebin.py:711: FutureWarning: Sorting because non-concatenation axis is not aligned. A future version\n",
      "of pandas will change to not sort by default.\n",
      "\n",
      "To accept the future behavior, pass 'sort=False'.\n",
      "\n",
      "To retain the current behavior and silence the warning, pass 'sort=True'.\n",
      "\n",
      "  binning = pd.concat(bin_list, keys=bin_list.keys()).reset_index()\\\n",
      "/Applications/anaconda3/lib/python3.7/site-packages/scorecardpy/woebin.py:711: FutureWarning: Sorting because non-concatenation axis is not aligned. A future version\n",
      "of pandas will change to not sort by default.\n",
      "\n",
      "To accept the future behavior, pass 'sort=False'.\n",
      "\n",
      "To retain the current behavior and silence the warning, pass 'sort=True'.\n",
      "\n",
      "  binning = pd.concat(bin_list, keys=bin_list.keys()).reset_index()\\\n"
     ]
    },
    {
     "name": "stdout",
     "output_type": "stream",
     "text": [
      "Binning on 230477 rows and 21 columns in 00:00:29\n",
      "[INFO] creating woe binning ...\n"
     ]
    },
    {
     "name": "stderr",
     "output_type": "stream",
     "text": [
      "/Applications/anaconda3/lib/python3.7/site-packages/scorecardpy/woebin.py:711: FutureWarning: Sorting because non-concatenation axis is not aligned. A future version\n",
      "of pandas will change to not sort by default.\n",
      "\n",
      "To accept the future behavior, pass 'sort=False'.\n",
      "\n",
      "To retain the current behavior and silence the warning, pass 'sort=True'.\n",
      "\n",
      "  binning = pd.concat(bin_list, keys=bin_list.keys()).reset_index()\\\n",
      "/Applications/anaconda3/lib/python3.7/site-packages/scorecardpy/woebin.py:711: FutureWarning: Sorting because non-concatenation axis is not aligned. A future version\n",
      "of pandas will change to not sort by default.\n",
      "\n",
      "To accept the future behavior, pass 'sort=False'.\n",
      "\n",
      "To retain the current behavior and silence the warning, pass 'sort=True'.\n",
      "\n",
      "  binning = pd.concat(bin_list, keys=bin_list.keys()).reset_index()\\\n"
     ]
    },
    {
     "name": "stdout",
     "output_type": "stream",
     "text": [
      "Binning on 230477 rows and 21 columns in 00:00:29\n"
     ]
    }
   ],
   "source": [
    "# woe binning ------\n",
    "bins = sc.woebin(dt_s, y=\"PERFORMING\")\n",
    "# binning adjustment\n",
    "# # adjust breaks interactively\n",
    "bins_adj = sc.woebin(dt_s, y=\"PERFORMING\")"
   ]
  },
  {
   "cell_type": "code",
   "execution_count": 21,
   "metadata": {
    "ExecuteTime": {
     "end_time": "2019-07-10T22:56:39.137305Z",
     "start_time": "2019-07-10T22:56:20.632213Z"
    }
   },
   "outputs": [
    {
     "name": "stdout",
     "output_type": "stream",
     "text": [
      "[INFO] converting into woe values ...\n"
     ]
    },
    {
     "name": "stderr",
     "output_type": "stream",
     "text": [
      "/Applications/anaconda3/lib/python3.7/site-packages/scorecardpy/condition_fun.py:34: UserWarning: There are 1 columns have only one unique values, which are removed from input dataset. \n",
      " (ColumnNames: educational)\n",
      "  warnings.warn(\"There are {} columns have only one unique values, which are removed from input dataset. \\n (ColumnNames: {})\".format(len(unique1_cols), ', '.join(unique1_cols)))\n"
     ]
    },
    {
     "name": "stdout",
     "output_type": "stream",
     "text": [
      "Woe transformating on 161334 rows and 20 columns in 00:00:13\n",
      "[INFO] converting into woe values ...\n",
      "(161334,)\n",
      "(161334, 36)\n",
      "(69143,)\n",
      "(69143, 36)\n"
     ]
    }
   ],
   "source": [
    "# converting train and test into woe values\n",
    "train_woe = sc.woebin_ply(train, bins_adj)\n",
    "test_woe = sc.woebin_ply(test, bins_adj)\n",
    "\n",
    "y_train = train_woe.loc[:,'PERFORMING']\n",
    "X_train = train_woe.loc[:,train_woe.columns != 'PERFORMING']\n",
    "y_test = test_woe.loc[:,'PERFORMING']\n",
    "X_test = test_woe.loc[:,train_woe.columns != 'PERFORMING']\n",
    "\n",
    "print(y_train.shape)\n",
    "print(X_train.shape)\n",
    "print(y_test.shape)\n",
    "print(X_test.shape)"
   ]
  },
  {
   "cell_type": "markdown",
   "metadata": {},
   "source": [
    "## Logistic regression"
   ]
  },
  {
   "cell_type": "code",
   "execution_count": 27,
   "metadata": {
    "ExecuteTime": {
     "end_time": "2019-07-10T23:02:22.765491Z",
     "start_time": "2019-07-10T23:01:58.235491Z"
    }
   },
   "outputs": [
    {
     "name": "stderr",
     "output_type": "stream",
     "text": [
      "/Applications/anaconda3/lib/python3.7/site-packages/sklearn/linear_model/sag.py:337: ConvergenceWarning: The max_iter was reached which means the coef_ did not converge\n",
      "  \"the coef_ did not converge\", ConvergenceWarning)\n"
     ]
    }
   ],
   "source": [
    "# logistic regression ------\n",
    "from sklearn.linear_model import LogisticRegression\n",
    "lr = LogisticRegression(penalty='l1', C=0.9, solver='saga', n_jobs=-2, max_iter = 200)\n",
    "lr.fit(X_train, y_train)\n",
    "# lr.coef_\n",
    "# lr.intercept_\n",
    "\n",
    "# predicted proability\n",
    "train_pred = lr.predict_proba(X_train)[:,1]\n",
    "test_pred = lr.predict_proba(X_test)[:,1]"
   ]
  },
  {
   "cell_type": "markdown",
   "metadata": {},
   "source": [
    "# Performance assessment\n",
    "Assess the performance of the model"
   ]
  },
  {
   "cell_type": "code",
   "execution_count": 23,
   "metadata": {
    "ExecuteTime": {
     "end_time": "2019-07-10T23:00:35.195016Z",
     "start_time": "2019-07-10T22:56:54.902207Z"
    },
    "scrolled": true
   },
   "outputs": [
    {
     "name": "stderr",
     "output_type": "stream",
     "text": [
      "/Applications/anaconda3/lib/python3.7/site-packages/scorecardpy/perf.py:33: FutureWarning: Sorting because non-concatenation axis is not aligned. A future version\n",
      "of pandas will change to not sort by default.\n",
      "\n",
      "To accept the future behavior, pass 'sort=False'.\n",
      "\n",
      "To retain the current behavior and silence the warning, pass 'sort=True'.\n",
      "\n",
      "  ], ignore_index=True)\n"
     ]
    },
    {
     "data": {
      "image/png": "[encoded data removed]",
      "text/plain": [
       "<Figure size 432x288 with 2 Axes>"
      ]
     },
     "metadata": {
      "needs_background": "light"
     },
     "output_type": "display_data"
    },
    {
     "name": "stderr",
     "output_type": "stream",
     "text": [
      "/Applications/anaconda3/lib/python3.7/site-packages/scorecardpy/perf.py:33: FutureWarning: Sorting because non-concatenation axis is not aligned. A future version\n",
      "of pandas will change to not sort by default.\n",
      "\n",
      "To accept the future behavior, pass 'sort=False'.\n",
      "\n",
      "To retain the current behavior and silence the warning, pass 'sort=True'.\n",
      "\n",
      "  ], ignore_index=True)\n"
     ]
    },
    {
     "data": {
      "image/png": "[encoded data removed]",
      "text/plain": [
       "<Figure size 432x288 with 2 Axes>"
      ]
     },
     "metadata": {
      "needs_background": "light"
     },
     "output_type": "display_data"
    },
    {
     "name": "stderr",
     "output_type": "stream",
     "text": [
      "/Applications/anaconda3/lib/python3.7/site-packages/scorecardpy/condition_fun.py:34: UserWarning: There are 1 columns have only one unique values, which are removed from input dataset. \n",
      " (ColumnNames: educational)\n",
      "  warnings.warn(\"There are {} columns have only one unique values, which are removed from input dataset. \\n (ColumnNames: {})\".format(len(unique1_cols), ', '.join(unique1_cols)))\n",
      "/Applications/anaconda3/lib/python3.7/site-packages/pandas/core/indexing.py:362: SettingWithCopyWarning: \n",
      "A value is trying to be set on a copy of a slice from a DataFrame.\n",
      "Try using .loc[row_indexer,col_indexer] = value instead\n",
      "\n",
      "See the caveats in the documentation: http://pandas.pydata.org/pandas-docs/stable/indexing.html#indexing-view-versus-copy\n",
      "  self.obj[key] = _infer_fill_value(value)\n",
      "/Applications/anaconda3/lib/python3.7/site-packages/pandas/core/indexing.py:635: SettingWithCopyWarning: \n",
      "A value is trying to be set on a copy of a slice from a DataFrame.\n",
      "Try using .loc[row_indexer,col_indexer] = value instead\n",
      "\n",
      "See the caveats in the documentation: http://pandas.pydata.org/pandas-docs/stable/indexing.html#indexing-view-versus-copy\n",
      "  self.obj[item_labels[indexer[info_axis]]] = value\n",
      "/Applications/anaconda3/lib/python3.7/site-packages/scorecardpy/condition_fun.py:34: UserWarning: There are 1 columns have only one unique values, which are removed from input dataset. \n",
      " (ColumnNames: educational)\n",
      "  warnings.warn(\"There are {} columns have only one unique values, which are removed from input dataset. \\n (ColumnNames: {})\".format(len(unique1_cols), ', '.join(unique1_cols)))\n",
      "/Applications/anaconda3/lib/python3.7/site-packages/pandas/core/indexing.py:362: SettingWithCopyWarning: \n",
      "A value is trying to be set on a copy of a slice from a DataFrame.\n",
      "Try using .loc[row_indexer,col_indexer] = value instead\n",
      "\n",
      "See the caveats in the documentation: http://pandas.pydata.org/pandas-docs/stable/indexing.html#indexing-view-versus-copy\n",
      "  self.obj[key] = _infer_fill_value(value)\n",
      "/Applications/anaconda3/lib/python3.7/site-packages/pandas/core/indexing.py:635: SettingWithCopyWarning: \n",
      "A value is trying to be set on a copy of a slice from a DataFrame.\n",
      "Try using .loc[row_indexer,col_indexer] = value instead\n",
      "\n",
      "See the caveats in the documentation: http://pandas.pydata.org/pandas-docs/stable/indexing.html#indexing-view-versus-copy\n",
      "  self.obj[item_labels[indexer[info_axis]]] = value\n"
     ]
    },
    {
     "data": {
      "image/png": "[encoded data removed]",
      "text/plain": [
       "<Figure size 432x288 with 2 Axes>"
      ]
     },
     "metadata": {
      "needs_background": "light"
     },
     "output_type": "display_data"
    },
    {
     "data": {
      "text/plain": [
       "{'psi':   variable       PSI\n",
       " 0    score  0.000044, 'pic': {'score': <Figure size 432x288 with 2 Axes>}}"
      ]
     },
     "execution_count": 23,
     "metadata": {},
     "output_type": "execute_result"
    }
   ],
   "source": [
    "# performance ks & roc ------\n",
    "train_perf = sc.perf_eva(y_train, train_pred, title = \"train\")\n",
    "test_perf = sc.perf_eva(y_test, test_pred, title = \"test\")\n",
    "\n",
    "# score ------\n",
    "card = sc.scorecard(bins_adj, lr, X_train.columns)\n",
    "# credit score\n",
    "train_score = sc.scorecard_ply(train, card, print_step=0)\n",
    "test_score = sc.scorecard_ply(test, card, print_step=0)\n",
    "\n",
    "# psi\n",
    "sc.perf_psi(\n",
    "score = {'train':train_score, 'test':test_score},\n",
    "label = {'train':y_train, 'test':y_test})"
   ]
  },
  {
   "cell_type": "markdown",
   "metadata": {},
   "source": [
    "The **training model** has an AUC of 0.6698 and a \"Kolmogorov-Smirnov\" (KS) statistic, measuring the discriminatory power of a model, has an index of 0.2469.  \n",
    "\n",
    "KS validates the PD model, or the ability to discriminate between Performing and Non-performing customers, giving us the predictive power of the existing model. It is a point estimate and tells the score-band where the difference between cumulative good and cumulative bad customers is maximum. The ability to improve on a random classification outcome is around 25%.\n",
    "\n",
    "The **testing model** has an AUC of 0.6636 and a \"Kolmogorov-Smirnov\" (KS) statistic of 0.2357. "
   ]
  },
  {
   "cell_type": "code",
   "execution_count": 28,
   "metadata": {
    "ExecuteTime": {
     "end_time": "2019-07-10T23:12:08.384096Z",
     "start_time": "2019-07-10T23:12:08.379142Z"
    }
   },
   "outputs": [],
   "source": [
    "card_keys=card.keys()\n",
    "card_values= card.values()"
   ]
  },
  {
   "cell_type": "markdown",
   "metadata": {},
   "source": [
    "Printing the card values"
   ]
  },
  {
   "cell_type": "code",
   "execution_count": 29,
   "metadata": {
    "ExecuteTime": {
     "end_time": "2019-07-10T23:12:10.198945Z",
     "start_time": "2019-07-10T23:12:10.136430Z"
    },
    "scrolled": true
   },
   "outputs": [
    {
     "data": {
      "text/plain": [
       "dict_values([     variable  bin  points\n",
       "0  basepoints  NaN   251.0, Empty DataFrame\n",
       "Columns: [variable, bin, points]\n",
       "Index: [], Empty DataFrame\n",
       "Columns: [variable, bin, points]\n",
       "Index: [], Empty DataFrame\n",
       "Columns: [variable, bin, points]\n",
       "Index: [], Empty DataFrame\n",
       "Columns: [variable, bin, points]\n",
       "Index: [], Empty DataFrame\n",
       "Columns: [variable, bin, points]\n",
       "Index: [], Empty DataFrame\n",
       "Columns: [variable, bin, points]\n",
       "Index: [], Empty DataFrame\n",
       "Columns: [variable, bin, points]\n",
       "Index: [], Empty DataFrame\n",
       "Columns: [variable, bin, points]\n",
       "Index: [], Empty DataFrame\n",
       "Columns: [variable, bin, points]\n",
       "Index: [], Empty DataFrame\n",
       "Columns: [variable, bin, points]\n",
       "Index: [], Empty DataFrame\n",
       "Columns: [variable, bin, points]\n",
       "Index: [], Empty DataFrame\n",
       "Columns: [variable, bin, points]\n",
       "Index: [], Empty DataFrame\n",
       "Columns: [variable, bin, points]\n",
       "Index: [], Empty DataFrame\n",
       "Columns: [variable, bin, points]\n",
       "Index: [],                 variable            bin  points\n",
       "38  mo_sin_old_rev_tl_op    [-inf,50.0)     7.0\n",
       "39  mo_sin_old_rev_tl_op   [50.0,140.0)     3.0\n",
       "40  mo_sin_old_rev_tl_op  [140.0,190.0)    -1.0\n",
       "41  mo_sin_old_rev_tl_op    [190.0,inf)    -4.0,            variable         bin  points\n",
       "61  num_actv_rev_tl  [-inf,3.0)    -6.0\n",
       "62  num_actv_rev_tl   [3.0,5.0)    -3.0\n",
       "63  num_actv_rev_tl   [5.0,8.0)     1.0\n",
       "64  num_actv_rev_tl   [8.0,inf)     5.0,           variable                bin  points\n",
       "15  bc_open_to_buy            missing    -3.0\n",
       "16  bc_open_to_buy      [-inf,1000.0)    13.0\n",
       "17  bc_open_to_buy    [1000.0,6000.0)     7.0\n",
       "18  bc_open_to_buy   [6000.0,12000.0)    -3.0\n",
       "19  bc_open_to_buy  [12000.0,29000.0)   -13.0\n",
       "20  bc_open_to_buy      [29000.0,inf)   -31.0,           variable         bin  points\n",
       "31  inq_last_6mths  [-inf,1.0)   -10.0\n",
       "32  inq_last_6mths   [1.0,2.0)     8.0\n",
       "33  inq_last_6mths   [2.0,inf)    23.0,    variable          bin  points\n",
       "21  bc_util      missing    -2.0\n",
       "22  bc_util  [-inf,35.0)    -9.0\n",
       "23  bc_util  [35.0,50.0)    -4.0\n",
       "24  bc_util  [50.0,90.0)     2.0\n",
       "25  bc_util   [90.0,inf)     9.0,     variable         bin  points\n",
       "51  mort_acc  [-inf,1.0)     2.0\n",
       "52  mort_acc   [1.0,2.0)    -0.0\n",
       "53  mort_acc   [2.0,4.0)    -2.0\n",
       "54  mort_acc   [4.0,inf)    -3.0,                  variable          bin  points\n",
       "42  mo_sin_rcnt_rev_tl_op   [-inf,4.0)    -2.0\n",
       "43  mo_sin_rcnt_rev_tl_op   [4.0,17.0)    -0.0\n",
       "44  mo_sin_rcnt_rev_tl_op  [17.0,26.0)     2.0\n",
       "45  mo_sin_rcnt_rev_tl_op   [26.0,inf)     5.0,        variable                bin  points\n",
       "10  avg_cur_bal      [-inf,8000.0)     5.0\n",
       "11  avg_cur_bal   [8000.0,16000.0)    -1.0\n",
       "12  avg_cur_bal  [16000.0,23000.0)    -6.0\n",
       "13  avg_cur_bal  [23000.0,35000.0)   -10.0\n",
       "14  avg_cur_bal      [35000.0,inf)   -17.0,        variable                  bin  points\n",
       "74  tot_cur_bal       [-inf,20000.0)     1.0\n",
       "75  tot_cur_bal   [20000.0,100000.0)     4.0\n",
       "76  tot_cur_bal  [100000.0,200000.0)    -1.0\n",
       "77  tot_cur_bal  [200000.0,360000.0)    -5.0\n",
       "78  tot_cur_bal       [360000.0,inf)   -10.0,           variable          bin  points\n",
       "46  mo_sin_rcnt_tl   [-inf,4.0)     5.0\n",
       "47  mo_sin_rcnt_tl    [4.0,7.0)     1.0\n",
       "48  mo_sin_rcnt_tl   [7.0,10.0)    -1.0\n",
       "49  mo_sin_rcnt_tl  [10.0,18.0)    -5.0\n",
       "50  mo_sin_rcnt_tl   [18.0,inf)   -12.0,    variable          bin  points\n",
       "26      dti      missing   -28.0\n",
       "27      dti  [-inf,12.0)   -11.0\n",
       "28      dti  [12.0,18.0)    -5.0\n",
       "29      dti  [18.0,24.0)     2.0\n",
       "30      dti   [24.0,inf)    11.0,      variable                 bin  points\n",
       "6  annual_inc      [-inf,60000.0)     6.0\n",
       "7  annual_inc   [60000.0,80000.0)     1.0\n",
       "8  annual_inc  [80000.0,115000.0)    -5.0\n",
       "9  annual_inc      [115000.0,inf)   -15.0,                variable         bin  points\n",
       "2  acc_open_past_24mths  [-inf,3.0)   -24.0\n",
       "3  acc_open_past_24mths   [3.0,4.0)    -9.0\n",
       "4  acc_open_past_24mths   [4.0,8.0)     7.0\n",
       "5  acc_open_past_24mths   [8.0,inf)    25.0,      variable                bin  points\n",
       "65  revol_bal      [-inf,2000.0)     1.0\n",
       "66  revol_bal   [2000.0,22000.0)    -3.0\n",
       "67  revol_bal  [22000.0,42000.0)     4.0\n",
       "68  revol_bal      [42000.0,inf)    21.0,       variable          bin  points\n",
       "69  revol_util      missing    10.0\n",
       "70  revol_util  [-inf,22.0)    -7.0\n",
       "71  revol_util  [22.0,40.0)    -3.0\n",
       "72  revol_util  [40.0,54.0)     0.0\n",
       "73  revol_util   [54.0,inf)     3.0,      variable                bin  points\n",
       "34  loan_amnt      [-inf,6000.0)   -30.0\n",
       "35  loan_amnt   [6000.0,11000.0)   -11.0\n",
       "36  loan_amnt  [11000.0,25000.0)    14.0\n",
       "37  loan_amnt      [25000.0,inf)     2.0,             variable                bin  points\n",
       "79  total_rev_hi_lim     [-inf,16000.0)    12.0\n",
       "80  total_rev_hi_lim  [16000.0,26000.0)     6.0\n",
       "81  total_rev_hi_lim  [26000.0,50000.0)    -3.0\n",
       "82  total_rev_hi_lim  [50000.0,82000.0)   -19.0\n",
       "83  total_rev_hi_lim      [82000.0,inf)   -41.0,                 variable          bin  points\n",
       "55  mths_since_recent_bc      missing    -4.0\n",
       "56  mths_since_recent_bc   [-inf,4.0)     9.0\n",
       "57  mths_since_recent_bc   [4.0,12.0)     4.0\n",
       "58  mths_since_recent_bc  [12.0,20.0)     1.0\n",
       "59  mths_since_recent_bc  [20.0,36.0)    -4.0\n",
       "60  mths_since_recent_bc   [36.0,inf)   -11.0])"
      ]
     },
     "execution_count": 29,
     "metadata": {},
     "output_type": "execute_result"
    }
   ],
   "source": [
    "card_values"
   ]
  },
  {
   "cell_type": "markdown",
   "metadata": {},
   "source": [
    "# The scorecard\n",
    "The model is baselined to 251, with the following variables, ranges, and scores.\n",
    "\n",
    "\n",
    "| Variables  \t            | Range         \t    | Score     |\n",
    "|:-----------------------\t|:---------------------:|---------:\t|\n",
    "| `mo_sin_old_rev_tl_op`  \t| {-inf,50.0}         \t| 7.0     \t|\n",
    "| mo_sin_old_rev_tl_op  \t| {50.0,140.0}        \t| 3.0     \t|\n",
    "| mo_sin_old_rev_tl_op  \t| {140.0,190.0}       \t| -1.0    \t|\n",
    "| mo_sin_old_rev_tl_op  \t| {190.0,inf}         \t| -4.0    \t|\n",
    "| `num_actv_rev_tl`       \t| {-inf,3.0}          \t| -6.0    \t|\n",
    "| num_actv_rev_tl       \t| {3.0,5.0}           \t| -3.0    \t|\n",
    "| num_actv_rev_tl       \t| {5.0,8.0}           \t| 1.0     \t|\n",
    "| num_actv_rev_tl       \t| {8.0,inf}           \t| 5.0     \t|\n",
    "| `bc_open_to_buy`        \t| missing             \t| -3.0    \t|\n",
    "| bc_open_to_buy        \t| {-inf,1000.0}       \t| 13.0    \t|\n",
    "| bc_open_to_buy        \t| {1000.0,6000.0}     \t| 7.0     \t|\n",
    "| bc_open_to_buy        \t| {6000.0,12000.0}    \t| -3.0    \t|\n",
    "| bc_open_to_buy        \t| {12000.0,29000.0}   \t| -13.0   \t|\n",
    "| bc_open_to_buy        \t| {29000.0,inf}       \t| -31.0   \t|\n",
    "| `inq_last_6mths `       \t| {-inf,1.0}          \t| -10.0   \t|\n",
    "| inq_last_6mths        \t| {1.0,2.0}           \t| 8.0     \t|\n",
    "| inq_last_6mths        \t| {2.0,inf}           \t| 23.0    \t|\n",
    "| `bc_util `              \t| missing             \t| -2.0    \t|\n",
    "| bc_util               \t| {-inf,35.0}         \t| -9.0    \t|\n",
    "| bc_util               \t| {35.0,50.0}         \t| -4.0    \t|\n",
    "| bc_util               \t| {50.0,90.0}         \t| 2.0     \t|\n",
    "| bc_util               \t| {90.0,inf}          \t| 9.0     \t|\n",
    "| `mort_acc `             \t| {-inf,1.0}          \t| 2.0     \t|\n",
    "| mort_acc              \t| {1.0,2.0}           \t| -0.0    \t|\n",
    "| mort_acc              \t| {2.0,4.0}           \t| -2.0    \t|\n",
    "| mort_acc              \t| {4.0,inf}           \t| -3.0    \t|\n",
    "| `mo_sin_rcnt_rev_tl_op` \t| {-inf,4.0}          \t| -2.0    \t|\n",
    "| mo_sin_rcnt_rev_tl_op \t| {4.0,17.0}          \t| -0.0    \t|\n",
    "| mo_sin_rcnt_rev_tl_op \t| {17.0,26.0}         \t| 2.0     \t|\n",
    "| mo_sin_rcnt_rev_tl_op \t| {26.0,inf}          \t| 5.0     \t|\n",
    "| `avg_cur_bal`           \t| {-inf,8000.0}       \t| 5.0     \t|\n",
    "| avg_cur_bal           \t| {8000.0,16000.0}    \t| -1.0    \t|\n",
    "| avg_cur_bal           \t| {16000.0,23000.0}   \t| -6.0    \t|\n",
    "| avg_cur_bal           \t| {23000.0,35000.0}   \t| -10.0   \t|\n",
    "| avg_cur_bal           \t| {35000.0,inf}       \t| -17.0   \t|\n",
    "| `tot_cur_bal`           \t| {-inf,20000.0}      \t| 1.0     \t|\n",
    "| tot_cur_bal           \t| {20000.0,100000.0}  \t| 4.0     \t|\n",
    "| tot_cur_bal           \t| {100000.0,200000.0} \t| -1.0    \t|\n",
    "| tot_cur_bal           \t| {200000.0,360000.0} \t| -5.0    \t|\n",
    "| tot_cur_bal           \t| {360000.0,inf}      \t| -10.0   \t|\n",
    "| `mo_sin_rcnt_tl`        \t| {-inf,4.0}          \t| 5.0     \t|\n",
    "| mo_sin_rcnt_tl        \t| {4.0,7.0}           \t| 1.0     \t|\n",
    "| mo_sin_rcnt_tl        \t| {7.0,10.0}          \t| -1.0    \t|\n",
    "| mo_sin_rcnt_tl        \t| {10.0,18.0}         \t| -5.0    \t|\n",
    "| mo_sin_rcnt_tl        \t| {18.0,inf}          \t| -12.0   \t|\n",
    "| `dti`                   \t| missing             \t| -28.0   \t|\n",
    "| dti                   \t| {-inf,12.0}         \t| -11.0   \t|\n",
    "| dti                   \t| {12.0,18.0}         \t| -5.0    \t|\n",
    "| dti                   \t| {18.0,24.0}         \t| 2.0     \t|\n",
    "| dti                   \t| {24.0,inf}          \t| 11.0    \t|\n",
    "| `annual_inc`            \t| {-inf,60000.0}      \t| 6.0     \t|\n",
    "| annual_inc            \t| {60000.0,80000.0}   \t| 1.0     \t|\n",
    "| annual_inc            \t| {80000.0,115000.0}  \t| -5.0    \t|\n",
    "| annual_inc            \t| {115000.0,inf}      \t| -15.0   \t|\n",
    "| `acc_open_past_24mths ` \t| {-inf,3.0}          \t| -24.0   \t|\n",
    "| acc_open_past_24mths  \t| {3.0,4.0}           \t| -9.0    \t|\n",
    "| acc_open_past_24mths  \t| {4.0,8.0}           \t| 7.0     \t|\n",
    "| acc_open_past_24mths  \t| {8.0,inf}           \t| 25.0    \t|\n",
    "| `revol_bal `            \t| {-inf,2000.0}       \t| 1.0     \t|\n",
    "| revol_bal             \t| {2000.0,22000.0}    \t| -3.0    \t|\n",
    "| revol_bal             \t| {22000.0,42000.0}   \t| 4.0     \t|\n",
    "| revol_bal             \t| {42000.0,inf}       \t| 21.0    \t|\n",
    "| revol_util            \t| missing             \t| 10.0    \t|\n",
    "| revol_util            \t| {-inf,22.0}         \t| -7.0    \t|\n",
    "| revol_util            \t| {22.0,40.0}         \t| -3.0    \t|\n",
    "| revol_util            \t| {40.0,54.0}         \t| 0.0     \t|\n",
    "| revol_util            \t| {54.0,inf}          \t| 3.0     \t|\n",
    "| `loan_amnt `            \t| {-inf,6000.0}       \t| -30.0   \t|\n",
    "| loan_amnt             \t| {6000.0,11000.0}    \t| -11.0   \t|\n",
    "| loan_amnt             \t| {11000.0,25000.0}   \t| 14.0    \t|\n",
    "| loan_amnt             \t| {25000.0,inf}       \t| 2.0     \t|\n",
    "|` total_rev_hi_lim `     \t| {-inf,16000.0}      \t| 12.0    \t|\n",
    "| total_rev_hi_lim      \t| {16000.0,26000.0}   \t| 6.0     \t|\n",
    "| total_rev_hi_lim      \t| {26000.0,50000.0}   \t| -3.0    \t|\n",
    "| total_rev_hi_lim      \t| {50000.0,82000.0}   \t| -19.0   \t|\n",
    "| total_rev_hi_lim      \t| {82000.0,inf}       \t| -41.0   \t|\n",
    "| `mths_since_recent_bc ` \t| missing             \t| -4.0    \t|\n",
    "| mths_since_recent_bc  \t| {-inf,4.0}          \t| 9.0     \t|\n",
    "| mths_since_recent_bc  \t| {4.0,12.0}          \t| 4.0     \t|\n",
    "| mths_since_recent_bc  \t| {12.0,20.0}         \t| 1.0     \t|\n",
    "| mths_since_recent_bc  \t| {20.0,36.0}         \t| -4.0    \t|\n",
    "| mths_since_recent_bc  \t| {36.0,inf}          \t| -11.0]} \t|"
   ]
  },
  {
   "cell_type": "markdown",
   "metadata": {},
   "source": []
  },
  {
   "cell_type": "code",
   "execution_count": 15,
   "metadata": {
    "ExecuteTime": {
     "end_time": "2019-07-10T22:45:21.864073Z",
     "start_time": "2019-07-10T22:45:21.734384Z"
    }
   },
   "outputs": [
    {
     "data": {
      "text/plain": [
       "{'CREDIT_HISTORY':          variable          bin  count  count_distr  good  bad   badprob  \\\n",
       " 0  CREDIT_HISTORY  [-inf,14.0)    955     0.414317   127  828  0.867016   \n",
       " 1  CREDIT_HISTORY  [14.0,15.0)    169     0.073319    20  149  0.881657   \n",
       " 2  CREDIT_HISTORY  [15.0,16.0)    142     0.061605    10  132  0.929577   \n",
       " 3  CREDIT_HISTORY  [16.0,17.0)    131     0.056833    22  109  0.832061   \n",
       " 4  CREDIT_HISTORY  [17.0,19.0)    195     0.084599    19  176  0.902564   \n",
       " 5  CREDIT_HISTORY  [19.0,26.0)    423     0.183514    60  363  0.858156   \n",
       " 6  CREDIT_HISTORY  [26.0,30.0)    133     0.057701    27  106  0.796992   \n",
       " 7  CREDIT_HISTORY   [30.0,inf)    157     0.068113    19  138  0.878981   \n",
       " \n",
       "         woe    bin_iv  total_iv breaks  is_special_values  \n",
       " 0 -0.009549  0.000038  0.058411   14.0              False  \n",
       " 1  0.123839  0.001074  0.058411   15.0              False  \n",
       " 2  0.695842  0.023013  0.058411   16.0              False  \n",
       " 3 -0.284069  0.005084  0.058411   17.0              False  \n",
       " 4  0.341670  0.008698  0.058411   19.0              False  \n",
       " 5 -0.084316  0.001346  0.058411   26.0              False  \n",
       " 6 -0.516772  0.018522  0.058411   30.0              False  \n",
       " 7  0.098440  0.000636  0.058411    inf              False  ,\n",
       " 'annual_inc':      variable                bin  count  count_distr  good  bad   badprob  \\\n",
       " 0  annual_inc     [-inf,45000.0)    522     0.226464    90  432  0.827586   \n",
       " 1  annual_inc  [45000.0,65000.0)    593     0.257267    75  518  0.873524   \n",
       " 2  annual_inc  [65000.0,70000.0)    134     0.058134     8  126  0.940299   \n",
       " 3  annual_inc  [70000.0,80000.0)    233     0.101085    22  211  0.905579   \n",
       " 4  annual_inc  [80000.0,90000.0)    203     0.088069    32  171  0.842365   \n",
       " 5  annual_inc      [90000.0,inf)    620     0.268980    77  543  0.875806   \n",
       " \n",
       "         woe    bin_iv  total_iv   breaks  is_special_values  \n",
       " 0 -0.315759  0.025311  0.075701  45000.0              False  \n",
       " 1  0.048112  0.000585  0.075701  65000.0              False  \n",
       " 2  0.872466  0.031978  0.075701  70000.0              False  \n",
       " 3  0.376441  0.012452  0.075701  80000.0              False  \n",
       " 4 -0.208447  0.004128  0.075701  90000.0              False  \n",
       " 5  0.068929  0.001246  0.075701      inf              False  ,\n",
       " 'acc_open_past_24mths':                variable         bin  count  count_distr  good  bad   badprob  \\\n",
       " 0  acc_open_past_24mths  [-inf,3.0)    628     0.272451    51  577  0.918790   \n",
       " 1  acc_open_past_24mths   [3.0,4.0)    359     0.155748    42  317  0.883008   \n",
       " 2  acc_open_past_24mths   [4.0,5.0)    315     0.136659    41  274  0.869841   \n",
       " 3  acc_open_past_24mths   [5.0,9.0)    765     0.331887   122  643  0.840523   \n",
       " 4  acc_open_past_24mths   [9.0,inf)    238     0.103254    48  190  0.798319   \n",
       " \n",
       "         woe    bin_iv  total_iv breaks  is_special_values  \n",
       " 0  0.541642  0.065318  0.117907    3.0              False  \n",
       " 1  0.136858  0.002773  0.117907    4.0              False  \n",
       " 2  0.015181  0.000031  0.117907    5.0              False  \n",
       " 3 -0.222251  0.017775  0.117907    9.0              False  \n",
       " 4 -0.508552  0.032009  0.117907    inf              False  ,\n",
       " 'mo_sin_old_rev_tl_op':                variable            bin  count  count_distr  good  bad  \\\n",
       " 0  mo_sin_old_rev_tl_op   [-inf,120.0)    638     0.276790    88  550   \n",
       " 1  mo_sin_old_rev_tl_op  [120.0,130.0)    121     0.052495    12  109   \n",
       " 2  mo_sin_old_rev_tl_op  [130.0,140.0)    132     0.057267    23  109   \n",
       " 3  mo_sin_old_rev_tl_op  [140.0,160.0)    236     0.102386    32  204   \n",
       " 4  mo_sin_old_rev_tl_op  [160.0,220.0)    544     0.236009    60  484   \n",
       " 5  mo_sin_old_rev_tl_op  [220.0,270.0)    256     0.111063    38  218   \n",
       " 6  mo_sin_old_rev_tl_op  [270.0,320.0)    155     0.067245    16  139   \n",
       " 7  mo_sin_old_rev_tl_op    [320.0,inf)    223     0.096746    35  188   \n",
       " \n",
       "     badprob       woe    bin_iv  total_iv breaks  is_special_values  \n",
       " 0  0.862069 -0.051793  0.000757  0.032889  120.0              False  \n",
       " 1  0.900826  0.322067  0.004831  0.032889  130.0              False  \n",
       " 2  0.825758 -0.328521  0.006960  0.032889  140.0              False  \n",
       " 3  0.864407 -0.031991  0.000106  0.032889  160.0              False  \n",
       " 4  0.889706  0.203366  0.009052  0.032889  220.0              False  \n",
       " 5  0.851562 -0.137466  0.002207  0.032889  270.0              False  \n",
       " 6  0.896774  0.277511  0.004672  0.032889  320.0              False  \n",
       " 7  0.843049 -0.203281  0.004305  0.032889    inf              False  ,\n",
       " 'num_actv_rev_tl':           variable         bin  count  count_distr  good   bad   badprob  \\\n",
       " 0  num_actv_rev_tl  [-inf,3.0)    354     0.153579    37   317  0.895480   \n",
       " 1  num_actv_rev_tl   [3.0,7.0)   1241     0.538395   171  1070  0.862208   \n",
       " 2  num_actv_rev_tl   [7.0,8.0)    206     0.089371    16   190  0.922330   \n",
       " 3  num_actv_rev_tl  [8.0,10.0)    246     0.106725    43   203  0.825203   \n",
       " 4  num_actv_rev_tl  [10.0,inf)    258     0.111931    37   221  0.856589   \n",
       " \n",
       "         woe    bin_iv  total_iv breaks  is_special_values  \n",
       " 0  0.263609  0.009677  0.050443    3.0              False  \n",
       " 1 -0.050624  0.001406  0.050443    7.0              False  \n",
       " 2  0.590061  0.024972  0.050443    8.0              False  \n",
       " 3 -0.332369  0.013294  0.050443   10.0              False  \n",
       " 4 -0.097130  0.001094  0.050443    inf              False  ,\n",
       " 'bc_open_to_buy':          variable               bin  count  count_distr  good   bad   badprob  \\\n",
       " 0  bc_open_to_buy           missing     25     0.010846     4    21  0.840000   \n",
       " 1  bc_open_to_buy     [-inf,6000.0)   1195     0.518438   175  1020  0.853556   \n",
       " 2  bc_open_to_buy   [6000.0,9000.0)    249     0.108026    46   203  0.815261   \n",
       " 3  bc_open_to_buy  [9000.0,16000.0)    344     0.149241    40   304  0.883721   \n",
       " 4  bc_open_to_buy     [16000.0,inf)    492     0.213449    39   453  0.920732   \n",
       " \n",
       "         woe    bin_iv  total_iv   breaks  is_special_values  \n",
       " 0 -0.226147  0.000602  0.087195  missing               True  \n",
       " 1 -0.121603  0.008015  0.087195   6000.0              False  \n",
       " 2 -0.399810  0.019937  0.087195   9000.0              False  \n",
       " 3  0.143774  0.002925  0.087195  16000.0              False  \n",
       " 4  0.567956  0.055715  0.087195      inf              False  ,\n",
       " 'revol_bal':     variable                bin  count  count_distr  good  bad   badprob  \\\n",
       " 0  revol_bal      [-inf,3000.0)    221     0.095879    34  187  0.846154   \n",
       " 1  revol_bal    [3000.0,8000.0)    583     0.252928    73  510  0.874786   \n",
       " 2  revol_bal   [8000.0,11000.0)    325     0.140998    48  277  0.852308   \n",
       " 3  revol_bal  [11000.0,13000.0)    181     0.078525    14  167  0.922652   \n",
       " 4  revol_bal  [13000.0,18000.0)    294     0.127549    47  247  0.840136   \n",
       " 5  revol_bal  [18000.0,23000.0)    230     0.099783    26  204  0.886957   \n",
       " 6  revol_bal  [23000.0,34000.0)    251     0.108894    40  211  0.840637   \n",
       " 7  revol_bal      [34000.0,inf)    220     0.095445    22  198  0.900000   \n",
       " \n",
       "         woe    bin_iv  total_iv   breaks  is_special_values  \n",
       " 0 -0.179627  0.003303  0.052985   3000.0              False  \n",
       " 1  0.059577  0.000878  0.052985   8000.0              False  \n",
       " 2 -0.131558  0.002561  0.052985  11000.0              False  \n",
       " 3  0.594562  0.022240  0.052985  13000.0              False  \n",
       " 4 -0.225134  0.007017  0.052985  18000.0              False  \n",
       " 5  0.175649  0.002885  0.052985  23000.0              False  \n",
       " 6 -0.221396  0.005785  0.052985  34000.0              False  \n",
       " 7  0.312850  0.008316  0.052985      inf              False  ,\n",
       " 'inq_last_6mths':          variable         bin  count  count_distr  good   bad   badprob  \\\n",
       " 0  inq_last_6mths  [-inf,1.0)   1392     0.603905   150  1242  0.892241   \n",
       " 1  inq_last_6mths   [1.0,2.0)    620     0.268980    98   522  0.841935   \n",
       " 2  inq_last_6mths   [2.0,inf)    293     0.127115    56   237  0.808874   \n",
       " \n",
       "         woe    bin_iv  total_iv breaks  is_special_values  \n",
       " 0  0.229468  0.029204   0.07127    1.0              False  \n",
       " 1 -0.211675  0.013018   0.07127    2.0              False  \n",
       " 2 -0.441666  0.029048   0.07127    inf              False  ,\n",
       " 'bc_util':   variable          bin  count  count_distr  good  bad   badprob       woe  \\\n",
       " 0  bc_util      missing     26     0.011280     4   22  0.846154 -0.179627   \n",
       " 1  bc_util  [-inf,26.0)    374     0.162256    43  331  0.885027  0.156544   \n",
       " 2  bc_util  [26.0,34.0)    161     0.069848    10  151  0.937888  0.830320   \n",
       " 3  bc_util  [34.0,42.0)    161     0.069848    29  132  0.819876 -0.368869   \n",
       " 4  bc_util  [42.0,54.0)    285     0.123644    37  248  0.870175  0.018136   \n",
       " 5  bc_util  [54.0,64.0)    232     0.100651    21  211  0.909483  0.422961   \n",
       " 6  bc_util  [64.0,86.0)    578     0.250759    88  490  0.847751 -0.167306   \n",
       " 7  bc_util  [86.0,94.0)    249     0.108026    27  222  0.891566  0.222466   \n",
       " 8  bc_util   [94.0,inf)    239     0.103688    45  194  0.811715 -0.423179   \n",
       " \n",
       "      bin_iv  total_iv   breaks  is_special_values  \n",
       " 0  0.000389  0.099761  missing               True  \n",
       " 1  0.003752  0.099761     26.0              False  \n",
       " 2  0.035345  0.099761     34.0              False  \n",
       " 3  0.010855  0.099761     42.0              False  \n",
       " 4  0.000040  0.099761     54.0              False  \n",
       " 5  0.015382  0.099761     64.0              False  \n",
       " 6  0.007461  0.099761     86.0              False  \n",
       " 7  0.004923  0.099761     94.0              False  \n",
       " 8  0.021614  0.099761      inf              False  ,\n",
       " 'revol_util':      variable          bin  count  count_distr  good  bad   badprob       woe  \\\n",
       " 0  revol_util  [-inf,24.0)    373     0.161822    38  335  0.898123  0.292170   \n",
       " 1  revol_util  [24.0,30.0)    153     0.066377    11  142  0.928105  0.673557   \n",
       " 2  revol_util  [30.0,46.0)    480     0.208243    64  416  0.866667 -0.012572   \n",
       " 3  revol_util  [46.0,50.0)    124     0.053796    11  113  0.911290  0.445118   \n",
       " 4  revol_util  [50.0,58.0)    256     0.111063    46  210  0.820312 -0.365908   \n",
       " 5  revol_util  [58.0,66.0)    270     0.117137    39  231  0.855556 -0.105519   \n",
       " 6  revol_util  [66.0,72.0)    178     0.077223    18  160  0.898876  0.300427   \n",
       " 7  revol_util   [72.0,inf)    471     0.204338    77  394  0.836518 -0.251829   \n",
       " \n",
       "      bin_iv  total_iv breaks  is_special_values  \n",
       " 0  0.012393  0.083639   24.0              False  \n",
       " 1  0.023427  0.083639   30.0              False  \n",
       " 2  0.000033  0.083639   46.0              False  \n",
       " 3  0.009030  0.083639   50.0              False  \n",
       " 4  0.016967  0.083639   58.0              False  \n",
       " 5  0.001356  0.083639   66.0              False  \n",
       " 6  0.006234  0.083639   72.0              False  \n",
       " 7  0.014200  0.083639    inf              False  ,\n",
       " 'RENT':   variable         bin  count  count_distr  good   bad   badprob  woe  bin_iv  \\\n",
       " 0     RENT  [-inf,inf)   2305          1.0   304  2001  0.868113  0.0     0.0   \n",
       " \n",
       "    total_iv breaks  is_special_values  \n",
       " 0       0.0    inf              False  ,\n",
       " 'loan_amnt':     variable                bin  count  count_distr  good  bad   badprob  \\\n",
       " 0  loan_amnt      [-inf,4000.0)    135     0.058568    17  118  0.874074   \n",
       " 1  loan_amnt    [4000.0,7000.0)    315     0.136659    24  291  0.923810   \n",
       " 2  loan_amnt   [7000.0,12000.0)    561     0.243384    76  485  0.864528   \n",
       " 3  loan_amnt  [12000.0,13000.0)    141     0.061171    10  131  0.929078   \n",
       " 4  loan_amnt  [13000.0,20000.0)    474     0.205640    79  395  0.833333   \n",
       " 5  loan_amnt      [20000.0,inf)    679     0.294577    98  581  0.855670   \n",
       " \n",
       "         woe    bin_iv  total_iv   breaks  is_special_values  \n",
       " 0  0.053097  0.000162  0.083951   4000.0              False  \n",
       " 1  0.610895  0.040612  0.083951   7000.0              False  \n",
       " 2 -0.030959  0.000236  0.083951  12000.0              False  \n",
       " 3  0.688238  0.022418  0.083951  13000.0              False  \n",
       " 4 -0.274937  0.017175  0.083951  20000.0              False  \n",
       " 5 -0.104591  0.003348  0.083951      inf              False  ,\n",
       " 'mort_acc':    variable         bin  count  count_distr  good   bad   badprob       woe  \\\n",
       " 0  mort_acc  [-inf,2.0)   1390     0.603037   198  1192  0.857554 -0.089254   \n",
       " 1  mort_acc   [2.0,3.0)    373     0.161822    42   331  0.887399  0.180074   \n",
       " 2  mort_acc   [3.0,5.0)    359     0.155748    34   325  0.905292  0.373090   \n",
       " 3  mort_acc   [5.0,inf)    183     0.079393    30   153  0.836066 -0.255134   \n",
       " \n",
       "      bin_iv  total_iv breaks  is_special_values  \n",
       " 0  0.004964  0.034412    2.0              False  \n",
       " 1  0.004909  0.034412    3.0              False  \n",
       " 2  0.018870  0.034412    5.0              False  \n",
       " 3  0.005670  0.034412    inf              False  ,\n",
       " 'credit_card':       variable         bin  count  count_distr  good   bad   badprob  woe  \\\n",
       " 0  credit_card  [-inf,inf)   2305          1.0   304  2001  0.868113  0.0   \n",
       " \n",
       "    bin_iv  total_iv breaks  is_special_values  \n",
       " 0     0.0       0.0    inf              False  ,\n",
       " 'mo_sin_rcnt_rev_tl_op':                 variable          bin  count  count_distr  good   bad  \\\n",
       " 0  mo_sin_rcnt_rev_tl_op   [-inf,3.0)    345     0.149675    57   288   \n",
       " 1  mo_sin_rcnt_rev_tl_op   [3.0,21.0)   1495     0.648590   210  1285   \n",
       " 2  mo_sin_rcnt_rev_tl_op  [21.0,34.0)    255     0.110629    17   238   \n",
       " 3  mo_sin_rcnt_rev_tl_op   [34.0,inf)    210     0.091106    20   190   \n",
       " \n",
       "     badprob       woe    bin_iv  total_iv breaks  is_special_values  \n",
       " 0  0.834783 -0.264465  0.011523   0.07333    3.0              False  \n",
       " 1  0.859532 -0.072968  0.003547   0.07333   21.0              False  \n",
       " 2  0.933333  0.754683  0.047560   0.07333   34.0              False  \n",
       " 3  0.904762  0.366917  0.010700   0.07333    inf              False  ,\n",
       " 'avg_cur_bal':       variable                bin  count  count_distr  good  bad   badprob  \\\n",
       " 0  avg_cur_bal      [-inf,3000.0)    540     0.234273    74  466  0.862963   \n",
       " 1  avg_cur_bal    [3000.0,5000.0)    366     0.158785    63  303  0.827869   \n",
       " 2  avg_cur_bal    [5000.0,9000.0)    370     0.160521    46  324  0.875676   \n",
       " 3  avg_cur_bal   [9000.0,11000.0)    129     0.055965     6  123  0.953488   \n",
       " 4  avg_cur_bal  [11000.0,15000.0)    197     0.085466    33  164  0.832487   \n",
       " 5  avg_cur_bal  [15000.0,22000.0)    255     0.110629    26  229  0.898039   \n",
       " 6  avg_cur_bal      [22000.0,inf)    448     0.194360    56  392  0.875000   \n",
       " \n",
       "         woe    bin_iv  total_iv   breaks  is_special_values  \n",
       " 0 -0.044254  0.000466  0.082722   3000.0              False  \n",
       " 1 -0.313777  0.017513  0.082722   5000.0              False  \n",
       " 2  0.067727  0.000718  0.082722   9000.0              False  \n",
       " 3  1.136050  0.047410  0.082722  11000.0              False  \n",
       " 4 -0.281016  0.007473  0.082722  15000.0              False  \n",
       " 5  0.291251  0.008422  0.082722  22000.0              False  \n",
       " 6  0.061536  0.000719  0.082722      inf              False  ,\n",
       " 'MORTGAGE':    variable         bin  count  count_distr  good   bad   badprob  woe  \\\n",
       " 0  MORTGAGE  [-inf,inf)   2305          1.0   304  2001  0.868113  0.0   \n",
       " \n",
       "    bin_iv  total_iv breaks  is_special_values  \n",
       " 0     0.0       0.0    inf              False  ,\n",
       " 'mo_sin_rcnt_tl':          variable          bin  count  count_distr  good  bad   badprob  \\\n",
       " 0  mo_sin_rcnt_tl   [-inf,4.0)    700     0.303688   123  577  0.824286   \n",
       " 1  mo_sin_rcnt_tl    [4.0,6.0)    410     0.177874    58  352  0.858537   \n",
       " 2  mo_sin_rcnt_tl   [6.0,15.0)    894     0.387852   102  792  0.885906   \n",
       " 3  mo_sin_rcnt_tl  [15.0,20.0)    136     0.059002     5  131  0.963235   \n",
       " 4  mo_sin_rcnt_tl   [20.0,inf)    165     0.071584    16  149  0.903030   \n",
       " \n",
       "         woe    bin_iv  total_iv breaks  is_special_values  \n",
       " 0 -0.338717  0.039376  0.125832    4.0              False  \n",
       " 1 -0.081186  0.001208  0.125832    6.0              False  \n",
       " 2  0.165214  0.009958  0.125832   15.0              False  \n",
       " 3  1.381385  0.067715  0.125832   20.0              False  \n",
       " 4  0.346983  0.007575  0.125832    inf              False  ,\n",
       " 'total_rev_hi_lim':            variable                bin  count  count_distr  good  bad  \\\n",
       " 0  total_rev_hi_lim     [-inf,12000.0)    419     0.181779    75  344   \n",
       " 1  total_rev_hi_lim  [12000.0,24000.0)    667     0.289371    78  589   \n",
       " 2  total_rev_hi_lim  [24000.0,36000.0)    471     0.204338    77  394   \n",
       " 3  total_rev_hi_lim  [36000.0,60000.0)    444     0.192625    39  405   \n",
       " 4  total_rev_hi_lim      [60000.0,inf)    304     0.131887    35  269   \n",
       " \n",
       "     badprob       woe    bin_iv  total_iv   breaks  is_special_values  \n",
       " 0  0.821002 -0.361221  0.027018  0.083188  12000.0              False  \n",
       " 1  0.883058  0.137343  0.005188  0.083188  24000.0              False  \n",
       " 2  0.836518 -0.251829  0.014200  0.083188  36000.0              False  \n",
       " 3  0.912162  0.455951  0.033790  0.083188  60000.0              False  \n",
       " 4  0.884868  0.154989  0.002991  0.083188      inf              False  ,\n",
       " 'dti':   variable          bin  count  count_distr  good  bad   badprob       woe  \\\n",
       " 0      dti      missing      4     0.001735     1    3  0.750000 -0.785762   \n",
       " 1      dti   [-inf,8.0)    250     0.108460    17  233  0.932000  0.733450   \n",
       " 2      dti   [8.0,13.0)    382     0.165727    46  336  0.879581  0.104095   \n",
       " 3      dti  [13.0,24.0)    988     0.428633   144  844  0.854251 -0.116035   \n",
       " 4      dti  [24.0,28.0)    293     0.127115    30  263  0.897611  0.286582   \n",
       " 5      dti   [28.0,inf)    388     0.168330    66  322  0.829897 -0.299478   \n",
       " \n",
       "      bin_iv  total_iv   breaks  is_special_values  \n",
       " 0  0.001407  0.079757  missing               True  \n",
       " 1  0.044389  0.079757      8.0              False  \n",
       " 2  0.001728  0.079757     13.0              False  \n",
       " 3  0.006022  0.079757     24.0              False  \n",
       " 4  0.009386  0.079757     28.0              False  \n",
       " 5  0.016826  0.079757      inf              False  ,\n",
       " 'mths_since_recent_bc':                variable          bin  count  count_distr  good   bad  \\\n",
       " 0  mths_since_recent_bc      missing     21     0.009111     4    17   \n",
       " 1  mths_since_recent_bc  [-inf,22.0)   1466     0.636009   223  1243   \n",
       " 2  mths_since_recent_bc  [22.0,82.0)    674     0.292408    60   614   \n",
       " 3  mths_since_recent_bc   [82.0,inf)    144     0.062473    17   127   \n",
       " \n",
       "     badprob       woe    bin_iv  total_iv   breaks  is_special_values  \n",
       " 0  0.809524 -0.437456  0.002039  0.069987  missing               True  \n",
       " 1  0.847885 -0.166263  0.018682  0.069987     22.0              False  \n",
       " 2  0.910979  0.441276  0.048310  0.069987     82.0              False  \n",
       " 3  0.881944  0.126599  0.000955  0.069987      inf              False  }"
      ]
     },
     "execution_count": 15,
     "metadata": {},
     "output_type": "execute_result"
    }
   ],
   "source": [
    "bins_adj"
   ]
  },
  {
   "cell_type": "code",
   "execution_count": null,
   "metadata": {},
   "outputs": [],
   "source": [
    "# ENDS # ENDS # ENDS\n",
    "#########################################################################################\n",
    "# ENDS ####### (c) Peter Went, 2019\n",
    "#########################################################################################"
   ]
  },
  {
   "cell_type": "code",
   "execution_count": null,
   "metadata": {},
   "outputs": [],
   "source": []
  },
  {
   "cell_type": "code",
   "execution_count": null,
   "metadata": {},
   "outputs": [],
   "source": []
  }
 ],
 "metadata": {
  "kernelspec": {
   "display_name": "Python 3",
   "language": "python",
   "name": "python3"
  },
  "language_info": {
   "codemirror_mode": {
    "name": "ipython",
    "version": 3
   },
   "file_extension": ".py",
   "mimetype": "text/x-python",
   "name": "python",
   "nbconvert_exporter": "python",
   "pygments_lexer": "ipython3",
   "version": "3.7.3"
  },
  "toc": {
   "base_numbering": 1,
   "nav_menu": {},
   "number_sections": true,
   "sideBar": true,
   "skip_h1_title": false,
   "title_cell": "Table of Contents",
   "title_sidebar": "Contents",
   "toc_cell": false,
   "toc_position": {},
   "toc_section_display": true,
   "toc_window_display": true
  },
  "varInspector": {
   "cols": {
    "lenName": 16,
    "lenType": 16,
    "lenVar": 40
   },
   "kernels_config": {
    "python": {
     "delete_cmd_postfix": "",
     "delete_cmd_prefix": "del ",
     "library": "var_list.py",
     "varRefreshCmd": "print(var_dic_list())"
    },
    "r": {
     "delete_cmd_postfix": ") ",
     "delete_cmd_prefix": "rm(",
     "library": "var_list.r",
     "varRefreshCmd": "cat(var_dic_list()) "
    }
   },
   "position": {
    "height": "303px",
    "left": "970px",
    "right": "20px",
    "top": "119px",
    "width": "372px"
   },
   "types_to_exclude": [
    "module",
    "function",
    "builtin_function_or_method",
    "instance",
    "_Feature"
   ],
   "window_display": false
  }
 },
 "nbformat": 4,
 "nbformat_minor": 2
}
